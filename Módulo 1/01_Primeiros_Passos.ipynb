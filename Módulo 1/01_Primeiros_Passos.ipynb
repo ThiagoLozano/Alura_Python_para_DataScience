{
  "nbformat": 4,
  "nbformat_minor": 0,
  "metadata": {
    "colab": {
      "name": "01_Primeiros_Passos.ipynb",
      "provenance": [],
      "collapsed_sections": [
        "M4gkMYl2l4Om",
        "Bg7bnQvbmJA2",
        "W6Jdnlx7mMFy",
        "w9ba1e4CoNse",
        "t0Y3_XEboe8T",
        "dRYA44Q5ouAt",
        "ThHIE-Kuo2Lu",
        "nly2vDIJo_X-",
        "PElcC3wgpUjV",
        "MBLWynOzpd_Y",
        "d5Otp3udqDEc",
        "OtqVCuuvqYTh",
        "jZEjMWWlq6fN",
        "dJsQPqlmrAXg",
        "zD9x7BgarKnm"
      ]
    },
    "kernelspec": {
      "name": "python3",
      "display_name": "Python 3"
    }
  },
  "cells": [
    {
      "cell_type": "markdown",
      "metadata": {
        "id": "iquMQAcxUi-r"
      },
      "source": [
        "# <font color=yellow> PYTHON PARA DATA SCIENCE - Primeiros Passos\n",
        "---"
      ]
    },
    {
      "cell_type": "markdown",
      "metadata": {
        "id": "rntH5O7RlP5P"
      },
      "source": [
        "# <font color=yellow> 1. Introdução ao Python\n",
        "---"
      ]
    },
    {
      "cell_type": "markdown",
      "metadata": {
        "id": "M4gkMYl2l4Om"
      },
      "source": [
        "# 1.1 Introdução"
      ]
    },
    {
      "cell_type": "markdown",
      "metadata": {
        "id": "UZ9E4rSjl-Bf"
      },
      "source": [
        "> Python é uma linguagem de programação de alto nível com suporte a múltiplos paradigmas de programação. É um projeto *open source* e desde seu surgimento, em 1991, vem se tornando uma das linguagens de programação interpretadas mais populares. \n",
        ">\n",
        "> Nos últimos anos Python desenvolveu uma comunidade ativa de processamento científico e análise de dados e vem se destacando como uma das linguagens mais relevantes quando o assunto é ciência de dados e machine learning, tanto no ambiente acadêmico como também no mercado."
      ]
    },
    {
      "cell_type": "markdown",
      "metadata": {
        "id": "Bg7bnQvbmJA2"
      },
      "source": [
        "# 1.2 Instalação e ambiente de desenvolvimento"
      ]
    },
    {
      "cell_type": "markdown",
      "metadata": {
        "id": "W6Jdnlx7mMFy"
      },
      "source": [
        "### Instalação Local\n",
        "\n",
        "### https://www.python.org/downloads/\n",
        "### ou\n",
        "### https://www.anaconda.com/distribution/\n",
        "\n",
        "### Google Colaboratory\n",
        "\n",
        "### https://colab.research.google.com"
      ]
    },
    {
      "cell_type": "markdown",
      "metadata": {
        "id": "QPb3LpKb6ASe"
      },
      "source": [
        "# <font color=yellow> 2. Linguagem de Alto Nível\n",
        "---"
      ]
    },
    {
      "cell_type": "markdown",
      "metadata": {
        "id": "w9ba1e4CoNse"
      },
      "source": [
        "# 2.1 Variáveis"
      ]
    },
    {
      "cell_type": "code",
      "metadata": {
        "id": "Mp1m9nYMoXtv"
      },
      "source": [
        "nome = \"Thiago\""
      ],
      "execution_count": null,
      "outputs": []
    },
    {
      "cell_type": "code",
      "metadata": {
        "id": "B29xzBhgoZLW"
      },
      "source": [
        "idade = 21"
      ],
      "execution_count": null,
      "outputs": []
    },
    {
      "cell_type": "code",
      "metadata": {
        "colab": {
          "base_uri": "https://localhost:8080/"
        },
        "id": "Ts3NMBYg7ItD",
        "outputId": "8d3297e0-5c19-4a0e-ca08-ff50a72090aa"
      },
      "source": [
        "print(\"O nome é {} e sua idade é {} anos\".format(nome,idade))"
      ],
      "execution_count": null,
      "outputs": [
        {
          "output_type": "stream",
          "text": [
            "O nome é Thiago e sua idade é 21 anos\n"
          ],
          "name": "stdout"
        }
      ]
    },
    {
      "cell_type": "markdown",
      "metadata": {
        "id": "t0Y3_XEboe8T"
      },
      "source": [
        "# 2.2 Função"
      ]
    },
    {
      "cell_type": "code",
      "metadata": {
        "colab": {
          "base_uri": "https://localhost:8080/"
        },
        "id": "ZL59hStJ7u4s",
        "outputId": "60a7fa82-7f66-4c7c-f219-fb2c517048c9"
      },
      "source": [
        "def saudacao():\n",
        "  nome = input(str(\"Qual o seu nome?: \"))\n",
        "  print(\"Olá, {}!\".format(nome))\n",
        "\n",
        "saudacao()"
      ],
      "execution_count": null,
      "outputs": [
        {
          "output_type": "stream",
          "text": [
            "Qual o seu nome?: Thiago\n",
            "Olá, Thiago!\n"
          ],
          "name": "stdout"
        }
      ]
    },
    {
      "cell_type": "markdown",
      "metadata": {
        "id": "bwVHd7-Z-XcG"
      },
      "source": [
        "# <font color=yellow> 3. Parâmetros e Condições\n",
        "---"
      ]
    },
    {
      "cell_type": "markdown",
      "metadata": {
        "id": "dRYA44Q5ouAt"
      },
      "source": [
        "# 3.1 Função com Parâmetro"
      ]
    },
    {
      "cell_type": "code",
      "metadata": {
        "id": "AjD5eL9ZoyIo"
      },
      "source": [
        "nome = \"Thiago\""
      ],
      "execution_count": null,
      "outputs": []
    },
    {
      "cell_type": "code",
      "metadata": {
        "colab": {
          "base_uri": "https://localhost:8080/"
        },
        "id": "ax2EgWUp-cSj",
        "outputId": "431eb055-0007-4558-ddd2-f0fd590e85fd"
      },
      "source": [
        "def saudacao_com_parametros(nome_da_pessoa):\n",
        "  print(\"Olá, {}!\".format(nome_da_pessoa))\n",
        "\n",
        "saudacao_com_parametros(nome)"
      ],
      "execution_count": null,
      "outputs": [
        {
          "output_type": "stream",
          "text": [
            "Olá, Thiago!\n"
          ],
          "name": "stdout"
        }
      ]
    },
    {
      "cell_type": "markdown",
      "metadata": {
        "id": "ThHIE-Kuo2Lu"
      },
      "source": [
        "# 3.2 Condições"
      ]
    },
    {
      "cell_type": "code",
      "metadata": {
        "id": "afVcdox-o5GV"
      },
      "source": [
        "idade = 20"
      ],
      "execution_count": null,
      "outputs": []
    },
    {
      "cell_type": "code",
      "metadata": {
        "colab": {
          "base_uri": "https://localhost:8080/"
        },
        "id": "qKH5REkT-wLG",
        "outputId": "98de65f5-25fd-47fc-89a6-89de20f6b512"
      },
      "source": [
        "def verifica_se_pode_dirigir(idade_pessoa):\n",
        "  if idade >= 18:\n",
        "    print(\"Tem permissão para dirigir\")\n",
        "  else:\n",
        "    print(\"Não tem permissão para dirigir\")\n",
        "  \n",
        "verifica_se_pode_dirigir(idade)\n"
      ],
      "execution_count": null,
      "outputs": [
        {
          "output_type": "stream",
          "text": [
            "Tem permissão para dirigir\n"
          ],
          "name": "stdout"
        }
      ]
    },
    {
      "cell_type": "markdown",
      "metadata": {
        "id": "nly2vDIJo_X-"
      },
      "source": [
        "# 3.3 Conversão de Tipos"
      ]
    },
    {
      "cell_type": "code",
      "metadata": {
        "colab": {
          "base_uri": "https://localhost:8080/"
        },
        "id": "EJ9tqlwS_p4v",
        "outputId": "a6c64b13-f710-41ff-ed5a-f948752841b4"
      },
      "source": [
        "def verifica_se_pode_dirigir_sem_parametro():\n",
        "  idade = int(input(\"Digite sua idade: \"))\n",
        "  if idade >= 18:\n",
        "    print(\"Tem permissão para dirigir\")\n",
        "  else:\n",
        "    print(\"Não tem permissão para dirigir\")\n",
        "\n",
        "verifica_se_pode_dirigir_sem_parametro()"
      ],
      "execution_count": null,
      "outputs": [
        {
          "output_type": "stream",
          "text": [
            "Digite sua idade: 15\n",
            "Não tem permissão para dirigir\n"
          ],
          "name": "stdout"
        }
      ]
    },
    {
      "cell_type": "markdown",
      "metadata": {
        "id": "XDHCch7jBl2X"
      },
      "source": [
        "# <font color=yellow> 4. lista, Repetições e Tipo Booleano\n",
        "---"
      ]
    },
    {
      "cell_type": "markdown",
      "metadata": {
        "id": "PElcC3wgpUjV"
      },
      "source": [
        "# 4.1 Tipos de Variáveis"
      ]
    },
    {
      "cell_type": "code",
      "metadata": {
        "id": "w9D6Is6fBpOK"
      },
      "source": [
        "idade = 20"
      ],
      "execution_count": null,
      "outputs": []
    },
    {
      "cell_type": "code",
      "metadata": {
        "colab": {
          "base_uri": "https://localhost:8080/"
        },
        "id": "5oX50HDip2fv",
        "outputId": "521c7a83-e858-4f1a-82db-a601cc00ca43"
      },
      "source": [
        "print(type(idade))"
      ],
      "execution_count": null,
      "outputs": [
        {
          "output_type": "stream",
          "text": [
            "<class 'int'>\n"
          ],
          "name": "stdout"
        }
      ]
    },
    {
      "cell_type": "code",
      "metadata": {
        "id": "G9KJSeRnpYtz"
      },
      "source": [
        "nome = \"Thiago\""
      ],
      "execution_count": null,
      "outputs": []
    },
    {
      "cell_type": "code",
      "metadata": {
        "colab": {
          "base_uri": "https://localhost:8080/"
        },
        "id": "gib4wIh2p4z9",
        "outputId": "9fd16a36-48e6-420d-f185-209d26be8d5c"
      },
      "source": [
        "print(type(nome))"
      ],
      "execution_count": null,
      "outputs": [
        {
          "output_type": "stream",
          "text": [
            "<class 'str'>\n"
          ],
          "name": "stdout"
        }
      ]
    },
    {
      "cell_type": "markdown",
      "metadata": {
        "id": "MBLWynOzpd_Y"
      },
      "source": [
        "# 4.2 Listas"
      ]
    },
    {
      "cell_type": "code",
      "metadata": {
        "id": "FGrs4waWCACn"
      },
      "source": [
        "lista_idades = [18, 22, 15, 50]"
      ],
      "execution_count": null,
      "outputs": []
    },
    {
      "cell_type": "code",
      "metadata": {
        "colab": {
          "base_uri": "https://localhost:8080/"
        },
        "id": "zmvLa7ZWppgW",
        "outputId": "c0f90d20-316c-415b-c5ae-72c0d40b3710"
      },
      "source": [
        "print(type(lista_idades))"
      ],
      "execution_count": null,
      "outputs": [
        {
          "output_type": "stream",
          "text": [
            "<class 'list'>\n"
          ],
          "name": "stdout"
        }
      ]
    },
    {
      "cell_type": "code",
      "metadata": {
        "colab": {
          "base_uri": "https://localhost:8080/"
        },
        "id": "ocM2ImSwCReR",
        "outputId": "5dfe38dc-1a1d-4fd9-ca5a-3fa3e000da3d"
      },
      "source": [
        "print(lista_idades[0])"
      ],
      "execution_count": null,
      "outputs": [
        {
          "output_type": "stream",
          "text": [
            "18\n"
          ],
          "name": "stdout"
        }
      ]
    },
    {
      "cell_type": "code",
      "metadata": {
        "colab": {
          "base_uri": "https://localhost:8080/"
        },
        "id": "V1iGVOU8pm3j",
        "outputId": "c6e270ac-95bc-4109-97b9-5592b865bba1"
      },
      "source": [
        "print(type(lista_idades[0]))"
      ],
      "execution_count": null,
      "outputs": [
        {
          "output_type": "stream",
          "text": [
            "<class 'int'>\n"
          ],
          "name": "stdout"
        }
      ]
    },
    {
      "cell_type": "code",
      "metadata": {
        "colab": {
          "base_uri": "https://localhost:8080/"
        },
        "id": "bUhzx4qiCaXo",
        "outputId": "88b1b4ff-0d5d-467d-c065-c3ba52a518b3"
      },
      "source": [
        "print(lista_idades[0:3])"
      ],
      "execution_count": null,
      "outputs": [
        {
          "output_type": "stream",
          "text": [
            "[18, 22, 15]\n"
          ],
          "name": "stdout"
        }
      ]
    },
    {
      "cell_type": "code",
      "metadata": {
        "colab": {
          "base_uri": "https://localhost:8080/"
        },
        "id": "DgsMAjnYC1hI",
        "outputId": "8bc7aee9-5d66-4602-e3c7-b9cf50946e17"
      },
      "source": [
        "print(lista_idades[1:])"
      ],
      "execution_count": null,
      "outputs": [
        {
          "output_type": "stream",
          "text": [
            "[22, 15, 50]\n"
          ],
          "name": "stdout"
        }
      ]
    },
    {
      "cell_type": "code",
      "metadata": {
        "colab": {
          "base_uri": "https://localhost:8080/"
        },
        "id": "2KHw2iJ1DJoC",
        "outputId": "db43d19c-738a-462d-d331-85287cce606a"
      },
      "source": [
        "print(lista_idades[-1])"
      ],
      "execution_count": null,
      "outputs": [
        {
          "output_type": "stream",
          "text": [
            "50\n"
          ],
          "name": "stdout"
        }
      ]
    },
    {
      "cell_type": "markdown",
      "metadata": {
        "id": "d5Otp3udqDEc"
      },
      "source": [
        "# 4.3 Laços e Loops"
      ]
    },
    {
      "cell_type": "code",
      "metadata": {
        "colab": {
          "base_uri": "https://localhost:8080/"
        },
        "id": "bpx0zzH2DRYs",
        "outputId": "1ecda539-7f62-4ad2-8e54-9b476874f635"
      },
      "source": [
        "def verifica_se_pode_dirigir(idade):\n",
        "  if idade >= 18:\n",
        "    print(\"{} anos de idade TEM PERMISSÃO para dirigir\".format(idade))\n",
        "  else:\n",
        "    print(\"{} anos de idade NÃO TEM PERMISSÃO para dirigir\".format(idade))\n",
        "\n",
        "for c in lista_idades:\n",
        "  verifica_se_pode_dirigir(c)"
      ],
      "execution_count": null,
      "outputs": [
        {
          "output_type": "stream",
          "text": [
            "18 anos de idade TEM PERMISSÃO para dirigir\n",
            "22 anos de idade TEM PERMISSÃO para dirigir\n",
            "15 anos de idade NÃO TEM PERMISSÃO para dirigir\n",
            "50 anos de idade TEM PERMISSÃO para dirigir\n"
          ],
          "name": "stdout"
        }
      ]
    },
    {
      "cell_type": "code",
      "metadata": {
        "colab": {
          "base_uri": "https://localhost:8080/"
        },
        "id": "TcrZYpilEbZ9",
        "outputId": "df875c41-af09-4a6a-af2d-4c1775a4ef2c"
      },
      "source": [
        "def verifica_se_pode_dirigir():\n",
        "  for idade in lista_idades:\n",
        "    if idade >= 18:\n",
        "      print(\"{} anos de idade TEM PERMISSÃO para dirigir\".format(idade))\n",
        "    else:\n",
        "      print(\"{} anos de idade NÃO TEM PERMISSÃO para dirigir\".format(idade))\n",
        "\n",
        "verifica_se_pode_dirigir()"
      ],
      "execution_count": null,
      "outputs": [
        {
          "output_type": "stream",
          "text": [
            "18 anos de idade TEM PERMISSÃO para dirigir\n",
            "22 anos de idade TEM PERMISSÃO para dirigir\n",
            "15 anos de idade NÃO TEM PERMISSÃO para dirigir\n",
            "50 anos de idade TEM PERMISSÃO para dirigir\n"
          ],
          "name": "stdout"
        }
      ]
    },
    {
      "cell_type": "markdown",
      "metadata": {
        "id": "OtqVCuuvqYTh"
      },
      "source": [
        "# 4.4 Tipo Booleano"
      ]
    },
    {
      "cell_type": "code",
      "metadata": {
        "id": "viU5FdUjFScc"
      },
      "source": [
        "idade = 20"
      ],
      "execution_count": null,
      "outputs": []
    },
    {
      "cell_type": "code",
      "metadata": {
        "colab": {
          "base_uri": "https://localhost:8080/"
        },
        "id": "D171ccu6qd86",
        "outputId": "88a8b2d4-3ba1-4498-ad83-341cc145d3be"
      },
      "source": [
        "print(idade > 15)"
      ],
      "execution_count": null,
      "outputs": [
        {
          "output_type": "stream",
          "text": [
            "True\n"
          ],
          "name": "stdout"
        }
      ]
    },
    {
      "cell_type": "code",
      "metadata": {
        "colab": {
          "base_uri": "https://localhost:8080/"
        },
        "id": "x_A6iLK3qfs4",
        "outputId": "4ac3ba4e-1bf6-4b11-e32d-8c3f30407594"
      },
      "source": [
        "print(idade < 10)"
      ],
      "execution_count": null,
      "outputs": [
        {
          "output_type": "stream",
          "text": [
            "False\n"
          ],
          "name": "stdout"
        }
      ]
    },
    {
      "cell_type": "code",
      "metadata": {
        "id": "3QK0OlJ3qkK2"
      },
      "source": [
        "idades = [20,14,40]\n",
        "permissoes = []"
      ],
      "execution_count": null,
      "outputs": []
    },
    {
      "cell_type": "code",
      "metadata": {
        "colab": {
          "base_uri": "https://localhost:8080/"
        },
        "id": "DYB0iQ7oF4RK",
        "outputId": "8ff1eaa2-5bf4-43fb-f0da-f8aa92b2441e"
      },
      "source": [
        "def verifica_se_pode_dirigir(idades, permissoes):\n",
        "  for idade in idades:\n",
        "    if idade >= 18:\n",
        "      permissoes.append(True)\n",
        "    else:\n",
        "      permissoes.append(False)\n",
        "\n",
        "verifica_se_pode_dirigir(idades,permissoes)\n",
        "\n",
        "print(idades)\n",
        "print(permissoes)"
      ],
      "execution_count": null,
      "outputs": [
        {
          "output_type": "stream",
          "text": [
            "[20, 14, 40]\n",
            "[True, False, True]\n"
          ],
          "name": "stdout"
        }
      ]
    },
    {
      "cell_type": "code",
      "metadata": {
        "colab": {
          "base_uri": "https://localhost:8080/"
        },
        "id": "ll2689yLGT7U",
        "outputId": "a0a9136f-4824-4308-f8d8-fe851d4828bc"
      },
      "source": [
        "for permissao in permissoes:\n",
        "  if permissao == True:\n",
        "      print(\"TEM PERMISSÃO para dirigir\")\n",
        "  else:\n",
        "    print(\"NÃO TEM PERMISSÃO para dirigir\")"
      ],
      "execution_count": null,
      "outputs": [
        {
          "output_type": "stream",
          "text": [
            "TEM PERMISSÃO para dirigir\n",
            "NÃO TEM PERMISSÃO para dirigir\n",
            "TEM PERMISSÃO para dirigir\n"
          ],
          "name": "stdout"
        }
      ]
    },
    {
      "cell_type": "markdown",
      "metadata": {
        "id": "MNt0PQYVHt9j"
      },
      "source": [
        "# <font color=yellow> 5. O Sistema de Imports\n",
        "---"
      ]
    },
    {
      "cell_type": "markdown",
      "metadata": {
        "id": "jZEjMWWlq6fN"
      },
      "source": [
        "# 5.1 Tipos em Listas"
      ]
    },
    {
      "cell_type": "code",
      "metadata": {
        "colab": {
          "base_uri": "https://localhost:8080/"
        },
        "id": "MWG9qDpHHw5W",
        "outputId": "4dca1d08-89f3-420a-ae7b-86862ef74f4e"
      },
      "source": [
        "lista = [\"Thiago\", 21, True, '10']\n",
        "\n",
        "for c in lista:\n",
        "  print(\"O elemento {} é do tipo {}\".format(c, type(c)))"
      ],
      "execution_count": null,
      "outputs": [
        {
          "output_type": "stream",
          "text": [
            "O elemento Thiago é do tipo <class 'str'>\n",
            "O elemento 21 é do tipo <class 'int'>\n",
            "O elemento True é do tipo <class 'bool'>\n",
            "O elemento 10 é do tipo <class 'str'>\n"
          ],
          "name": "stdout"
        }
      ]
    },
    {
      "cell_type": "markdown",
      "metadata": {
        "id": "dJsQPqlmrAXg"
      },
      "source": [
        "# 5.2 Import"
      ]
    },
    {
      "cell_type": "code",
      "metadata": {
        "colab": {
          "base_uri": "https://localhost:8080/"
        },
        "id": "uGNTd82vIA7l",
        "outputId": "2959aa6e-1bb1-4d5a-b8d4-35a080dd4846"
      },
      "source": [
        "from random import randrange\n",
        "\n",
        "notas_matematica = []\n",
        "for c in range(8):\n",
        "  notas_matematica.append(randrange(0, 11))\n",
        "\n",
        "print(notas_matematica)"
      ],
      "execution_count": null,
      "outputs": [
        {
          "output_type": "stream",
          "text": [
            "[8, 5, 10, 10, 9, 8, 7, 4]\n"
          ],
          "name": "stdout"
        }
      ]
    },
    {
      "cell_type": "markdown",
      "metadata": {
        "id": "yOgOUpa8VvwX"
      },
      "source": [
        ""
      ]
    },
    {
      "cell_type": "markdown",
      "metadata": {
        "id": "loqJgJksKwr_"
      },
      "source": [
        "# <font color=yellow> 6. Plotando com Matplotlib\n",
        "---"
      ]
    },
    {
      "cell_type": "markdown",
      "metadata": {
        "id": "zD9x7BgarKnm"
      },
      "source": [
        "# 6.1 Gráfico de Notas"
      ]
    },
    {
      "cell_type": "code",
      "metadata": {
        "colab": {
          "base_uri": "https://localhost:8080/",
          "height": 295
        },
        "id": "Rwv1ngiFK0no",
        "outputId": "1243e42a-4061-4ca2-b337-0f32affa95bc"
      },
      "source": [
        "import matplotlib.pyplot as plt\n",
        "\n",
        "x = list(range(1,9))              # Eixo x\n",
        "y = notas_matematica              # Eixo y\n",
        "plt.title(\"Notas de Matemática\")  # Título Principal\n",
        "plt.xlabel(\"Provas\")              # Título do eixo x\n",
        "plt.ylabel(\"Notas\")               # Título do eixo y\n",
        "plt.plot(x, y, marker='o')        # Cria o gráfico com marcasão\n",
        "plt.show()                        # Retorna o gráfico"
      ],
      "execution_count": null,
      "outputs": [
        {
          "output_type": "display_data",
          "data": {
            "image/png": "[encoded data removed]",
            "text/plain": [
              "<Figure size 432x288 with 1 Axes>"
            ]
          },
          "metadata": {
            "tags": [],
            "needs_background": "light"
          }
        }
      ]
    }
  ]
}