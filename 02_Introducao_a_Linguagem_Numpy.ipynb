{
  "nbformat": 4,
  "nbformat_minor": 0,
  "metadata": {
    "colab": {
      "name": "02_Introducao_a_Linguagem_Numpy.ipynb",
      "provenance": [],
      "collapsed_sections": [
        "iquMQAcxUi-r",
        "quATJezXVw9P",
        "j2TtsF3qrX6t",
        "6w_SLX7rrbl8",
        "cns6jP7ndgMc",
        "w5wBLHotrhvU",
        "M8Y7CHajr0fM",
        "Ilt9IP1Mr2a5",
        "ZcbxsjsLr41t",
        "XCIMBGhFr62v",
        "HKWqPzN8r9ZQ",
        "Xp_k8khasAUv",
        "UyHLr7iNsCSt",
        "gsHRxezZsNN1",
        "COUllPQEsY5N",
        "EZIOlNP5siYN",
        "5eh-PNYFs0I9",
        "WSU3W8G4s79M",
        "3mVOhKe5tQpH",
        "6KMWvKhAtcHl",
        "aSawEpoZto10",
        "JNX_vR6ntvb1",
        "IqD85jO4t7h9",
        "nYegnrhZuC0d",
        "yEvEyEH6uZ0N",
        "NKZChyAoujVK",
        "K3XPvEjauusd",
        "u0WfF-webOCs",
        "RyeYIkehvnvd",
        "E3fRtbM_v7Fr",
        "8ZB2OijawD-3",
        "1SR_4gHpwQmy",
        "MjR1yOYDwbSs",
        "n8TrKITkwf6P",
        "TJxuLA8zw5is",
        "yIk4DHcvw94k",
        "e26DDHTtxFoE",
        "V-pVZl_IxOCU",
        "3N6u0peVxeLN",
        "ayLCcdxCBgfF",
        "OybzWncjCdjr",
        "f0-sKH7BDnjn",
        "-ydWl1ynFBw8",
        "AM5A-ZO6HW8t",
        "t6zO_YxUKhNz",
        "6PrT2KoGOggr",
        "CNOoV8XkOz2Z",
        "YL7rlQZDO-NQ",
        "zPPkqZLmSC1K",
        "JkdHOOfpSFAA",
        "lnGkOdVXSINB",
        "nmRDe-d4QwzL",
        "4VIMC6T-R0g5",
        "0gG_ZjtYR5rB",
        "O1gwjh1GSaBo",
        "DAh41E8iS6C5",
        "Zk6yearPUXnh",
        "aRJwQ6MLUhGA",
        "lj7dLIBt4muU",
        "vuuysyWq5ICr",
        "9jjSWgDM6d0A",
        "p_wfhB3J7Bck",
        "_UpLnIHc78K8",
        "8dyBVya19agT",
        "6GsUGYEI_6u0",
        "HJi2t-joAwBk",
        "nxWVJg0mA7Fb",
        "1gDwKamwA-rk",
        "OAlcXVKNBIQj",
        "LxVnV78PBOxV",
        "0oKMDHgOBgqa",
        "9kin05ObCoVz",
        "yNXrn9zLD-D6",
        "A3QGiVoCEu0Z",
        "h8SoOCUv2x6B",
        "r90GwbQg2x6B",
        "Na3o82ut2x6C",
        "e0WF2PCI2x6C",
        "m__-0O0i2x6C",
        "oV_RlJZS2x6C",
        "qMC68rxh2x6C",
        "gjbGcBQ52x6D",
        "-isX03oQ2x6D",
        "SqaQoJ7K2x6D",
        "Y42U19B62x6E",
        "aOxJHd4N2x6E",
        "T4ZXQVwP2x6E",
        "yC1UrdBR2x6F",
        "PrJMJkBq2x6F",
        "OXNkaDMm2x6G",
        "EfLWDJ_f2x6G",
        "VGoDShxZ2x6G",
        "WFBDEwkk2x6H",
        "7FBL9zrB2x6I",
        "dM5X1EnX2x6J",
        "LDk24T5X2x6K",
        "JuUCzOq_2x6K",
        "GcJgPkBo2x6K",
        "LCy944Gf2x6L",
        "WG9_l66J2x6L",
        "tEvIvLSq2x6N",
        "hsLBPhEq2x6N",
        "pPtDEIHX2x6R",
        "B-BpRmBW2x6R",
        "o1Y4lvFn2x6R",
        "38mqF7NR2x6S",
        "2xJLgNdL2x6S",
        "AuPtwl3u2x6U",
        "27jAI7v02x6U",
        "Sw_R3I7C2x6U",
        "tGQrcEM-2x6U",
        "4qQCtmUw2x6V",
        "eNg49CJS2x6W",
        "81PGECpf2x6W",
        "1ThKTKyB2x6W",
        "zGS2JUPB2x6X",
        "GZkbZxEH2x6Y",
        "pHpKCSVn2x6Z",
        "7sbvL8_32x6c",
        "683i_alR2x6c",
        "GLFl3y_l2x6d",
        "RfY93W2K2x6d",
        "WTQZwrJ52x6d",
        "OA7hkmPL2x6e",
        "gLszU75M2x6e",
        "pcoqhIyx2x6e",
        "L-aBiUk52x6f",
        "0tFgdMuB2x6g",
        "8mXAuXaf2x6h",
        "vjsQsoJI2x6i",
        "X4rMyWSl2x6i",
        "MHxxkOo72x6j",
        "F2PHHj6y2x6j",
        "V5HtSz2f2x6k",
        "xROyA0ze2x6l",
        "03vka3Kr2x6m",
        "Wz2SVvqd2x6u",
        "kIt-z1b_2x6v",
        "svl3SKWl2x6w",
        "c14QM_L42x6w",
        "vZ6G1zav2x6w",
        "CxOdvLYy2x6w",
        "eQkxDyPI2x6x",
        "C9lT30o92x6x",
        "-RTeAq792x6x",
        "MUi1KhQ52x6z",
        "xHs14WVB2x60",
        "LJSo-yAw2x60",
        "1kOStLP32x61",
        "NPOj3vqT2x61",
        "6agp0H5yFZJr",
        "gDLWlIzJFivE"
      ],
      "authorship_tag": "ABX9TyOujvh8B4bn0pE18z8Uxp4H",
      "include_colab_link": true
    },
    "kernelspec": {
      "name": "python3",
      "display_name": "Python 3"
    }
  },
  "cells": [
    {
      "cell_type": "markdown",
      "metadata": {
        "id": "view-in-github",
        "colab_type": "text"
      },
      "source": [
        "<a href=\"https://colab.research.google.com/github/ThiagoLozano/Alura_Python_para_DataScience/blob/main/02_Introducao_a_Linguagem_Numpy.ipynb\" target=\"_parent\"><img src=\"https://colab.research.google.com/assets/colab-badge.svg\" alt=\"Open In Colab\"/></a>"
      ]
    },
    {
      "cell_type": "markdown",
      "metadata": {
        "id": "iquMQAcxUi-r"
      },
      "source": [
        "# <font color=yellow> PYTHON PARA DATA SCIENCE - Introdução a Linguagem Numpy\n",
        "---"
      ]
    },
    {
      "cell_type": "markdown",
      "metadata": {
        "id": "quATJezXVw9P"
      },
      "source": [
        "# <font color=yellow> 1. Ambiente do Cientista de Dados\n",
        "---"
      ]
    },
    {
      "cell_type": "markdown",
      "metadata": {
        "id": "j2TtsF3qrX6t"
      },
      "source": [
        "# 1.1 Média de Km por Ano"
      ]
    },
    {
      "cell_type": "code",
      "metadata": {
        "id": "VLEbNG8CVz_0",
        "colab": {
          "base_uri": "https://localhost:8080/"
        },
        "outputId": "98cda814-8932-4c2d-a133-abb79e4aeb0e"
      },
      "source": [
        "import numpy as np\n",
        "\n",
        "km = np.loadtxt(\"carros-km.txt\")\n",
        "anos = np.loadtxt(\"carros-anos.txt\", dtype=int\n",
        "\n",
        "km_media = km / (2019 - anos)\n",
        "\n",
        "print(km_media)"
      ],
      "execution_count": null,
      "outputs": [
        {
          "output_type": "stream",
          "text": [
            "[2.77562500e+03 2.04000000e+02 1.28010345e+03            nan\n",
            " 1.98130769e+03 1.53257143e+03            nan 7.75990000e+03\n",
            " 1.10218889e+04 4.74725000e+03 7.56411765e+02 6.71000000e+02\n",
            " 4.98738889e+03            nan 4.14570000e+03 3.85356667e+04\n",
            " 6.63557143e+03            nan 1.23620000e+04 7.58650000e+03\n",
            " 5.95252941e+03            nan 3.92316000e+03 3.67710714e+03\n",
            "            nan            nan 1.93166667e+03            nan\n",
            " 3.46164706e+03 3.37075000e+03 1.37104545e+03 2.22216667e+03\n",
            " 1.77200000e+04 1.20742857e+03 1.81368000e+04 1.83229167e+03\n",
            "            nan            nan 5.52600000e+02            nan\n",
            " 1.55691667e+04 2.54762500e+03            nan 5.07658824e+03\n",
            "            nan 5.73823529e+02 4.66300000e+03 1.33055556e+02\n",
            "            nan 5.02181250e+03 8.55540000e+03 3.88430769e+03\n",
            " 3.56400000e+03 7.22669231e+03 3.92722222e+03 3.24028000e+03\n",
            " 9.95941667e+03            nan            nan            nan\n",
            "            nan            nan 5.94475000e+04 6.06362500e+03\n",
            " 5.60622222e+03 4.15865217e+03            nan 3.61980000e+03\n",
            "            nan 2.42766667e+03 9.52080000e+02 7.08266667e+03\n",
            " 2.47250000e+03 2.05623077e+03 7.38816667e+03 4.72944000e+03\n",
            " 1.03461818e+04 5.54545455e+01            nan            nan\n",
            " 6.44350000e+02 6.63391667e+03 3.49707692e+03 1.78054167e+03\n",
            "            nan            nan 3.92380000e+04 1.42356250e+04\n",
            "            nan 1.79476471e+03 1.24778333e+04 5.98800000e+04\n",
            " 2.78533333e+03 5.84063636e+03 8.86610000e+04 2.83687500e+02\n",
            " 6.88225000e+03 2.21433333e+03 1.02223333e+04            nan\n",
            " 6.28523077e+03 3.92450000e+03            nan 2.28192500e+04\n",
            " 2.65440000e+04 2.62980000e+04 1.75937037e+03 4.94755556e+03\n",
            " 1.10900000e+03 4.60683333e+03 3.53987500e+03 3.47140000e+03\n",
            " 6.72863636e+03 2.53266667e+03            nan 5.41050000e+03\n",
            "            nan            nan 7.38076923e+02 2.47630000e+04\n",
            " 4.36575000e+03 8.56750000e+03 4.80025000e+04 1.50661905e+03\n",
            "            nan 4.00935000e+03            nan 5.82120000e+03\n",
            " 3.85450000e+03 1.28068000e+03            nan 2.27776000e+03\n",
            "            nan 2.16297500e+04 2.09608696e+02 4.59204545e+03\n",
            " 1.18096154e+03            nan 1.20574074e+03 4.30787500e+03\n",
            "            nan 1.90651724e+03            nan            nan\n",
            " 4.14035714e+03 2.29093103e+03 1.38285714e+04 1.18641667e+03\n",
            " 3.31600000e+03 5.94973684e+03 6.76129412e+03 1.37956522e+02\n",
            " 3.63526087e+03 6.33900000e+03 3.40900000e+03 3.85666667e+02\n",
            " 4.37833333e+02 5.20340000e+03            nan            nan\n",
            " 4.68100000e+03 4.91822727e+03 3.64061905e+03 3.84553333e+03\n",
            " 4.20043478e+03 2.72502500e+04 8.73733333e+03 3.28364286e+03\n",
            " 2.45910000e+03 2.07945833e+03 1.48538462e+03 4.06640000e+03\n",
            " 1.23190000e+04 5.11390476e+03 9.14600000e+03            nan\n",
            " 1.79240000e+04            nan 4.03272414e+03 2.04760000e+03\n",
            " 1.82082759e+03 6.80692308e+02 5.39552941e+03 1.14485714e+03\n",
            " 2.77355556e+03            nan            nan 3.72778571e+03\n",
            " 9.28433333e+03            nan 6.77600000e+03            nan\n",
            " 8.39744444e+03 1.34636000e+03 5.79672222e+03 5.10200000e+03\n",
            " 8.24565217e+02 3.35234615e+03 2.55846154e+02 3.09655556e+03\n",
            "            nan            nan            nan 5.36000000e+03\n",
            "            nan 2.28926667e+04 1.43394000e+04            nan\n",
            " 8.69575000e+03 8.44300000e+03 3.70117391e+03 8.00352941e+02\n",
            " 2.54621429e+03 3.96366667e+03 7.02300000e+02 2.94242857e+03\n",
            "            nan 4.36818182e+03 3.58275862e+03 2.43411111e+03\n",
            " 4.10633333e+03            nan 5.54830000e+04 1.99837500e+03\n",
            " 3.81207143e+03 8.39750000e+02 2.75169231e+03 3.82142857e+00\n",
            " 2.99785714e+02 1.88627273e+03 6.10536842e+03 8.40483333e+03\n",
            " 5.19038462e+03 2.12425000e+03 4.01818182e+02            nan\n",
            " 2.54508696e+03            nan            nan 2.24032000e+04\n",
            " 6.12266667e+03 1.02533636e+04            nan            nan\n",
            " 1.32757143e+03            nan 2.39491304e+03 6.09950000e+03\n",
            "            nan 9.96500000e+03 7.11533333e+03 3.92432000e+03\n",
            " 5.94000000e+03 5.50100000e+03 1.07075000e+03 3.09629412e+03\n",
            " 3.34130435e+02 1.85881481e+03]\n",
            "<class 'numpy.ndarray'>\n"
          ],
          "name": "stdout"
        },
        {
          "output_type": "stream",
          "text": [
            "/usr/local/lib/python3.6/dist-packages/ipykernel_launcher.py:7: RuntimeWarning: invalid value encountered in true_divide\n",
            "  import sys\n"
          ],
          "name": "stderr"
        }
      ]
    },
    {
      "cell_type": "markdown",
      "metadata": {
        "id": "6w_SLX7rrbl8"
      },
      "source": [
        "# 1.2 Tipo do Array Numpy"
      ]
    },
    {
      "cell_type": "code",
      "metadata": {
        "colab": {
          "base_uri": "https://localhost:8080/"
        },
        "id": "JGkEE2XKa8wD",
        "outputId": "cf8473a5-27be-4898-fa56-07483d8809f1"
      },
      "source": [
        "print(type(km_media))"
      ],
      "execution_count": null,
      "outputs": [
        {
          "output_type": "stream",
          "text": [
            "<class 'numpy.ndarray'>\n"
          ],
          "name": "stdout"
        }
      ]
    },
    {
      "cell_type": "markdown",
      "metadata": {
        "id": "cns6jP7ndgMc"
      },
      "source": [
        "# <font color=yellow> 2. Características do Python\n",
        "---"
      ]
    },
    {
      "cell_type": "markdown",
      "metadata": {
        "id": "w5wBLHotrhvU"
      },
      "source": [
        "# 2.1 Operaçãoes Matemáticas"
      ]
    },
    {
      "cell_type": "markdown",
      "metadata": {
        "id": "M8Y7CHajr0fM"
      },
      "source": [
        "### Soma"
      ]
    },
    {
      "cell_type": "code",
      "metadata": {
        "colab": {
          "base_uri": "https://localhost:8080/"
        },
        "id": "W0XHRioCrmIj",
        "outputId": "133c790b-122a-49a2-dc3e-4441f6945569"
      },
      "source": [
        "2 + 2"
      ],
      "execution_count": null,
      "outputs": [
        {
          "output_type": "execute_result",
          "data": {
            "text/plain": [
              "4"
            ]
          },
          "metadata": {
            "tags": []
          },
          "execution_count": 84
        }
      ]
    },
    {
      "cell_type": "markdown",
      "metadata": {
        "id": "Ilt9IP1Mr2a5"
      },
      "source": [
        "### Subtração"
      ]
    },
    {
      "cell_type": "code",
      "metadata": {
        "colab": {
          "base_uri": "https://localhost:8080/"
        },
        "id": "VsiO3jdBrmCt",
        "outputId": "06be28bb-694f-41e9-8750-355457c37864"
      },
      "source": [
        "2 - 2 "
      ],
      "execution_count": null,
      "outputs": [
        {
          "output_type": "execute_result",
          "data": {
            "text/plain": [
              "0"
            ]
          },
          "metadata": {
            "tags": []
          },
          "execution_count": 85
        }
      ]
    },
    {
      "cell_type": "markdown",
      "metadata": {
        "id": "ZcbxsjsLr41t"
      },
      "source": [
        "### Multiplicação"
      ]
    },
    {
      "cell_type": "code",
      "metadata": {
        "colab": {
          "base_uri": "https://localhost:8080/"
        },
        "id": "hVhrBMXarl5M",
        "outputId": "7e755bb7-4a1d-4268-b3ab-a47a428f4ec3"
      },
      "source": [
        "2 * 3"
      ],
      "execution_count": null,
      "outputs": [
        {
          "output_type": "execute_result",
          "data": {
            "text/plain": [
              "6"
            ]
          },
          "metadata": {
            "tags": []
          },
          "execution_count": 86
        }
      ]
    },
    {
      "cell_type": "markdown",
      "metadata": {
        "id": "XCIMBGhFr62v"
      },
      "source": [
        "### Divisão"
      ]
    },
    {
      "cell_type": "code",
      "metadata": {
        "colab": {
          "base_uri": "https://localhost:8080/"
        },
        "id": "ID5KJiMZrls8",
        "outputId": "c448fa0c-5be9-4088-8cbf-b554a18a8195"
      },
      "source": [
        "10 / 3"
      ],
      "execution_count": null,
      "outputs": [
        {
          "output_type": "execute_result",
          "data": {
            "text/plain": [
              "3.3333333333333335"
            ]
          },
          "metadata": {
            "tags": []
          },
          "execution_count": 87
        }
      ]
    },
    {
      "cell_type": "markdown",
      "metadata": {
        "id": "HKWqPzN8r9ZQ"
      },
      "source": [
        "### Parte Inteira da Divisão"
      ]
    },
    {
      "cell_type": "code",
      "metadata": {
        "colab": {
          "base_uri": "https://localhost:8080/"
        },
        "id": "sJEPU_jFrliU",
        "outputId": "ae43ddfc-76ce-4ffb-ea72-20a4f91353e3"
      },
      "source": [
        "10 // 3"
      ],
      "execution_count": null,
      "outputs": [
        {
          "output_type": "execute_result",
          "data": {
            "text/plain": [
              "3"
            ]
          },
          "metadata": {
            "tags": []
          },
          "execution_count": 88
        }
      ]
    },
    {
      "cell_type": "markdown",
      "metadata": {
        "id": "Xp_k8khasAUv"
      },
      "source": [
        "### Exponenciação"
      ]
    },
    {
      "cell_type": "code",
      "metadata": {
        "colab": {
          "base_uri": "https://localhost:8080/"
        },
        "id": "Z53RdCrxrlKT",
        "outputId": "7e99a500-9752-4959-bc38-d39576419cb0"
      },
      "source": [
        "2 ** 3"
      ],
      "execution_count": null,
      "outputs": [
        {
          "output_type": "execute_result",
          "data": {
            "text/plain": [
              "8"
            ]
          },
          "metadata": {
            "tags": []
          },
          "execution_count": 89
        }
      ]
    },
    {
      "cell_type": "markdown",
      "metadata": {
        "id": "UyHLr7iNsCSt"
      },
      "source": [
        "### Resto da Divisão"
      ]
    },
    {
      "cell_type": "code",
      "metadata": {
        "colab": {
          "base_uri": "https://localhost:8080/"
        },
        "id": "NNql5g8wrtaV",
        "outputId": "581b5222-0fdc-4bf9-dcd1-880813b26b27"
      },
      "source": [
        "10 % 3"
      ],
      "execution_count": null,
      "outputs": [
        {
          "output_type": "execute_result",
          "data": {
            "text/plain": [
              "1"
            ]
          },
          "metadata": {
            "tags": []
          },
          "execution_count": 90
        }
      ]
    },
    {
      "cell_type": "markdown",
      "metadata": {
        "id": "gsHRxezZsNN1"
      },
      "source": [
        "# 2.2 Expressões Matemáticas"
      ]
    },
    {
      "cell_type": "code",
      "metadata": {
        "colab": {
          "base_uri": "https://localhost:8080/"
        },
        "id": "AG-5O6_UsR_L",
        "outputId": "a7f5c06f-cac3-44b6-d8fc-17e0341a0d3c"
      },
      "source": [
        "5 * 2 + 3 * 2"
      ],
      "execution_count": null,
      "outputs": [
        {
          "output_type": "execute_result",
          "data": {
            "text/plain": [
              "16"
            ]
          },
          "metadata": {
            "tags": []
          },
          "execution_count": 91
        }
      ]
    },
    {
      "cell_type": "code",
      "metadata": {
        "colab": {
          "base_uri": "https://localhost:8080/"
        },
        "id": "wQ3xZLGjsR5F",
        "outputId": "6660dd8b-94b7-464b-b832-ebe67e5974d0"
      },
      "source": [
        "(5 * 2) + (3 * 2)"
      ],
      "execution_count": null,
      "outputs": [
        {
          "output_type": "execute_result",
          "data": {
            "text/plain": [
              "16"
            ]
          },
          "metadata": {
            "tags": []
          },
          "execution_count": 92
        }
      ]
    },
    {
      "cell_type": "code",
      "metadata": {
        "colab": {
          "base_uri": "https://localhost:8080/"
        },
        "id": "jwGmf0UksRvT",
        "outputId": "4cd01509-1197-406f-ba0f-23f24a1b8b41"
      },
      "source": [
        "5 * (2 + 3) * 2"
      ],
      "execution_count": null,
      "outputs": [
        {
          "output_type": "execute_result",
          "data": {
            "text/plain": [
              "50"
            ]
          },
          "metadata": {
            "tags": []
          },
          "execution_count": 93
        }
      ]
    },
    {
      "cell_type": "markdown",
      "metadata": {
        "id": "COUllPQEsY5N"
      },
      "source": [
        "# 2.3 Variável _"
      ]
    },
    {
      "cell_type": "code",
      "metadata": {
        "id": "J8tfOEecsc2k"
      },
      "source": [
        "5 * 2       "
      ],
      "execution_count": null,
      "outputs": []
    },
    {
      "cell_type": "code",
      "metadata": {
        "id": "wLA5D6Llsesx"
      },
      "source": [
        "# _ Retorna o último valor registrado na memória\n",
        "_ + 3 * 2"
      ],
      "execution_count": null,
      "outputs": []
    },
    {
      "cell_type": "markdown",
      "metadata": {
        "id": "EZIOlNP5siYN"
      },
      "source": [
        "# 2.4 Entendendo Variáveis"
      ]
    },
    {
      "cell_type": "code",
      "metadata": {
        "id": "SF45btNnsokE"
      },
      "source": [
        "ano_atual = 2021"
      ],
      "execution_count": null,
      "outputs": []
    },
    {
      "cell_type": "code",
      "metadata": {
        "id": "F7kd4GIHsofs"
      },
      "source": [
        "ano_fabricacao = 2003"
      ],
      "execution_count": null,
      "outputs": []
    },
    {
      "cell_type": "code",
      "metadata": {
        "id": "rr65XQPEsoZc"
      },
      "source": [
        "km_total = 44410.0"
      ],
      "execution_count": null,
      "outputs": []
    },
    {
      "cell_type": "code",
      "metadata": {
        "id": "gT8J7qNOsoS0"
      },
      "source": [
        "km_media = km_total / (ano_atual - ano_fabricacao)"
      ],
      "execution_count": null,
      "outputs": []
    },
    {
      "cell_type": "code",
      "metadata": {
        "colab": {
          "base_uri": "https://localhost:8080/"
        },
        "id": "IPsCnhf9e6Br",
        "outputId": "1f59e5f9-09f5-4dd4-da8a-bca03796d731"
      },
      "source": [
        "print(km_media)"
      ],
      "execution_count": null,
      "outputs": [
        {
          "output_type": "stream",
          "text": [
            "2467.222222222222\n"
          ],
          "name": "stdout"
        }
      ]
    },
    {
      "cell_type": "markdown",
      "metadata": {
        "id": "5eh-PNYFs0I9"
      },
      "source": [
        "# 2.5 Declaração Múltipla"
      ]
    },
    {
      "cell_type": "code",
      "metadata": {
        "id": "6Zm5uNzPgxvV"
      },
      "source": [
        "ano_atual, ano_fabricacao, km_total = 2021, 2003, 44410.0"
      ],
      "execution_count": null,
      "outputs": []
    },
    {
      "cell_type": "code",
      "metadata": {
        "colab": {
          "base_uri": "https://localhost:8080/"
        },
        "id": "NFWLeq0Ds4DF",
        "outputId": "4f6130fe-d537-484d-fe5e-7ce816ee0120"
      },
      "source": [
        "print(ano_atual, ano_fabricacao, km_total)"
      ],
      "execution_count": null,
      "outputs": [
        {
          "output_type": "stream",
          "text": [
            "2021 2003 44410.0\n"
          ],
          "name": "stdout"
        }
      ]
    },
    {
      "cell_type": "markdown",
      "metadata": {
        "id": "WSU3W8G4s79M"
      },
      "source": [
        "# 2.6 Tipos de Dados"
      ]
    },
    {
      "cell_type": "markdown",
      "metadata": {
        "id": "3mVOhKe5tQpH"
      },
      "source": [
        "### Int"
      ]
    },
    {
      "cell_type": "code",
      "metadata": {
        "colab": {
          "base_uri": "https://localhost:8080/"
        },
        "id": "AUTT8ECstTg1",
        "outputId": "f5467509-380f-402f-fcd5-7aed020d20d5"
      },
      "source": [
        "1"
      ],
      "execution_count": null,
      "outputs": [
        {
          "output_type": "execute_result",
          "data": {
            "text/plain": [
              "1"
            ]
          },
          "metadata": {
            "tags": []
          },
          "execution_count": 101
        }
      ]
    },
    {
      "cell_type": "code",
      "metadata": {
        "colab": {
          "base_uri": "https://localhost:8080/"
        },
        "id": "ZYtjCgz3tVad",
        "outputId": "1896dc0a-5d0f-4cb3-8c8e-041b4fe21d66"
      },
      "source": [
        "2"
      ],
      "execution_count": null,
      "outputs": [
        {
          "output_type": "execute_result",
          "data": {
            "text/plain": [
              "2"
            ]
          },
          "metadata": {
            "tags": []
          },
          "execution_count": 102
        }
      ]
    },
    {
      "cell_type": "code",
      "metadata": {
        "colab": {
          "base_uri": "https://localhost:8080/"
        },
        "id": "9Hglvi_otVS9",
        "outputId": "57f1b96d-f0b9-4731-fea4-7e206d5efcb4"
      },
      "source": [
        "3"
      ],
      "execution_count": null,
      "outputs": [
        {
          "output_type": "execute_result",
          "data": {
            "text/plain": [
              "3"
            ]
          },
          "metadata": {
            "tags": []
          },
          "execution_count": 103
        }
      ]
    },
    {
      "cell_type": "code",
      "metadata": {
        "colab": {
          "base_uri": "https://localhost:8080/"
        },
        "id": "aeWDByr4tVLO",
        "outputId": "a71a9e9f-169f-4b35-d585-3311dcd9c893"
      },
      "source": [
        "100"
      ],
      "execution_count": null,
      "outputs": [
        {
          "output_type": "execute_result",
          "data": {
            "text/plain": [
              "100"
            ]
          },
          "metadata": {
            "tags": []
          },
          "execution_count": 104
        }
      ]
    },
    {
      "cell_type": "code",
      "metadata": {
        "colab": {
          "base_uri": "https://localhost:8080/"
        },
        "id": "eZoJNyXztVCt",
        "outputId": "2d247b17-5635-4409-c79d-60f86a9c902a"
      },
      "source": [
        "345"
      ],
      "execution_count": null,
      "outputs": [
        {
          "output_type": "execute_result",
          "data": {
            "text/plain": [
              "345"
            ]
          },
          "metadata": {
            "tags": []
          },
          "execution_count": 105
        }
      ]
    },
    {
      "cell_type": "markdown",
      "metadata": {
        "id": "6KMWvKhAtcHl"
      },
      "source": [
        "### Float"
      ]
    },
    {
      "cell_type": "code",
      "metadata": {
        "colab": {
          "base_uri": "https://localhost:8080/"
        },
        "id": "fT4y6-k2tfxn",
        "outputId": "fa944eb0-d9a7-4a1f-8d8c-5869913843d7"
      },
      "source": [
        "10.0"
      ],
      "execution_count": null,
      "outputs": [
        {
          "output_type": "execute_result",
          "data": {
            "text/plain": [
              "10.0"
            ]
          },
          "metadata": {
            "tags": []
          },
          "execution_count": 106
        }
      ]
    },
    {
      "cell_type": "code",
      "metadata": {
        "colab": {
          "base_uri": "https://localhost:8080/"
        },
        "id": "yXw0xZk_tfpt",
        "outputId": "e30bfab9-acd6-4fd8-82ef-2c1620fc8125"
      },
      "source": [
        "5.45"
      ],
      "execution_count": null,
      "outputs": [
        {
          "output_type": "execute_result",
          "data": {
            "text/plain": [
              "5.45"
            ]
          },
          "metadata": {
            "tags": []
          },
          "execution_count": 107
        }
      ]
    },
    {
      "cell_type": "code",
      "metadata": {
        "colab": {
          "base_uri": "https://localhost:8080/"
        },
        "id": "hOn_6-j0tfjN",
        "outputId": "62237710-3e00-493c-b6d6-061b7d840869"
      },
      "source": [
        "456.789"
      ],
      "execution_count": null,
      "outputs": [
        {
          "output_type": "execute_result",
          "data": {
            "text/plain": [
              "456.789"
            ]
          },
          "metadata": {
            "tags": []
          },
          "execution_count": 108
        }
      ]
    },
    {
      "cell_type": "code",
      "metadata": {
        "colab": {
          "base_uri": "https://localhost:8080/"
        },
        "id": "Vdu7xr9EtfdU",
        "outputId": "239fef3b-4000-434e-c034-13f4117359b8"
      },
      "source": [
        "0.4567"
      ],
      "execution_count": null,
      "outputs": [
        {
          "output_type": "execute_result",
          "data": {
            "text/plain": [
              "0.4567"
            ]
          },
          "metadata": {
            "tags": []
          },
          "execution_count": 109
        }
      ]
    },
    {
      "cell_type": "code",
      "metadata": {
        "colab": {
          "base_uri": "https://localhost:8080/"
        },
        "id": "a_oVQKHRtfSy",
        "outputId": "debfc654-ee9f-459b-a725-d2ee3507bcad"
      },
      "source": [
        "12.5"
      ],
      "execution_count": null,
      "outputs": [
        {
          "output_type": "execute_result",
          "data": {
            "text/plain": [
              "12.5"
            ]
          },
          "metadata": {
            "tags": []
          },
          "execution_count": 110
        }
      ]
    },
    {
      "cell_type": "markdown",
      "metadata": {
        "id": "aSawEpoZto10"
      },
      "source": [
        "### Booleano"
      ]
    },
    {
      "cell_type": "code",
      "metadata": {
        "colab": {
          "base_uri": "https://localhost:8080/"
        },
        "id": "TKiK3PANtr-N",
        "outputId": "a8c68c7e-11e6-4756-c149-bfac322efb58"
      },
      "source": [
        "True"
      ],
      "execution_count": null,
      "outputs": [
        {
          "output_type": "execute_result",
          "data": {
            "text/plain": [
              "True"
            ]
          },
          "metadata": {
            "tags": []
          },
          "execution_count": 111
        }
      ]
    },
    {
      "cell_type": "code",
      "metadata": {
        "colab": {
          "base_uri": "https://localhost:8080/"
        },
        "id": "oePSBvxQtr3c",
        "outputId": "2932e47f-7bf9-4c0c-be99-326aae66dcdf"
      },
      "source": [
        "False"
      ],
      "execution_count": null,
      "outputs": [
        {
          "output_type": "execute_result",
          "data": {
            "text/plain": [
              "False"
            ]
          },
          "metadata": {
            "tags": []
          },
          "execution_count": 112
        }
      ]
    },
    {
      "cell_type": "markdown",
      "metadata": {
        "id": "JNX_vR6ntvb1"
      },
      "source": [
        "### Str"
      ]
    },
    {
      "cell_type": "code",
      "metadata": {
        "colab": {
          "base_uri": "https://localhost:8080/",
          "height": 35
        },
        "id": "rGK0qOectzy8",
        "outputId": "1f9d8fa5-d9d4-44ff-9117-0ecbe2337a8c"
      },
      "source": [
        "\"Python\""
      ],
      "execution_count": null,
      "outputs": [
        {
          "output_type": "execute_result",
          "data": {
            "application/vnd.google.colaboratory.intrinsic+json": {
              "type": "string"
            },
            "text/plain": [
              "'Python'"
            ]
          },
          "metadata": {
            "tags": []
          },
          "execution_count": 113
        }
      ]
    },
    {
      "cell_type": "code",
      "metadata": {
        "colab": {
          "base_uri": "https://localhost:8080/",
          "height": 35
        },
        "id": "E31g0w3stztt",
        "outputId": "6203c9af-84cf-4e37-becc-832c7091fbbd"
      },
      "source": [
        "\"Thiago\""
      ],
      "execution_count": null,
      "outputs": [
        {
          "output_type": "execute_result",
          "data": {
            "application/vnd.google.colaboratory.intrinsic+json": {
              "type": "string"
            },
            "text/plain": [
              "'Thiago'"
            ]
          },
          "metadata": {
            "tags": []
          },
          "execution_count": 114
        }
      ]
    },
    {
      "cell_type": "code",
      "metadata": {
        "colab": {
          "base_uri": "https://localhost:8080/",
          "height": 35
        },
        "id": "r9VWl6I4tzoF",
        "outputId": "b07b7f95-b809-4603-a869-74eab402f74b"
      },
      "source": [
        "\"Teste\""
      ],
      "execution_count": null,
      "outputs": [
        {
          "output_type": "execute_result",
          "data": {
            "application/vnd.google.colaboratory.intrinsic+json": {
              "type": "string"
            },
            "text/plain": [
              "'Teste'"
            ]
          },
          "metadata": {
            "tags": []
          },
          "execution_count": 115
        }
      ]
    },
    {
      "cell_type": "code",
      "metadata": {
        "colab": {
          "base_uri": "https://localhost:8080/",
          "height": 35
        },
        "id": "TmP8y5d_tzhN",
        "outputId": "6257418e-50f7-40d6-94fb-797f44f6a02f"
      },
      "source": [
        "\"Curso Alura\""
      ],
      "execution_count": null,
      "outputs": [
        {
          "output_type": "execute_result",
          "data": {
            "application/vnd.google.colaboratory.intrinsic+json": {
              "type": "string"
            },
            "text/plain": [
              "'Curso Alura'"
            ]
          },
          "metadata": {
            "tags": []
          },
          "execution_count": 116
        }
      ]
    },
    {
      "cell_type": "code",
      "metadata": {
        "colab": {
          "base_uri": "https://localhost:8080/",
          "height": 35
        },
        "id": "ISF_0cUWtzX1",
        "outputId": "02041433-53f2-43f1-915a-251d3496bfda"
      },
      "source": [
        "\"Isso é uma String\""
      ],
      "execution_count": null,
      "outputs": [
        {
          "output_type": "execute_result",
          "data": {
            "application/vnd.google.colaboratory.intrinsic+json": {
              "type": "string"
            },
            "text/plain": [
              "'Isso é uma String'"
            ]
          },
          "metadata": {
            "tags": []
          },
          "execution_count": 117
        }
      ]
    },
    {
      "cell_type": "markdown",
      "metadata": {
        "id": "IqD85jO4t7h9"
      },
      "source": [
        "### None"
      ]
    },
    {
      "cell_type": "code",
      "metadata": {
        "id": "kpup5nelt_3t"
      },
      "source": [
        "None"
      ],
      "execution_count": null,
      "outputs": []
    },
    {
      "cell_type": "markdown",
      "metadata": {
        "id": "nYegnrhZuC0d"
      },
      "source": [
        "# 2.7 Conversão de Tipos"
      ]
    },
    {
      "cell_type": "code",
      "metadata": {
        "id": "0AoCqdzBuQ3F"
      },
      "source": [
        "a = 10"
      ],
      "execution_count": null,
      "outputs": []
    },
    {
      "cell_type": "code",
      "metadata": {
        "id": "EGsUKI9CuQvg"
      },
      "source": [
        "b = 20"
      ],
      "execution_count": null,
      "outputs": []
    },
    {
      "cell_type": "code",
      "metadata": {
        "id": "13ADrRM6uQot"
      },
      "source": [
        "c = \"Python é \""
      ],
      "execution_count": null,
      "outputs": []
    },
    {
      "cell_type": "code",
      "metadata": {
        "id": "XDzkFPz5uQZE"
      },
      "source": [
        "d = \"Legal\""
      ],
      "execution_count": null,
      "outputs": []
    },
    {
      "cell_type": "code",
      "metadata": {
        "colab": {
          "base_uri": "https://localhost:8080/"
        },
        "id": "38y0-un0Xi1_",
        "outputId": "a36e9b42-9f6e-4321-de41-94944c5a7ec3"
      },
      "source": [
        "print(a + b)\n",
        "print(c + d)\n",
        "print(c + str(a))\n",
        "print(float(b))"
      ],
      "execution_count": null,
      "outputs": [
        {
          "output_type": "stream",
          "text": [
            "30\n",
            "Python é Legal\n",
            "Python é 10\n",
            "20.0\n"
          ],
          "name": "stdout"
        }
      ]
    },
    {
      "cell_type": "markdown",
      "metadata": {
        "id": "yEvEyEH6uZ0N"
      },
      "source": [
        "# 2.8 Identação"
      ]
    },
    {
      "cell_type": "code",
      "metadata": {
        "id": "1l_vLaT2ud-V"
      },
      "source": [
        "ano_atual = 2020"
      ],
      "execution_count": null,
      "outputs": []
    },
    {
      "cell_type": "code",
      "metadata": {
        "id": "U4Y4R4eBues8"
      },
      "source": [
        "ano_fabricacao = 2019"
      ],
      "execution_count": null,
      "outputs": []
    },
    {
      "cell_type": "code",
      "metadata": {
        "id": "_FKlBF2auem_"
      },
      "source": [
        "if ano_atual == ano_fabricacao:\n",
        "  print(\"Verdadeiro\")\n",
        "else:\n",
        "  print(\"Falso\")"
      ],
      "execution_count": null,
      "outputs": []
    },
    {
      "cell_type": "markdown",
      "metadata": {
        "id": "NKZChyAoujVK"
      },
      "source": [
        "# 2.9 Comentários"
      ]
    },
    {
      "cell_type": "code",
      "metadata": {
        "id": "AVe5ShSSuoU8"
      },
      "source": [
        "# Isso é um comentário"
      ],
      "execution_count": null,
      "outputs": []
    },
    {
      "cell_type": "code",
      "metadata": {
        "id": "jMHYVh18uoO_",
        "colab": {
          "base_uri": "https://localhost:8080/"
        },
        "outputId": "95ce8b3a-821b-49e0-e901-4130eba6e97e"
      },
      "source": [
        "'''\n",
        "Isso é um comentário\n",
        "'''"
      ],
      "execution_count": null,
      "outputs": [
        {
          "output_type": "execute_result",
          "data": {
            "application/vnd.google.colaboratory.intrinsic+json": {
              "type": "string"
            },
            "text/plain": [
              "'\\nIsso é um comentário\\n'"
            ]
          },
          "metadata": {
            "tags": []
          },
          "execution_count": 2
        }
      ]
    },
    {
      "cell_type": "code",
      "metadata": {
        "id": "fqSFNdCbuoKO",
        "colab": {
          "base_uri": "https://localhost:8080/"
        },
        "outputId": "8582325e-5cc1-4f77-f125-1f64a0cc60c5"
      },
      "source": [
        "\"\"\"\n",
        "Isso é um comentário\n",
        "\"\"\""
      ],
      "execution_count": null,
      "outputs": [
        {
          "output_type": "execute_result",
          "data": {
            "application/vnd.google.colaboratory.intrinsic+json": {
              "type": "string"
            },
            "text/plain": [
              "'\\nIsso é um comentário\\n'"
            ]
          },
          "metadata": {
            "tags": []
          },
          "execution_count": 3
        }
      ]
    },
    {
      "cell_type": "code",
      "metadata": {
        "id": "_JN8OzTtuoD1",
        "colab": {
          "base_uri": "https://localhost:8080/"
        },
        "outputId": "6bae292d-65c4-4e8a-a354-3aa2cc80febe"
      },
      "source": [
        "'''\n",
        "isso\n",
        "é\n",
        "um comentário\n",
        "'''"
      ],
      "execution_count": null,
      "outputs": [
        {
          "output_type": "execute_result",
          "data": {
            "application/vnd.google.colaboratory.intrinsic+json": {
              "type": "string"
            },
            "text/plain": [
              "'\\nisso\\né\\num comentário\\n'"
            ]
          },
          "metadata": {
            "tags": []
          },
          "execution_count": 4
        }
      ]
    },
    {
      "cell_type": "markdown",
      "metadata": {
        "id": "K3XPvEjauusd"
      },
      "source": [
        "# 2.1.0 Formatação de Strings"
      ]
    },
    {
      "cell_type": "code",
      "metadata": {
        "colab": {
          "base_uri": "https://localhost:8080/"
        },
        "id": "wNry9uS2vTCH",
        "outputId": "3f847d3a-0a4b-4aae-d8f5-72c5a529985b"
      },
      "source": [
        "print(\"Olá {}!\".format('Thiago'))"
      ],
      "execution_count": null,
      "outputs": [
        {
          "output_type": "stream",
          "text": [
            "Olá Thiago!\n"
          ],
          "name": "stdout"
        }
      ]
    },
    {
      "cell_type": "code",
      "metadata": {
        "colab": {
          "base_uri": "https://localhost:8080/"
        },
        "id": "86ThrCaQvS7d",
        "outputId": "7c7bf319-e309-4afe-b6ae-93ae7e420b90"
      },
      "source": [
        "print(\"Olá {}! Este é seu acesso de número {}\".format(\"Thiago\",32))"
      ],
      "execution_count": null,
      "outputs": [
        {
          "output_type": "stream",
          "text": [
            "Olá Thiago! Este é seu acesso de número 32\n"
          ],
          "name": "stdout"
        }
      ]
    },
    {
      "cell_type": "code",
      "metadata": {
        "colab": {
          "base_uri": "https://localhost:8080/"
        },
        "id": "s0Vmt-arvSy9",
        "outputId": "4726099c-9f81-4b18-fa58-d0eb6ce7cbd6"
      },
      "source": [
        "print(\"Olá {nome}! Este é seu acesso de número {acessos}\".format(nome=\"Thiago\",acessos=32))"
      ],
      "execution_count": null,
      "outputs": [
        {
          "output_type": "stream",
          "text": [
            "Olá Thiago! Este é seu acesso de número 32\n"
          ],
          "name": "stdout"
        }
      ]
    },
    {
      "cell_type": "code",
      "metadata": {
        "id": "Sbb-PI4yvSns"
      },
      "source": [
        "nome = \"Thiago\"\n",
        "acessos = 21"
      ],
      "execution_count": null,
      "outputs": []
    },
    {
      "cell_type": "code",
      "metadata": {
        "colab": {
          "base_uri": "https://localhost:8080/"
        },
        "id": "xCqSPVrRvSND",
        "outputId": "ebc9c2ed-aac9-4885-a57f-7965daf38c0e"
      },
      "source": [
        "print(f\"Olá {nome}! Este é seu acesso de número {acessos}\")"
      ],
      "execution_count": null,
      "outputs": [
        {
          "output_type": "stream",
          "text": [
            "Olá Thiago! Este é seu acesso de número 21\n"
          ],
          "name": "stdout"
        }
      ]
    },
    {
      "cell_type": "markdown",
      "metadata": {
        "id": "u0WfF-webOCs"
      },
      "source": [
        "# <font color=yellow> 3. Trabalhando com Listas\n",
        "---"
      ]
    },
    {
      "cell_type": "markdown",
      "metadata": {
        "id": "RyeYIkehvnvd"
      },
      "source": [
        "# 3.1 Criando Listas"
      ]
    },
    {
      "cell_type": "code",
      "metadata": {
        "id": "ORm4MWKkvr-u"
      },
      "source": [
        "acessorios = [\"Rodas de Liga\", \"Travas Eletricas\", \"Piloto Automático\", \"Bancos de Couro\", \"Ar Condicionado\", \"Sensor de Estacionamento\", \"Sensor Crepuscular\", \"Sensor de Chuva\"]"
      ],
      "execution_count": null,
      "outputs": []
    },
    {
      "cell_type": "code",
      "metadata": {
        "colab": {
          "base_uri": "https://localhost:8080/"
        },
        "id": "2jEZAXB2vwd9",
        "outputId": "875269a1-921f-4000-8447-bee8f4f3b958"
      },
      "source": [
        "print(acessorios)\n",
        "print(type(acessorios))"
      ],
      "execution_count": null,
      "outputs": [
        {
          "output_type": "stream",
          "text": [
            "['Rodas de Liga', 'Travas Eletricas', 'Piloto Automático', 'Bancos de Couro', 'Ar Condicionado', 'Sensor de Estacionamento', 'Sensor Crepuscular', 'Sensor de Chuva']\n",
            "<class 'list'>\n"
          ],
          "name": "stdout"
        }
      ]
    },
    {
      "cell_type": "code",
      "metadata": {
        "id": "VCKNGEsGbPrr"
      },
      "source": [
        "carro_1 = [\"Jetta Variant\", \"Motor 4.0 Turbo\", 2013, 44410.0, False, [\"Rodas de Liga\", \"Travas Elétricas\", \"Piloto Automático\"], 88078.64]\n",
        "carro_2 = [\"Passat\", \"Motor Diesel\", 1991, 5712.0, False, [\"Central Múltimídia\", \"Teto Panrâmeco\", \"Freios ABS\"], 106161.94]\n",
        "carros = [carro_1, carro_2]"
      ],
      "execution_count": null,
      "outputs": []
    },
    {
      "cell_type": "code",
      "metadata": {
        "colab": {
          "base_uri": "https://localhost:8080/"
        },
        "id": "8Na7ePO-vzYE",
        "outputId": "b6d6e804-7c2a-400f-cf77-564e9a616270"
      },
      "source": [
        "print(carro_1)\n",
        "print(carro_2)\n",
        "print(carros)"
      ],
      "execution_count": null,
      "outputs": [
        {
          "output_type": "stream",
          "text": [
            "['Jetta Variant', 'Motor 4.0 Turbo', 2013, 44410.0, False, ['Rodas de Liga', 'Travas Elétricas', 'Piloto Automático'], 88078.64]\n",
            "['Passat', 'Motor Diesel', 1991, 5712.0, False, ['Central Múltimídia', 'Teto Panrâmeco', 'Freios ABS'], 106161.94]\n",
            "[['Jetta Variant', 'Motor 4.0 Turbo', 2013, 44410.0, False, ['Rodas de Liga', 'Travas Elétricas', 'Piloto Automático'], 88078.64], ['Passat', 'Motor Diesel', 1991, 5712.0, False, ['Central Múltimídia', 'Teto Panrâmeco', 'Freios ABS'], 106161.94]]\n"
          ],
          "name": "stdout"
        }
      ]
    },
    {
      "cell_type": "markdown",
      "metadata": {
        "id": "E3fRtbM_v7Fr"
      },
      "source": [
        "# 3.2 Operação com Listas"
      ]
    },
    {
      "cell_type": "markdown",
      "metadata": {
        "id": "8ZB2OijawD-3"
      },
      "source": [
        "### Elementos que pertencem a lista ou não"
      ]
    },
    {
      "cell_type": "code",
      "metadata": {
        "id": "nFO7FakSwG88",
        "colab": {
          "base_uri": "https://localhost:8080/",
          "height": 162
        },
        "outputId": "9ed341ef-da49-4fa1-fd19-6a7c929de0e4"
      },
      "source": [
        "print(\"Rodas de Liga\" in acessorios)"
      ],
      "execution_count": null,
      "outputs": [
        {
          "output_type": "error",
          "ename": "NameError",
          "evalue": "ignored",
          "traceback": [
            "\u001b[0;31m---------------------------------------------------------------------------\u001b[0m",
            "\u001b[0;31mNameError\u001b[0m                                 Traceback (most recent call last)",
            "\u001b[0;32m<ipython-input-10-ed96eee6ac3d>\u001b[0m in \u001b[0;36m<module>\u001b[0;34m()\u001b[0m\n\u001b[0;32m----> 1\u001b[0;31m \u001b[0mprint\u001b[0m\u001b[0;34m(\u001b[0m\u001b[0;34m\"Rodas de Liga\"\u001b[0m \u001b[0;32min\u001b[0m \u001b[0macessorios\u001b[0m\u001b[0;34m)\u001b[0m\u001b[0;34m\u001b[0m\u001b[0;34m\u001b[0m\u001b[0m\n\u001b[0m",
            "\u001b[0;31mNameError\u001b[0m: name 'acessorios' is not defined"
          ]
        }
      ]
    },
    {
      "cell_type": "code",
      "metadata": {
        "id": "EvbLK3gmwIsf",
        "colab": {
          "base_uri": "https://localhost:8080/",
          "height": 162
        },
        "outputId": "b9eb1ebb-55ce-47a6-e16a-fd8edc94af78"
      },
      "source": [
        "print(\"4 x 4\" in acessorios)"
      ],
      "execution_count": null,
      "outputs": [
        {
          "output_type": "error",
          "ename": "NameError",
          "evalue": "ignored",
          "traceback": [
            "\u001b[0;31m---------------------------------------------------------------------------\u001b[0m",
            "\u001b[0;31mNameError\u001b[0m                                 Traceback (most recent call last)",
            "\u001b[0;32m<ipython-input-11-c472e1c6ebf8>\u001b[0m in \u001b[0;36m<module>\u001b[0;34m()\u001b[0m\n\u001b[0;32m----> 1\u001b[0;31m \u001b[0mprint\u001b[0m\u001b[0;34m(\u001b[0m\u001b[0;34m\"4 x 4\"\u001b[0m \u001b[0;32min\u001b[0m \u001b[0macessorios\u001b[0m\u001b[0;34m)\u001b[0m\u001b[0;34m\u001b[0m\u001b[0;34m\u001b[0m\u001b[0m\n\u001b[0m",
            "\u001b[0;31mNameError\u001b[0m: name 'acessorios' is not defined"
          ]
        }
      ]
    },
    {
      "cell_type": "code",
      "metadata": {
        "id": "jFtc_g_DwIl1"
      },
      "source": [
        "print(\"Rodas de Liga\" not in acessorios)"
      ],
      "execution_count": null,
      "outputs": []
    },
    {
      "cell_type": "code",
      "metadata": {
        "id": "-Eq9helxwIft"
      },
      "source": [
        "print(\"4 x 4\" not in acessorios)"
      ],
      "execution_count": null,
      "outputs": []
    },
    {
      "cell_type": "markdown",
      "metadata": {
        "id": "1SR_4gHpwQmy"
      },
      "source": [
        "### Concatenação de Listas"
      ]
    },
    {
      "cell_type": "code",
      "metadata": {
        "id": "dGTPT9uYwUxt"
      },
      "source": [
        "a = [\"Rodas de Liga\", \"Travas Eletricas\", \"Piloto Automático\", \"Bancos de Couro\", \"Ar Condicionado\",]"
      ],
      "execution_count": null,
      "outputs": []
    },
    {
      "cell_type": "code",
      "metadata": {
        "id": "UW5lsPsGwUlU"
      },
      "source": [
        "b = [\"Sensor de Estacionamento\", \"Sensor Crepuscular\", \"Sensor de Chuva\"]"
      ],
      "execution_count": null,
      "outputs": []
    },
    {
      "cell_type": "code",
      "metadata": {
        "id": "VqkSvplLwUZE"
      },
      "source": [
        "print(a + b)"
      ],
      "execution_count": null,
      "outputs": []
    },
    {
      "cell_type": "markdown",
      "metadata": {
        "id": "MjR1yOYDwbSs"
      },
      "source": [
        "### Tamanho da Lista"
      ]
    },
    {
      "cell_type": "code",
      "metadata": {
        "id": "X-Qdpd9Fc61S"
      },
      "source": [
        "print(len(a))"
      ],
      "execution_count": null,
      "outputs": []
    },
    {
      "cell_type": "markdown",
      "metadata": {
        "id": "n8TrKITkwf6P"
      },
      "source": [
        "# 3.4 Seleção de Listas"
      ]
    },
    {
      "cell_type": "code",
      "metadata": {
        "colab": {
          "base_uri": "https://localhost:8080/"
        },
        "id": "PJmcgP4Pwlg3",
        "outputId": "26b572f3-860c-4cea-b421-8e687b1d75bd"
      },
      "source": [
        "print(acessorios[0])"
      ],
      "execution_count": null,
      "outputs": [
        {
          "output_type": "stream",
          "text": [
            "Rodas de Liga\n"
          ],
          "name": "stdout"
        }
      ]
    },
    {
      "cell_type": "code",
      "metadata": {
        "colab": {
          "base_uri": "https://localhost:8080/"
        },
        "id": "8nqhQp1Zwlce",
        "outputId": "09c8db84-5fb0-4707-94e5-dbe7469948aa"
      },
      "source": [
        "print(acessorios[1])"
      ],
      "execution_count": null,
      "outputs": [
        {
          "output_type": "stream",
          "text": [
            "Travas Eletricas\n"
          ],
          "name": "stdout"
        }
      ]
    },
    {
      "cell_type": "code",
      "metadata": {
        "colab": {
          "base_uri": "https://localhost:8080/"
        },
        "id": "NmahZsSzwlYg",
        "outputId": "d21346ed-ae7a-4657-bf37-48103e4856a2"
      },
      "source": [
        "print(acessorios[-1])"
      ],
      "execution_count": null,
      "outputs": [
        {
          "output_type": "stream",
          "text": [
            "Sensor de Chuva\n"
          ],
          "name": "stdout"
        }
      ]
    },
    {
      "cell_type": "code",
      "metadata": {
        "colab": {
          "base_uri": "https://localhost:8080/"
        },
        "id": "L3sT9hJ8wlUZ",
        "outputId": "4684d1dc-ff44-49cf-8300-5b5b71fc55dd"
      },
      "source": [
        "print(carros[0])"
      ],
      "execution_count": null,
      "outputs": [
        {
          "output_type": "stream",
          "text": [
            "['Jetta Variant', 'Motor 4.0 Turbo', 2013, 44410.0, False, ['Rodas de Liga', 'Travas Elétricas', 'Piloto Automático'], 88078.64]\n"
          ],
          "name": "stdout"
        }
      ]
    },
    {
      "cell_type": "code",
      "metadata": {
        "colab": {
          "base_uri": "https://localhost:8080/"
        },
        "id": "32bkL0xIwlQY",
        "outputId": "64ceb105-875a-496a-dd50-39489a72b5b9"
      },
      "source": [
        "print(carros[0][0])"
      ],
      "execution_count": null,
      "outputs": [
        {
          "output_type": "stream",
          "text": [
            "Jetta Variant\n"
          ],
          "name": "stdout"
        }
      ]
    },
    {
      "cell_type": "code",
      "metadata": {
        "colab": {
          "base_uri": "https://localhost:8080/"
        },
        "id": "lwPDd3hTwlMB",
        "outputId": "cffe549e-2550-4d54-efde-c3c77e6471e6"
      },
      "source": [
        "print(carros[0][-2][1])"
      ],
      "execution_count": null,
      "outputs": [
        {
          "output_type": "stream",
          "text": [
            "Travas Elétricas\n"
          ],
          "name": "stdout"
        }
      ]
    },
    {
      "cell_type": "code",
      "metadata": {
        "colab": {
          "base_uri": "https://localhost:8080/"
        },
        "id": "OJV4PgejwlHW",
        "outputId": "d56a46eb-bcda-4020-a28f-4eb5dec227e2"
      },
      "source": [
        "print(acessorios[2:5])"
      ],
      "execution_count": null,
      "outputs": [
        {
          "output_type": "stream",
          "text": [
            "['Piloto Automático', 'Bancos de Couro', 'Ar Condicionado']\n"
          ],
          "name": "stdout"
        }
      ]
    },
    {
      "cell_type": "code",
      "metadata": {
        "colab": {
          "base_uri": "https://localhost:8080/"
        },
        "id": "p8bND_ylwlBy",
        "outputId": "449f2b8c-9097-443c-8a46-49c41e633005"
      },
      "source": [
        "print(acessorios[2:])"
      ],
      "execution_count": null,
      "outputs": [
        {
          "output_type": "stream",
          "text": [
            "['Piloto Automático', 'Bancos de Couro', 'Ar Condicionado', 'Sensor de Estacionamento', 'Sensor Crepuscular', 'Sensor de Chuva']\n"
          ],
          "name": "stdout"
        }
      ]
    },
    {
      "cell_type": "code",
      "metadata": {
        "colab": {
          "base_uri": "https://localhost:8080/"
        },
        "id": "1zp4oYtQwk69",
        "outputId": "2c4ba45c-3301-4639-b57b-a5c15620f9d5"
      },
      "source": [
        "print(acessorios[:4])"
      ],
      "execution_count": null,
      "outputs": [
        {
          "output_type": "stream",
          "text": [
            "['Rodas de Liga', 'Travas Eletricas', 'Piloto Automático', 'Bancos de Couro']\n"
          ],
          "name": "stdout"
        }
      ]
    },
    {
      "cell_type": "markdown",
      "metadata": {
        "id": "TJxuLA8zw5is"
      },
      "source": [
        "# 3.4 Métodos"
      ]
    },
    {
      "cell_type": "markdown",
      "metadata": {
        "id": "yIk4DHcvw94k"
      },
      "source": [
        "### Ordena uma Lista"
      ]
    },
    {
      "cell_type": "code",
      "metadata": {
        "id": "vdhLoM9lxAla"
      },
      "source": [
        "acessorios.sort()"
      ],
      "execution_count": null,
      "outputs": []
    },
    {
      "cell_type": "code",
      "metadata": {
        "colab": {
          "base_uri": "https://localhost:8080/"
        },
        "id": "GS70lW7RxAPr",
        "outputId": "5e99b603-78fb-4f7e-bdba-9aed12960601"
      },
      "source": [
        "print(acessorios)"
      ],
      "execution_count": null,
      "outputs": [
        {
          "output_type": "stream",
          "text": [
            "['Ar Condicionado', 'Bancos de Couro', 'Piloto Automático', 'Rodas de Liga', 'Sensor Crepuscular', 'Sensor de Chuva', 'Sensor de Estacionamento', 'Travas Eletricas']\n"
          ],
          "name": "stdout"
        }
      ]
    },
    {
      "cell_type": "markdown",
      "metadata": {
        "id": "e26DDHTtxFoE"
      },
      "source": [
        "### Adiciona um Elemento na Lista"
      ]
    },
    {
      "cell_type": "code",
      "metadata": {
        "id": "oApS8BbfxJDX"
      },
      "source": [
        "acessorios.append(\"4 x 4\")"
      ],
      "execution_count": null,
      "outputs": []
    },
    {
      "cell_type": "code",
      "metadata": {
        "colab": {
          "base_uri": "https://localhost:8080/"
        },
        "id": "OdN7GE3cxI-3",
        "outputId": "ab66b0d5-b124-41d8-d727-cd234ad5764e"
      },
      "source": [
        "print(acessorios)"
      ],
      "execution_count": null,
      "outputs": [
        {
          "output_type": "stream",
          "text": [
            "['Ar Condicionado', 'Bancos de Couro', 'Piloto Automático', 'Rodas de Liga', 'Sensor Crepuscular', 'Sensor de Chuva', 'Sensor de Estacionamento', 'Travas Eletricas', '4 x 4']\n"
          ],
          "name": "stdout"
        }
      ]
    },
    {
      "cell_type": "markdown",
      "metadata": {
        "id": "V-pVZl_IxOCU"
      },
      "source": [
        "### Remove um Elemento da lista"
      ]
    },
    {
      "cell_type": "code",
      "metadata": {
        "colab": {
          "base_uri": "https://localhost:8080/",
          "height": 35
        },
        "id": "nc2eU20qxR83",
        "outputId": "0dc011dd-fe5c-43cc-b17f-3ba1d03bcbe9"
      },
      "source": [
        "acessorios.pop()"
      ],
      "execution_count": null,
      "outputs": [
        {
          "output_type": "execute_result",
          "data": {
            "application/vnd.google.colaboratory.intrinsic+json": {
              "type": "string"
            },
            "text/plain": [
              "'4 x 4'"
            ]
          },
          "metadata": {
            "tags": []
          },
          "execution_count": 155
        }
      ]
    },
    {
      "cell_type": "code",
      "metadata": {
        "colab": {
          "base_uri": "https://localhost:8080/"
        },
        "id": "0LyAJCjrxRjk",
        "outputId": "e0b87f4e-213b-4381-f7ee-126574a56fe6"
      },
      "source": [
        "print(acessorios)"
      ],
      "execution_count": null,
      "outputs": [
        {
          "output_type": "stream",
          "text": [
            "['Ar Condicionado', 'Bancos de Couro', 'Piloto Automático', 'Rodas de Liga', 'Sensor Crepuscular', 'Sensor de Chuva', 'Sensor de Estacionamento', 'Travas Eletricas']\n"
          ],
          "name": "stdout"
        }
      ]
    },
    {
      "cell_type": "code",
      "metadata": {
        "colab": {
          "base_uri": "https://localhost:8080/",
          "height": 35
        },
        "id": "yDkjQosZxW2-",
        "outputId": "334534f0-353b-490a-de23-8773a78b33d5"
      },
      "source": [
        "acessorios.pop(3)"
      ],
      "execution_count": null,
      "outputs": [
        {
          "output_type": "execute_result",
          "data": {
            "application/vnd.google.colaboratory.intrinsic+json": {
              "type": "string"
            },
            "text/plain": [
              "'Rodas de Liga'"
            ]
          },
          "metadata": {
            "tags": []
          },
          "execution_count": 157
        }
      ]
    },
    {
      "cell_type": "code",
      "metadata": {
        "colab": {
          "base_uri": "https://localhost:8080/"
        },
        "id": "rW01RvpJxWuk",
        "outputId": "ee14da9b-fd2b-4bda-e9a2-3a9237fe1831"
      },
      "source": [
        "print(acessorios)"
      ],
      "execution_count": null,
      "outputs": [
        {
          "output_type": "stream",
          "text": [
            "['Ar Condicionado', 'Bancos de Couro', 'Piloto Automático', 'Sensor Crepuscular', 'Sensor de Chuva', 'Sensor de Estacionamento', 'Travas Eletricas']\n"
          ],
          "name": "stdout"
        }
      ]
    },
    {
      "cell_type": "markdown",
      "metadata": {
        "id": "3N6u0peVxeLN"
      },
      "source": [
        "### Copia uma lista"
      ]
    },
    {
      "cell_type": "code",
      "metadata": {
        "id": "J1PoHtjBxhe8"
      },
      "source": [
        "a = [1, 2, 3, 4]"
      ],
      "execution_count": null,
      "outputs": []
    },
    {
      "cell_type": "code",
      "metadata": {
        "id": "r0GMD-DExg32"
      },
      "source": [
        "b = a.copy()"
      ],
      "execution_count": null,
      "outputs": []
    },
    {
      "cell_type": "code",
      "metadata": {
        "colab": {
          "base_uri": "https://localhost:8080/"
        },
        "id": "D2GqCoHsxgu0",
        "outputId": "46a9ef16-62e1-4547-cb6c-55ef41189f93"
      },
      "source": [
        "print(a)\n",
        "print(b)"
      ],
      "execution_count": null,
      "outputs": [
        {
          "output_type": "stream",
          "text": [
            "[1, 2, 3, 4]\n",
            "[1, 2, 3, 4]\n"
          ],
          "name": "stdout"
        }
      ]
    },
    {
      "cell_type": "markdown",
      "metadata": {
        "id": "ayLCcdxCBgfF"
      },
      "source": [
        "# <font color=yellow> 4. Condições e Laços com Listas\n",
        "---"
      ]
    },
    {
      "cell_type": "markdown",
      "metadata": {
        "id": "OybzWncjCdjr"
      },
      "source": [
        "# 4.1 Loops com Listas"
      ]
    },
    {
      "cell_type": "code",
      "metadata": {
        "id": "ug1BMoQMCiuq"
      },
      "source": [
        "acessorios = [\"Rodas de Liga\", \"Travas Eletricas\", \"Piloto Automático\", \"Bancos de Couro\", \"Ar Condicionado\", \"Sensor de Estacionamento\", \"Sensor Crepuscular\", \"Sensor de Chuva\"]"
      ],
      "execution_count": null,
      "outputs": []
    },
    {
      "cell_type": "code",
      "metadata": {
        "colab": {
          "base_uri": "https://localhost:8080/"
        },
        "id": "Q5oXHaORC_Ww",
        "outputId": "a8d57722-0f46-498a-ca99-d89988031051"
      },
      "source": [
        "for item in acessorios:\n",
        "  print(item)"
      ],
      "execution_count": null,
      "outputs": [
        {
          "output_type": "stream",
          "text": [
            "Rodas de Liga\n",
            "Travas Eletricas\n",
            "Piloto Automático\n",
            "Bancos de Couro\n",
            "Ar Condicionado\n",
            "Sensor de Estacionamento\n",
            "Sensor Crepuscular\n",
            "Sensor de Chuva\n"
          ],
          "name": "stdout"
        }
      ]
    },
    {
      "cell_type": "markdown",
      "metadata": {
        "id": "f0-sKH7BDnjn"
      },
      "source": [
        "# 4.2 List comprehensions\n"
      ]
    },
    {
      "cell_type": "code",
      "metadata": {
        "colab": {
          "base_uri": "https://localhost:8080/"
        },
        "id": "BrdKcmBRDpB1",
        "outputId": "50264526-e5cb-4f5d-9de5-d90747e234d8"
      },
      "source": [
        "range(10)"
      ],
      "execution_count": null,
      "outputs": [
        {
          "output_type": "execute_result",
          "data": {
            "text/plain": [
              "range(0, 10)"
            ]
          },
          "metadata": {
            "tags": []
          },
          "execution_count": 6
        }
      ]
    },
    {
      "cell_type": "code",
      "metadata": {
        "colab": {
          "base_uri": "https://localhost:8080/"
        },
        "id": "SIg1a6NXDtrs",
        "outputId": "c03a1df9-5b45-40b7-8b92-714fe94f0f8d"
      },
      "source": [
        "list(range(10))"
      ],
      "execution_count": null,
      "outputs": [
        {
          "output_type": "execute_result",
          "data": {
            "text/plain": [
              "[0, 1, 2, 3, 4, 5, 6, 7, 8, 9]"
            ]
          },
          "metadata": {
            "tags": []
          },
          "execution_count": 7
        }
      ]
    },
    {
      "cell_type": "code",
      "metadata": {
        "colab": {
          "base_uri": "https://localhost:8080/"
        },
        "id": "zryIK-L6D2qI",
        "outputId": "8d5a7d9d-57d6-4547-f1c2-9d8e734429bc"
      },
      "source": [
        "for i in range(10):\n",
        "  print(i ** 2)"
      ],
      "execution_count": null,
      "outputs": [
        {
          "output_type": "stream",
          "text": [
            "0\n",
            "1\n",
            "4\n",
            "9\n",
            "16\n",
            "25\n",
            "36\n",
            "49\n",
            "64\n",
            "81\n"
          ],
          "name": "stdout"
        }
      ]
    },
    {
      "cell_type": "code",
      "metadata": {
        "colab": {
          "base_uri": "https://localhost:8080/"
        },
        "id": "xeNiaOxkEDld",
        "outputId": "15fc1ecf-dbcc-48f2-dc47-b2549706ef3f"
      },
      "source": [
        "quadrado = []\n",
        "for i in range(10):\n",
        "  quadrado.append(i ** 2)\n",
        "  \n",
        "print(quadrado)"
      ],
      "execution_count": null,
      "outputs": [
        {
          "output_type": "stream",
          "text": [
            "[0, 1, 4, 9, 16, 25, 36, 49, 64, 81]\n"
          ],
          "name": "stdout"
        }
      ]
    },
    {
      "cell_type": "code",
      "metadata": {
        "colab": {
          "base_uri": "https://localhost:8080/"
        },
        "id": "L7Gem48QEX4-",
        "outputId": "61fc77ca-4f5e-4448-84c7-3c3b07f5c13f"
      },
      "source": [
        "[i ** 2 for i in range(10)]"
      ],
      "execution_count": null,
      "outputs": [
        {
          "output_type": "execute_result",
          "data": {
            "text/plain": [
              "[0, 1, 4, 9, 16, 25, 36, 49, 64, 81]"
            ]
          },
          "metadata": {
            "tags": []
          },
          "execution_count": 5
        }
      ]
    },
    {
      "cell_type": "markdown",
      "metadata": {
        "id": "-ydWl1ynFBw8"
      },
      "source": [
        "# 4.3 Loos Aninhados"
      ]
    },
    {
      "cell_type": "code",
      "metadata": {
        "id": "cTSwDY1CFFmC"
      },
      "source": [
        "dados = [ \n",
        "    ['Rodas de liga', 'Travas elétricas', 'Piloto automático', 'Bancos de couro', 'Ar condicionado', 'Sensor de estacionamento', 'Sensor crepuscular', 'Sensor de chuva'],\n",
        "    ['Central multimídia', 'Teto panorâmico', 'Freios ABS', '4 X 4', 'Painel digital', 'Piloto automático', 'Bancos de couro', 'Câmera de estacionamento'],\n",
        "    ['Piloto automático', 'Controle de estabilidade', 'Sensor crepuscular', 'Freios ABS', 'Câmbio automático', 'Bancos de couro', 'Central multimídia', 'Vidros elétricos']\n",
        "]"
      ],
      "execution_count": null,
      "outputs": []
    },
    {
      "cell_type": "code",
      "metadata": {
        "colab": {
          "base_uri": "https://localhost:8080/"
        },
        "id": "9RdmtlAPFKfK",
        "outputId": "f421322c-c64d-4483-b8a7-4c910afc172e"
      },
      "source": [
        "for lista in dados:\n",
        "  print(lista)"
      ],
      "execution_count": null,
      "outputs": [
        {
          "output_type": "stream",
          "text": [
            "['Rodas de liga', 'Travas elétricas', 'Piloto automático', 'Bancos de couro', 'Ar condicionado', 'Sensor de estacionamento', 'Sensor crepuscular', 'Sensor de chuva']\n",
            "['Central multimídia', 'Teto panorâmico', 'Freios ABS', '4 X 4', 'Painel digital', 'Piloto automático', 'Bancos de couro', 'Câmera de estacionamento']\n",
            "['Piloto automático', 'Controle de estabilidade', 'Sensor crepuscular', 'Freios ABS', 'Câmbio automático', 'Bancos de couro', 'Central multimídia', 'Vidros elétricos']\n"
          ],
          "name": "stdout"
        }
      ]
    },
    {
      "cell_type": "code",
      "metadata": {
        "colab": {
          "base_uri": "https://localhost:8080/"
        },
        "id": "4QVETclWFktb",
        "outputId": "a5b56ff1-bea0-4b41-acdd-0652e9d89f04"
      },
      "source": [
        "for lista in dados:\n",
        "  for item in lista:\n",
        "    print(item)"
      ],
      "execution_count": null,
      "outputs": [
        {
          "output_type": "stream",
          "text": [
            "Rodas de liga\n",
            "Travas elétricas\n",
            "Piloto automático\n",
            "Bancos de couro\n",
            "Ar condicionado\n",
            "Sensor de estacionamento\n",
            "Sensor crepuscular\n",
            "Sensor de chuva\n",
            "Central multimídia\n",
            "Teto panorâmico\n",
            "Freios ABS\n",
            "4 X 4\n",
            "Painel digital\n",
            "Piloto automático\n",
            "Bancos de couro\n",
            "Câmera de estacionamento\n",
            "Piloto automático\n",
            "Controle de estabilidade\n",
            "Sensor crepuscular\n",
            "Freios ABS\n",
            "Câmbio automático\n",
            "Bancos de couro\n",
            "Central multimídia\n",
            "Vidros elétricos\n"
          ],
          "name": "stdout"
        }
      ]
    },
    {
      "cell_type": "code",
      "metadata": {
        "colab": {
          "base_uri": "https://localhost:8080/"
        },
        "id": "Ia7Zqdz-Fv_0",
        "outputId": "b09761ea-d419-43b0-a298-70c5c591b9b9"
      },
      "source": [
        "acessorios = []\n",
        "\n",
        "for lista in dados:\n",
        "  for item in lista:\n",
        "    acessorios.append(item)\n",
        "\n",
        "print(acessorios)"
      ],
      "execution_count": null,
      "outputs": [
        {
          "output_type": "stream",
          "text": [
            "['Rodas de liga', 'Travas elétricas', 'Piloto automático', 'Bancos de couro', 'Ar condicionado', 'Sensor de estacionamento', 'Sensor crepuscular', 'Sensor de chuva', 'Central multimídia', 'Teto panorâmico', 'Freios ABS', '4 X 4', 'Painel digital', 'Piloto automático', 'Bancos de couro', 'Câmera de estacionamento', 'Piloto automático', 'Controle de estabilidade', 'Sensor crepuscular', 'Freios ABS', 'Câmbio automático', 'Bancos de couro', 'Central multimídia', 'Vidros elétricos']\n"
          ],
          "name": "stdout"
        }
      ]
    },
    {
      "cell_type": "code",
      "metadata": {
        "colab": {
          "base_uri": "https://localhost:8080/"
        },
        "id": "9dYDAddgGJyc",
        "outputId": "184dc3f5-6b06-458d-be81-f94f402932fd"
      },
      "source": [
        "list(set(acessorios))"
      ],
      "execution_count": null,
      "outputs": [
        {
          "output_type": "execute_result",
          "data": {
            "text/plain": [
              "['Travas elétricas',\n",
              " 'Teto panorâmico',\n",
              " 'Vidros elétricos',\n",
              " 'Piloto automático',\n",
              " 'Ar condicionado',\n",
              " 'Sensor de estacionamento',\n",
              " 'Central multimídia',\n",
              " '4 X 4',\n",
              " 'Sensor crepuscular',\n",
              " 'Painel digital',\n",
              " 'Controle de estabilidade',\n",
              " 'Freios ABS',\n",
              " 'Bancos de couro',\n",
              " 'Rodas de liga',\n",
              " 'Câmera de estacionamento',\n",
              " 'Sensor de chuva',\n",
              " 'Câmbio automático']"
            ]
          },
          "metadata": {
            "tags": []
          },
          "execution_count": 18
        }
      ]
    },
    {
      "cell_type": "code",
      "metadata": {
        "colab": {
          "base_uri": "https://localhost:8080/"
        },
        "id": "7u7MIhynGdGk",
        "outputId": "8bdac1d6-3a79-4612-847d-66d8a1f1feab"
      },
      "source": [
        "[item for lista in dados for item in lista]"
      ],
      "execution_count": null,
      "outputs": [
        {
          "output_type": "execute_result",
          "data": {
            "text/plain": [
              "['Rodas de liga',\n",
              " 'Travas elétricas',\n",
              " 'Piloto automático',\n",
              " 'Bancos de couro',\n",
              " 'Ar condicionado',\n",
              " 'Sensor de estacionamento',\n",
              " 'Sensor crepuscular',\n",
              " 'Sensor de chuva',\n",
              " 'Central multimídia',\n",
              " 'Teto panorâmico',\n",
              " 'Freios ABS',\n",
              " '4 X 4',\n",
              " 'Painel digital',\n",
              " 'Piloto automático',\n",
              " 'Bancos de couro',\n",
              " 'Câmera de estacionamento',\n",
              " 'Piloto automático',\n",
              " 'Controle de estabilidade',\n",
              " 'Sensor crepuscular',\n",
              " 'Freios ABS',\n",
              " 'Câmbio automático',\n",
              " 'Bancos de couro',\n",
              " 'Central multimídia',\n",
              " 'Vidros elétricos']"
            ]
          },
          "metadata": {
            "tags": []
          },
          "execution_count": 19
        }
      ]
    },
    {
      "cell_type": "code",
      "metadata": {
        "colab": {
          "base_uri": "https://localhost:8080/"
        },
        "id": "xV6opqtRHCNl",
        "outputId": "d223946a-5d6e-4abe-9d4e-4c8ecc862a9e"
      },
      "source": [
        "list(set([item for lista in dados for item in lista]))"
      ],
      "execution_count": null,
      "outputs": [
        {
          "output_type": "execute_result",
          "data": {
            "text/plain": [
              "['Travas elétricas',\n",
              " 'Teto panorâmico',\n",
              " 'Vidros elétricos',\n",
              " 'Piloto automático',\n",
              " 'Ar condicionado',\n",
              " 'Sensor de estacionamento',\n",
              " 'Central multimídia',\n",
              " '4 X 4',\n",
              " 'Sensor crepuscular',\n",
              " 'Painel digital',\n",
              " 'Controle de estabilidade',\n",
              " 'Freios ABS',\n",
              " 'Bancos de couro',\n",
              " 'Rodas de liga',\n",
              " 'Câmera de estacionamento',\n",
              " 'Sensor de chuva',\n",
              " 'Câmbio automático']"
            ]
          },
          "metadata": {
            "tags": []
          },
          "execution_count": 20
        }
      ]
    },
    {
      "cell_type": "markdown",
      "metadata": {
        "id": "AM5A-ZO6HW8t"
      },
      "source": [
        "# 4.4 Instrução IF"
      ]
    },
    {
      "cell_type": "markdown",
      "metadata": {
        "id": "Q48vhO68Iepy"
      },
      "source": [
        "###\n",
        " Operadores de Comparações"
      ]
    },
    {
      "cell_type": "code",
      "metadata": {
        "id": "230udQKzISN9"
      },
      "source": [
        "# 1º item da lista - Nome do veículo\n",
        "# 2º item da lista - Ano de fabricação\n",
        "# 3º item da lista - Veículo é zero km?\n",
        "\n",
        "dados = [\n",
        "    ['Jetta Variant', 2003, False],\n",
        "    ['Passat', 1991, False],\n",
        "    ['Crossfox', 1990, False],\n",
        "    ['DS5', 2019, True],\n",
        "    ['Aston Martin DB4', 2006, False],\n",
        "    ['Palio Weekend', 2012, False],\n",
        "    ['A5', 2019, True],\n",
        "    ['Série 3 Cabrio', 2009, False],\n",
        "    ['Dodge Jorney', 2019, False],\n",
        "    ['Carens', 2011, False]\n",
        "]"
      ],
      "execution_count": null,
      "outputs": []
    },
    {
      "cell_type": "code",
      "metadata": {
        "colab": {
          "base_uri": "https://localhost:8080/"
        },
        "id": "WTBtDpSLI8bY",
        "outputId": "7f0e5469-96e6-43a0-819d-f78cd1e3ba6a"
      },
      "source": [
        "zero_km_y = []\n",
        "\n",
        "for lista in dados:\n",
        "  if lista[2] == True:\n",
        "    zero_km_y.append(lista)\n",
        "\n",
        "print(zero_km_y)"
      ],
      "execution_count": null,
      "outputs": [
        {
          "output_type": "stream",
          "text": [
            "[['DS5', 2019, True], ['A5', 2019, True]]\n"
          ],
          "name": "stdout"
        }
      ]
    },
    {
      "cell_type": "code",
      "metadata": {
        "colab": {
          "base_uri": "https://localhost:8080/"
        },
        "id": "rwHfwXzsJT7Q",
        "outputId": "6b36e484-6d33-4b36-c53c-122153894c00"
      },
      "source": [
        "zero_km_n = []\n",
        "\n",
        "for lista in dados:\n",
        "  if lista[2] == False:\n",
        "    zero_km_n.append(lista)\n",
        "\n",
        "print(zero_km_n)"
      ],
      "execution_count": null,
      "outputs": [
        {
          "output_type": "stream",
          "text": [
            "[['Jetta Variant', 2003, False], ['Passat', 1991, False], ['Crossfox', 1990, False], ['Aston Martin DB4', 2006, False], ['Palio Weekend', 2012, False], ['Série 3 Cabrio', 2009, False], ['Dodge Jorney', 2019, False], ['Carens', 2011, False]]\n"
          ],
          "name": "stdout"
        }
      ]
    },
    {
      "cell_type": "code",
      "metadata": {
        "colab": {
          "base_uri": "https://localhost:8080/"
        },
        "id": "WDnoSzITJ_A-",
        "outputId": "ea2fa14f-1052-4817-ea9e-f024af76e5c1"
      },
      "source": [
        "[lista for lista in dados if lista[2] == True]"
      ],
      "execution_count": null,
      "outputs": [
        {
          "output_type": "execute_result",
          "data": {
            "text/plain": [
              "[['DS5', 2019, True], ['A5', 2019, True]]"
            ]
          },
          "metadata": {
            "tags": []
          },
          "execution_count": 30
        }
      ]
    },
    {
      "cell_type": "code",
      "metadata": {
        "colab": {
          "base_uri": "https://localhost:8080/"
        },
        "id": "xwo_67b2KZPn",
        "outputId": "c58e2fd5-4901-45e6-eefe-c0cbfa77d00d"
      },
      "source": [
        "[lista for lista in dados if lista[2] == False]"
      ],
      "execution_count": null,
      "outputs": [
        {
          "output_type": "execute_result",
          "data": {
            "text/plain": [
              "[['Jetta Variant', 2003, False],\n",
              " ['Passat', 1991, False],\n",
              " ['Crossfox', 1990, False],\n",
              " ['Aston Martin DB4', 2006, False],\n",
              " ['Palio Weekend', 2012, False],\n",
              " ['Série 3 Cabrio', 2009, False],\n",
              " ['Dodge Jorney', 2019, False],\n",
              " ['Carens', 2011, False]]"
            ]
          },
          "metadata": {
            "tags": []
          },
          "execution_count": 31
        }
      ]
    },
    {
      "cell_type": "markdown",
      "metadata": {
        "id": "t6zO_YxUKhNz"
      },
      "source": [
        "# 4.5 Instruções IF-ELSE e IF-ELIF-ELSE"
      ]
    },
    {
      "cell_type": "code",
      "metadata": {
        "id": "iUiCFHzzLHNX"
      },
      "source": [
        "zero_km_y, zero_km_n  = [], []\n",
        "\n",
        "for lista in dados:\n",
        "  if lista[2] == True:\n",
        "    zero_km_y.append(lista)\n",
        "  else:\n",
        "    zero_km_n.append(lista)"
      ],
      "execution_count": null,
      "outputs": []
    },
    {
      "cell_type": "code",
      "metadata": {
        "colab": {
          "base_uri": "https://localhost:8080/"
        },
        "id": "OQOgqjFMLdOy",
        "outputId": "ed19cc0f-4cdc-4357-a142-f822ab97eb70"
      },
      "source": [
        "print(zero_km_y)"
      ],
      "execution_count": null,
      "outputs": [
        {
          "output_type": "stream",
          "text": [
            "[['DS5', 2019, True], ['A5', 2019, True]]\n"
          ],
          "name": "stdout"
        }
      ]
    },
    {
      "cell_type": "code",
      "metadata": {
        "colab": {
          "base_uri": "https://localhost:8080/"
        },
        "id": "RbHzdV-kLdEn",
        "outputId": "78c80863-21ab-4acc-da8a-93233b470b06"
      },
      "source": [
        "print(zero_km_n)"
      ],
      "execution_count": null,
      "outputs": [
        {
          "output_type": "stream",
          "text": [
            "[['Jetta Variant', 2003, False], ['Passat', 1991, False], ['Crossfox', 1990, False], ['Aston Martin DB4', 2006, False], ['Palio Weekend', 2012, False], ['Série 3 Cabrio', 2009, False], ['Dodge Jorney', 2019, False], ['Carens', 2011, False]]\n"
          ],
          "name": "stdout"
        }
      ]
    },
    {
      "cell_type": "code",
      "metadata": {
        "colab": {
          "base_uri": "https://localhost:8080/"
        },
        "id": "uTVcPE4XMK5r",
        "outputId": "f445e2e0-9857-42cd-a3af-29c718c66b44"
      },
      "source": [
        "dados"
      ],
      "execution_count": null,
      "outputs": [
        {
          "output_type": "execute_result",
          "data": {
            "text/plain": [
              "[['Jetta Variant', 2003, False],\n",
              " ['Passat', 1991, False],\n",
              " ['Crossfox', 1990, False],\n",
              " ['DS5', 2019, True],\n",
              " ['Aston Martin DB4', 2006, False],\n",
              " ['Palio Weekend', 2012, False],\n",
              " ['A5', 2019, True],\n",
              " ['Série 3 Cabrio', 2009, False],\n",
              " ['Dodge Jorney', 2019, False],\n",
              " ['Carens', 2011, False]]"
            ]
          },
          "metadata": {
            "tags": []
          },
          "execution_count": 37
        }
      ]
    },
    {
      "cell_type": "code",
      "metadata": {
        "colab": {
          "base_uri": "https://localhost:8080/"
        },
        "id": "TaZf53uDMwDK",
        "outputId": "b9f243f5-80f6-406a-fd55-6e0e4d1ecd1f"
      },
      "source": [
        "print('AND')\n",
        "print(f'(True and True) o resultado é: {True and True}')\n",
        "print(f'(True and False) o resultado é: {True and False}')\n",
        "print(f'(False and True) o resultado é: {False and True}')\n",
        "print(f'(False and False) o resultado é: {False and False}')"
      ],
      "execution_count": null,
      "outputs": [
        {
          "output_type": "stream",
          "text": [
            "AND\n",
            "(True and True) o resultado é: True\n",
            "(True and False) o resultado é: False\n",
            "(False and True) o resultado é: False\n",
            "(False and False) o resultado é: False\n"
          ],
          "name": "stdout"
        }
      ]
    },
    {
      "cell_type": "code",
      "metadata": {
        "colab": {
          "base_uri": "https://localhost:8080/"
        },
        "id": "v-kJW1QgM1LF",
        "outputId": "5a7a075d-1b11-45d9-f312-7290c17ff850"
      },
      "source": [
        "print('OR')\n",
        "print(f'(True or True) o resultado é: {True or True}')\n",
        "print(f'(True or False) o resultado é: {True or False}')\n",
        "print(f'(False or True) o resultado é: {False or True}')\n",
        "print(f'(False or False) o resultado é: {False or False}')"
      ],
      "execution_count": null,
      "outputs": [
        {
          "output_type": "stream",
          "text": [
            "OR\n",
            "(True or True) o resultado é: True\n",
            "(True or False) o resultado é: True\n",
            "(False or True) o resultado é: True\n",
            "(False or False) o resultado é: False\n"
          ],
          "name": "stdout"
        }
      ]
    },
    {
      "cell_type": "code",
      "metadata": {
        "id": "GiXPxKqJM3z0"
      },
      "source": [
        "a, b , c = [], [], []\n",
        "\n",
        "for lista in dados:\n",
        "  if lista[1] <= 2000:\n",
        "    a.append(lista)\n",
        "  elif lista[1] > 2000 and lista[1] <= 2010:\n",
        "    b.append(lista)\n",
        "  else:\n",
        "    c.append(lista)"
      ],
      "execution_count": null,
      "outputs": []
    },
    {
      "cell_type": "code",
      "metadata": {
        "colab": {
          "base_uri": "https://localhost:8080/"
        },
        "id": "SDsKP7ODNlRm",
        "outputId": "a8df5c31-114a-4043-94d3-8b24875ec439"
      },
      "source": [
        "print(a)"
      ],
      "execution_count": null,
      "outputs": [
        {
          "output_type": "stream",
          "text": [
            "[['Passat', 1991, False], ['Crossfox', 1990, False]]\n"
          ],
          "name": "stdout"
        }
      ]
    },
    {
      "cell_type": "code",
      "metadata": {
        "colab": {
          "base_uri": "https://localhost:8080/"
        },
        "id": "3gmlPm_HNm1G",
        "outputId": "121a3f36-9c12-4324-8a07-8790ba3c38fb"
      },
      "source": [
        "print(b)"
      ],
      "execution_count": null,
      "outputs": [
        {
          "output_type": "stream",
          "text": [
            "[['Jetta Variant', 2003, False], ['Aston Martin DB4', 2006, False], ['Série 3 Cabrio', 2009, False]]\n"
          ],
          "name": "stdout"
        }
      ]
    },
    {
      "cell_type": "code",
      "metadata": {
        "colab": {
          "base_uri": "https://localhost:8080/"
        },
        "id": "CnBctZ7zNnp7",
        "outputId": "b23217e9-c962-4247-cc6c-356cb1df0705"
      },
      "source": [
        "print(c)"
      ],
      "execution_count": null,
      "outputs": [
        {
          "output_type": "stream",
          "text": [
            "[['DS5', 2019, True], ['Palio Weekend', 2012, False], ['A5', 2019, True], ['Dodge Jorney', 2019, False], ['Carens', 2011, False]]\n"
          ],
          "name": "stdout"
        }
      ]
    },
    {
      "cell_type": "code",
      "metadata": {
        "id": "MliAxdatNoco"
      },
      "source": [
        "a, b , c = [], [], []\n",
        "\n",
        "for lista in dados:\n",
        "  if lista[1] <= 2000:\n",
        "    a.append(lista)\n",
        "  elif 2000 < lista[1] <= 2010:\n",
        "    b.append(lista)\n",
        "  else:\n",
        "    c.append(lista)"
      ],
      "execution_count": null,
      "outputs": []
    },
    {
      "cell_type": "code",
      "metadata": {
        "colab": {
          "base_uri": "https://localhost:8080/"
        },
        "id": "Cr4KYtHyN8_2",
        "outputId": "df4d88a2-b44e-4d46-ea97-58359e80cd61"
      },
      "source": [
        "print(a)"
      ],
      "execution_count": null,
      "outputs": [
        {
          "output_type": "stream",
          "text": [
            "[['Passat', 1991, False], ['Crossfox', 1990, False]]\n"
          ],
          "name": "stdout"
        }
      ]
    },
    {
      "cell_type": "code",
      "metadata": {
        "colab": {
          "base_uri": "https://localhost:8080/"
        },
        "id": "ckzQscTVN99c",
        "outputId": "5bb73489-40eb-4a56-957f-8ae25484cbc9"
      },
      "source": [
        "print(b)"
      ],
      "execution_count": null,
      "outputs": [
        {
          "output_type": "stream",
          "text": [
            "[['Jetta Variant', 2003, False], ['Aston Martin DB4', 2006, False], ['Série 3 Cabrio', 2009, False]]\n"
          ],
          "name": "stdout"
        }
      ]
    },
    {
      "cell_type": "code",
      "metadata": {
        "colab": {
          "base_uri": "https://localhost:8080/"
        },
        "id": "AvP2hPQcN_D9",
        "outputId": "dd0d85c7-5c59-40a0-e91d-dde29ac9c009"
      },
      "source": [
        "print(c)"
      ],
      "execution_count": null,
      "outputs": [
        {
          "output_type": "stream",
          "text": [
            "[['DS5', 2019, True], ['Palio Weekend', 2012, False], ['A5', 2019, True], ['Dodge Jorney', 2019, False], ['Carens', 2011, False]]\n"
          ],
          "name": "stdout"
        }
      ]
    },
    {
      "cell_type": "markdown",
      "metadata": {
        "id": "6PrT2KoGOggr"
      },
      "source": [
        "# <font color=yellow> 5. Numpy Básico\n",
        "---\n",
        "Numpy é a abreviação de Numerical Python e é um dos pacotes mais importantes para processamento numérico em Python. Numpy oferece a base para a maioria dos pacotes de aplicações científicas que utilizem dados numéricos em Python (estruturas de dados e algoritmos). Pode-se destacar os seguintes recursos que o pacote Numpy contém:\n",
        "\n",
        "- Um poderoso objeto array multidimensional;\n",
        "- Funções matemáticas sofisticadas para operações com arrays sem a necessidade de utilização de laços *for*;\n",
        "- Recursos de algebra linear e geração de números aleatórios\n",
        "\n",
        "Além de seus óbvios usos científicos, o pacote NumPy também é muito utilizado em análise de dados como um eficiente contêiner multidimensional de dados genéricos para transporte entre diversos algoritmos e bibliotecas em Python.\n",
        "\n",
        "**Versão:** 1.16.5\n",
        "\n",
        "**Instalação:** https://scipy.org/install.html\n",
        "\n",
        "**Documentação:** https://numpy.org/doc/1.16/"
      ]
    },
    {
      "cell_type": "markdown",
      "metadata": {
        "id": "CNOoV8XkOz2Z"
      },
      "source": [
        "### Pacotes\n",
        "\n",
        "Existem diversos pacotes Python disponíveis para download na internet. Cada pacote tem como objetivo a solução de determinado tipo de problema e para isso são desenvolvidos novos tipos, funções e métodos.\n",
        "\n",
        "Alguns pacotes são bastante utilizados em um contexto de ciência de dados como por exemplo:\n",
        "\n",
        "- Numpy\n",
        "- Pandas\n",
        "- Scikit-learn\n",
        "- Matplotlib\n",
        "\n",
        "Alguns pacotes não são distribuídos com a instalação default do Python. Neste caso devemos instalar os pacotes que necessitamos em nosso sistema para podermos utilizar suas funcionalidades."
      ]
    },
    {
      "cell_type": "markdown",
      "metadata": {
        "id": "YL7rlQZDO-NQ"
      },
      "source": [
        "# 5.1 Importando Todo o Pacote"
      ]
    },
    {
      "cell_type": "markdown",
      "metadata": {
        "id": "zPPkqZLmSC1K"
      },
      "source": [
        "### Padrão"
      ]
    },
    {
      "cell_type": "code",
      "metadata": {
        "id": "dJT6BpcXOjqp"
      },
      "source": [
        "import numpy"
      ],
      "execution_count": null,
      "outputs": []
    },
    {
      "cell_type": "code",
      "metadata": {
        "colab": {
          "base_uri": "https://localhost:8080/"
        },
        "id": "kr3t0v6dPgVw",
        "outputId": "746a5d2a-76cb-4a71-d575-44571a570ef2"
      },
      "source": [
        "numpy.arange(10)"
      ],
      "execution_count": null,
      "outputs": [
        {
          "output_type": "execute_result",
          "data": {
            "text/plain": [
              "array([0, 1, 2, 3, 4, 5, 6, 7, 8, 9])"
            ]
          },
          "metadata": {
            "tags": []
          },
          "execution_count": 117
        }
      ]
    },
    {
      "cell_type": "markdown",
      "metadata": {
        "id": "JkdHOOfpSFAA"
      },
      "source": [
        "### Atribuindo um Apelido"
      ]
    },
    {
      "cell_type": "code",
      "metadata": {
        "id": "8X88-dffPqlU"
      },
      "source": [
        "import numpy as np"
      ],
      "execution_count": null,
      "outputs": []
    },
    {
      "cell_type": "code",
      "metadata": {
        "colab": {
          "base_uri": "https://localhost:8080/"
        },
        "id": "0yUjIEBLQlz1",
        "outputId": "95051234-103e-430b-ee21-f60835ea9edc"
      },
      "source": [
        "np.arange(10)"
      ],
      "execution_count": null,
      "outputs": [
        {
          "output_type": "execute_result",
          "data": {
            "text/plain": [
              "array([0, 1, 2, 3, 4, 5, 6, 7, 8, 9])"
            ]
          },
          "metadata": {
            "tags": []
          },
          "execution_count": 3
        }
      ]
    },
    {
      "cell_type": "markdown",
      "metadata": {
        "id": "lnGkOdVXSINB"
      },
      "source": [
        "### Importando um Pacote Específico"
      ]
    },
    {
      "cell_type": "code",
      "metadata": {
        "id": "SQBjSLqlQnox"
      },
      "source": [
        "from numpy import arange"
      ],
      "execution_count": null,
      "outputs": []
    },
    {
      "cell_type": "code",
      "metadata": {
        "colab": {
          "base_uri": "https://localhost:8080/"
        },
        "id": "CzoRPhrSQr7P",
        "outputId": "7151150c-6cd8-4f8a-ab20-f8ab537e3116"
      },
      "source": [
        "arange(10)"
      ],
      "execution_count": null,
      "outputs": [
        {
          "output_type": "execute_result",
          "data": {
            "text/plain": [
              "array([0, 1, 2, 3, 4, 5, 6, 7, 8, 9])"
            ]
          },
          "metadata": {
            "tags": []
          },
          "execution_count": 121
        }
      ]
    },
    {
      "cell_type": "markdown",
      "metadata": {
        "id": "nmRDe-d4QwzL"
      },
      "source": [
        "# 5.2 Criando um Arrays Numpy"
      ]
    },
    {
      "cell_type": "markdown",
      "metadata": {
        "id": "4VIMC6T-R0g5"
      },
      "source": [
        "### A partir de Listas"
      ]
    },
    {
      "cell_type": "code",
      "metadata": {
        "id": "5b-P5HRgOvCf"
      },
      "source": [
        "km = np.array([1000,2300,4987,1500])"
      ],
      "execution_count": null,
      "outputs": []
    },
    {
      "cell_type": "code",
      "metadata": {
        "colab": {
          "base_uri": "https://localhost:8080/"
        },
        "id": "DbmjzHZA2eQt",
        "outputId": "e946ec45-31e0-4883-8856-667b50c17030"
      },
      "source": [
        "km"
      ],
      "execution_count": null,
      "outputs": [
        {
          "output_type": "execute_result",
          "data": {
            "text/plain": [
              "array([1000, 2300, 4987, 1500])"
            ]
          },
          "metadata": {
            "tags": []
          },
          "execution_count": 6
        }
      ]
    },
    {
      "cell_type": "code",
      "metadata": {
        "colab": {
          "base_uri": "https://localhost:8080/"
        },
        "id": "_rWqiDo22g0E",
        "outputId": "8f8b023a-89f0-4470-dd51-97f77f1c00b0"
      },
      "source": [
        "type(km)"
      ],
      "execution_count": null,
      "outputs": [
        {
          "output_type": "execute_result",
          "data": {
            "text/plain": [
              "numpy.ndarray"
            ]
          },
          "metadata": {
            "tags": []
          },
          "execution_count": 7
        }
      ]
    },
    {
      "cell_type": "code",
      "metadata": {
        "colab": {
          "base_uri": "https://localhost:8080/"
        },
        "id": "krtEzIZe2jar",
        "outputId": "94d95a1f-b14f-4968-f1e6-d929443ecb63"
      },
      "source": [
        "km.dtype"
      ],
      "execution_count": null,
      "outputs": [
        {
          "output_type": "execute_result",
          "data": {
            "text/plain": [
              "dtype('int64')"
            ]
          },
          "metadata": {
            "tags": []
          },
          "execution_count": 8
        }
      ]
    },
    {
      "cell_type": "markdown",
      "metadata": {
        "id": "0gG_ZjtYR5rB"
      },
      "source": [
        "### A partir de Dados Externos"
      ]
    },
    {
      "cell_type": "code",
      "metadata": {
        "id": "o9Lwm8BT2v0M"
      },
      "source": [
        "km = np.loadtxt(fname = \"carros-km.txt\", dtype=int)"
      ],
      "execution_count": null,
      "outputs": []
    },
    {
      "cell_type": "code",
      "metadata": {
        "colab": {
          "base_uri": "https://localhost:8080/"
        },
        "id": "Kd4469FT2-ZV",
        "outputId": "5b3bd3c2-5f26-42d7-c9be-aa1947d75419"
      },
      "source": [
        "km"
      ],
      "execution_count": null,
      "outputs": [
        {
          "output_type": "execute_result",
          "data": {
            "text/plain": [
              "array([ 44410,   5712,  37123,      0,  25757,  10728,      0,  77599,\n",
              "        99197,  37978,  12859,   8052,  89773,      0,  41457, 115607,\n",
              "        46449,      0,  37086,  15173, 101193,      0,  98079, 102959,\n",
              "            0,      0,   5795,      0,  58848,  94381,  30163,  53332,\n",
              "        17720,  33808,  90684,  43975,      0,      0,   5526,      0,\n",
              "        93415,  40762,      0,  86302,      0,   9755,  69945,   2395,\n",
              "            0,  80349,  85554,  50496,  67716,  93947,  35345,  81007,\n",
              "       119513,      0,      0,      0,      0,      0, 118895,  48509,\n",
              "       100912,  95649,      0,  90495,      0,  29132,  23802,  84992,\n",
              "        54395,  26731,  44329, 118236, 113808,    610,      0,      0,\n",
              "        12887,  79607,  90924,  42733,      0,      0, 117714, 113885,\n",
              "            0,  30511,  74867, 119760,   8356,  64247,  88661,   4539,\n",
              "       110116,  33215,  92001,      0,  81708,  70641,      0,  91277,\n",
              "        26544,  52596,  47503,  89056,  28834, 110564,  56638,  17357,\n",
              "        74015,  15196,      0,  10821,      0,      0,   9595,  99052,\n",
              "        52389, 119945,  96005,  31639,      0,  80187,      0,  58212,\n",
              "        61672,  32017,      0,  56944,      0,  86519,   4821, 101025,\n",
              "        30705,      0,  32555, 103389,      0,  55289,      0,      0,\n",
              "       115930,  66437,  96800,  14237,  19896, 113045, 114942,   3173,\n",
              "        83611,  25356,  88634,   2314,   2627,  52034,      0,      0,\n",
              "        79577, 108201,  76453,  57683,  96610, 109001,  26212,  45971,\n",
              "        49182,  49907,  38620,  60996,  73914, 107392,   9146,      0,\n",
              "        17924,      0, 116949,  20476,  52804,   8849,  91724,  32056,\n",
              "        74886,      0,      0,  52189,  83559,      0,  20328,      0,\n",
              "        75577,  33659, 104341,  25510,  18965,  87161,   6652,  55738,\n",
              "            0,      0,      0,  64320,      0,  68678,  71697,      0,\n",
              "        34783,  33772,  85127,  13606,  35647,  95128,  14046,  41194,\n",
              "            0,  96100, 103900,  43814,  24638,      0, 110966,  15987,\n",
              "        53369,  10077,  71544,    107,   8394,  41498, 116002, 100858,\n",
              "        67475,   8497,   4420,      0,  58537,      0,      0, 112016,\n",
              "        91840, 112787,      0,      0,   9293,      0,  55083,  48796,\n",
              "            0,  89685,  85384,  98108,  71280,  27505,  29981,  52637,\n",
              "         7685,  50188])"
            ]
          },
          "metadata": {
            "tags": []
          },
          "execution_count": 10
        }
      ]
    },
    {
      "cell_type": "code",
      "metadata": {
        "colab": {
          "base_uri": "https://localhost:8080/"
        },
        "id": "1t6WYdVl3EXk",
        "outputId": "6bea2f8c-c695-4b23-93b4-e4ca121beda9"
      },
      "source": [
        "km.dtype"
      ],
      "execution_count": null,
      "outputs": [
        {
          "output_type": "execute_result",
          "data": {
            "text/plain": [
              "dtype('int64')"
            ]
          },
          "metadata": {
            "tags": []
          },
          "execution_count": 11
        }
      ]
    },
    {
      "cell_type": "markdown",
      "metadata": {
        "id": "O1gwjh1GSaBo"
      },
      "source": [
        "### Arrays com Duas Dimensões"
      ]
    },
    {
      "cell_type": "code",
      "metadata": {
        "id": "ZJEzaxGa3HRv"
      },
      "source": [
        "dados = [ \n",
        "    ['Rodas de liga', 'Travas elétricas', 'Piloto automático', 'Bancos de couro', 'Ar condicionado', 'Sensor de estacionamento', 'Sensor crepuscular', 'Sensor de chuva'],\n",
        "    ['Central multimídia', 'Teto panorâmico', 'Freios ABS', '4 X 4', 'Painel digital', 'Piloto automático', 'Bancos de couro', 'Câmera de estacionamento'],\n",
        "    ['Piloto automático', 'Controle de estabilidade', 'Sensor crepuscular', 'Freios ABS', 'Câmbio automático', 'Bancos de couro', 'Central multimídia', 'Vidros elétricos']\n",
        "]"
      ],
      "execution_count": null,
      "outputs": []
    },
    {
      "cell_type": "code",
      "metadata": {
        "colab": {
          "base_uri": "https://localhost:8080/"
        },
        "id": "57ORjX9a3RSF",
        "outputId": "4cabd818-d0bf-43be-9e67-fe2c3ba6160f"
      },
      "source": [
        "dados"
      ],
      "execution_count": null,
      "outputs": [
        {
          "output_type": "execute_result",
          "data": {
            "text/plain": [
              "[['Rodas de liga',\n",
              "  'Travas elétricas',\n",
              "  'Piloto automático',\n",
              "  'Bancos de couro',\n",
              "  'Ar condicionado',\n",
              "  'Sensor de estacionamento',\n",
              "  'Sensor crepuscular',\n",
              "  'Sensor de chuva'],\n",
              " ['Central multimídia',\n",
              "  'Teto panorâmico',\n",
              "  'Freios ABS',\n",
              "  '4 X 4',\n",
              "  'Painel digital',\n",
              "  'Piloto automático',\n",
              "  'Bancos de couro',\n",
              "  'Câmera de estacionamento'],\n",
              " ['Piloto automático',\n",
              "  'Controle de estabilidade',\n",
              "  'Sensor crepuscular',\n",
              "  'Freios ABS',\n",
              "  'Câmbio automático',\n",
              "  'Bancos de couro',\n",
              "  'Central multimídia',\n",
              "  'Vidros elétricos']]"
            ]
          },
          "metadata": {
            "tags": []
          },
          "execution_count": 13
        }
      ]
    },
    {
      "cell_type": "code",
      "metadata": {
        "id": "himY6mAF3Sd8"
      },
      "source": [
        "acessorios = np.array(dados)"
      ],
      "execution_count": null,
      "outputs": []
    },
    {
      "cell_type": "code",
      "metadata": {
        "colab": {
          "base_uri": "https://localhost:8080/"
        },
        "id": "NfVNiV9N3bpM",
        "outputId": "9cbec141-4100-4fca-a012-22388c1fb1e8"
      },
      "source": [
        "acessorios"
      ],
      "execution_count": null,
      "outputs": [
        {
          "output_type": "execute_result",
          "data": {
            "text/plain": [
              "array([['Rodas de liga', 'Travas elétricas', 'Piloto automático',\n",
              "        'Bancos de couro', 'Ar condicionado', 'Sensor de estacionamento',\n",
              "        'Sensor crepuscular', 'Sensor de chuva'],\n",
              "       ['Central multimídia', 'Teto panorâmico', 'Freios ABS', '4 X 4',\n",
              "        'Painel digital', 'Piloto automático', 'Bancos de couro',\n",
              "        'Câmera de estacionamento'],\n",
              "       ['Piloto automático', 'Controle de estabilidade',\n",
              "        'Sensor crepuscular', 'Freios ABS', 'Câmbio automático',\n",
              "        'Bancos de couro', 'Central multimídia', 'Vidros elétricos']],\n",
              "      dtype='<U24')"
            ]
          },
          "metadata": {
            "tags": []
          },
          "execution_count": 16
        }
      ]
    },
    {
      "cell_type": "code",
      "metadata": {
        "colab": {
          "base_uri": "https://localhost:8080/"
        },
        "id": "WC8hR5LQ3haX",
        "outputId": "0a32f7d5-e31e-4654-e246-d1738aeeb798"
      },
      "source": [
        "km.shape"
      ],
      "execution_count": null,
      "outputs": [
        {
          "output_type": "execute_result",
          "data": {
            "text/plain": [
              "(258,)"
            ]
          },
          "metadata": {
            "tags": []
          },
          "execution_count": 17
        }
      ]
    },
    {
      "cell_type": "code",
      "metadata": {
        "colab": {
          "base_uri": "https://localhost:8080/"
        },
        "id": "hvQrcI0X3jcM",
        "outputId": "30071063-3e7b-4b20-fd60-73b8bf522e90"
      },
      "source": [
        "acesorios.shape"
      ],
      "execution_count": null,
      "outputs": [
        {
          "output_type": "execute_result",
          "data": {
            "text/plain": [
              "(3, 8)"
            ]
          },
          "metadata": {
            "tags": []
          },
          "execution_count": 19
        }
      ]
    },
    {
      "cell_type": "markdown",
      "metadata": {
        "id": "DAh41E8iS6C5"
      },
      "source": [
        "### Comparando Desempenho com Listas"
      ]
    },
    {
      "cell_type": "code",
      "metadata": {
        "id": "10eV6rCb3qIE"
      },
      "source": [
        "np_array = np.arange(1000000)"
      ],
      "execution_count": null,
      "outputs": []
    },
    {
      "cell_type": "code",
      "metadata": {
        "id": "nLHBJfXB3yuL"
      },
      "source": [
        "py_list = list(range(1000000))"
      ],
      "execution_count": null,
      "outputs": []
    },
    {
      "cell_type": "code",
      "metadata": {
        "colab": {
          "base_uri": "https://localhost:8080/"
        },
        "id": "sDC-j-0e33UL",
        "outputId": "30aa87ef-9927-4471-d2a4-b71edcb417f1"
      },
      "source": [
        "%time for _ in range(100): np_array *= 2"
      ],
      "execution_count": null,
      "outputs": [
        {
          "output_type": "stream",
          "text": [
            "CPU times: user 76.3 ms, sys: 0 ns, total: 76.3 ms\n",
            "Wall time: 79.5 ms\n"
          ],
          "name": "stdout"
        }
      ]
    },
    {
      "cell_type": "code",
      "metadata": {
        "colab": {
          "base_uri": "https://localhost:8080/"
        },
        "id": "KMEucx6p3_NL",
        "outputId": "e72a4c7f-7395-49b3-e4f6-5a1dac775e0f"
      },
      "source": [
        "%time for _ in range(100): py_list = [x * 2 for x in py_list]"
      ],
      "execution_count": null,
      "outputs": [
        {
          "output_type": "stream",
          "text": [
            "CPU times: user 7.82 s, sys: 1.67 s, total: 9.49 s\n",
            "Wall time: 9.52 s\n"
          ],
          "name": "stdout"
        }
      ]
    },
    {
      "cell_type": "markdown",
      "metadata": {
        "id": "Zk6yearPUXnh"
      },
      "source": [
        "# 5.3 Operações Aritméticas com Arrys Numpy"
      ]
    },
    {
      "cell_type": "markdown",
      "metadata": {
        "id": "aRJwQ6MLUhGA"
      },
      "source": [
        "### Operações com Arrays e Constantes"
      ]
    },
    {
      "cell_type": "code",
      "metadata": {
        "id": "Z4-2J86O4OpM"
      },
      "source": [
        "km = [44410., 5712., 37123., 0., 25757.]\n",
        "anos = [2003, 1991, 1990, 2019, 2006]"
      ],
      "execution_count": null,
      "outputs": []
    },
    {
      "cell_type": "code",
      "metadata": {
        "colab": {
          "base_uri": "https://localhost:8080/",
          "height": 162
        },
        "id": "0ST-GeB24WKT",
        "outputId": "2561e680-3e44-4153-cca4-bb615def737b"
      },
      "source": [
        "idade = 2020 - anos"
      ],
      "execution_count": null,
      "outputs": [
        {
          "output_type": "error",
          "ename": "TypeError",
          "evalue": "ignored",
          "traceback": [
            "\u001b[0;31m---------------------------------------------------------------------------\u001b[0m",
            "\u001b[0;31mTypeError\u001b[0m                                 Traceback (most recent call last)",
            "\u001b[0;32m<ipython-input-27-16ed7baf6216>\u001b[0m in \u001b[0;36m<module>\u001b[0;34m()\u001b[0m\n\u001b[0;32m----> 1\u001b[0;31m \u001b[0midade\u001b[0m \u001b[0;34m=\u001b[0m \u001b[0;36m2020\u001b[0m \u001b[0;34m-\u001b[0m \u001b[0manos\u001b[0m\u001b[0;34m\u001b[0m\u001b[0;34m\u001b[0m\u001b[0m\n\u001b[0m",
            "\u001b[0;31mTypeError\u001b[0m: unsupported operand type(s) for -: 'int' and 'list'"
          ]
        }
      ]
    },
    {
      "cell_type": "code",
      "metadata": {
        "id": "tYW79s-C4YX3"
      },
      "source": [
        "km = np.array([44410., 5712., 37123., 0., 25757.])\n",
        "anos = np.array([2003, 1991, 1990, 2019, 2006])"
      ],
      "execution_count": null,
      "outputs": []
    },
    {
      "cell_type": "code",
      "metadata": {
        "id": "3_GWc7XS4gmP"
      },
      "source": [
        "idade = 2020 - anos"
      ],
      "execution_count": null,
      "outputs": []
    },
    {
      "cell_type": "code",
      "metadata": {
        "colab": {
          "base_uri": "https://localhost:8080/"
        },
        "id": "qxbnb6Pp4iLM",
        "outputId": "70978c0b-ae58-4479-8050-cd0e94ac956a"
      },
      "source": [
        "idade"
      ],
      "execution_count": null,
      "outputs": [
        {
          "output_type": "execute_result",
          "data": {
            "text/plain": [
              "array([17, 29, 30,  1, 14])"
            ]
          },
          "metadata": {
            "tags": []
          },
          "execution_count": 30
        }
      ]
    },
    {
      "cell_type": "markdown",
      "metadata": {
        "id": "lj7dLIBt4muU"
      },
      "source": [
        "### Operação entre Arrays"
      ]
    },
    {
      "cell_type": "code",
      "metadata": {
        "id": "EwIkAmQ84jo8"
      },
      "source": [
        "km_media = km/idade"
      ],
      "execution_count": null,
      "outputs": []
    },
    {
      "cell_type": "code",
      "metadata": {
        "colab": {
          "base_uri": "https://localhost:8080/"
        },
        "id": "emNNZ9BQ4q8l",
        "outputId": "1dcdc44e-34cd-4160-f82f-1d4871c91f5d"
      },
      "source": [
        "km_media"
      ],
      "execution_count": null,
      "outputs": [
        {
          "output_type": "execute_result",
          "data": {
            "text/plain": [
              "array([2612.35294118,  196.96551724, 1237.43333333,    0.        ,\n",
              "       1839.78571429])"
            ]
          },
          "metadata": {
            "tags": []
          },
          "execution_count": 32
        }
      ]
    },
    {
      "cell_type": "markdown",
      "metadata": {
        "id": "vuuysyWq5ICr"
      },
      "source": [
        "### Operações com Arrays de Duas Dimensões"
      ]
    },
    {
      "cell_type": "code",
      "metadata": {
        "id": "hoLt7Zwu4qxb"
      },
      "source": [
        "dados = np.array([km, anos])"
      ],
      "execution_count": null,
      "outputs": []
    },
    {
      "cell_type": "code",
      "metadata": {
        "colab": {
          "base_uri": "https://localhost:8080/"
        },
        "id": "KeM9PdBL5MVt",
        "outputId": "98ed5b2b-38db-4d71-cd08-7074a815e2d6"
      },
      "source": [
        "dados"
      ],
      "execution_count": null,
      "outputs": [
        {
          "output_type": "execute_result",
          "data": {
            "text/plain": [
              "array([[44410.,  5712., 37123.,     0., 25757.],\n",
              "       [ 2003.,  1991.,  1990.,  2019.,  2006.]])"
            ]
          },
          "metadata": {
            "tags": []
          },
          "execution_count": 34
        }
      ]
    },
    {
      "cell_type": "code",
      "metadata": {
        "colab": {
          "base_uri": "https://localhost:8080/"
        },
        "id": "XNrjTGZJ5MM9",
        "outputId": "f690502b-4665-426d-9ea3-3d8dee11147c"
      },
      "source": [
        "dados.shape"
      ],
      "execution_count": null,
      "outputs": [
        {
          "output_type": "execute_result",
          "data": {
            "text/plain": [
              "(2, 5)"
            ]
          },
          "metadata": {
            "tags": []
          },
          "execution_count": 35
        }
      ]
    },
    {
      "cell_type": "markdown",
      "metadata": {
        "id": "HGSS3-H75dnU"
      },
      "source": [
        "![1410-img01.png](https://caelum-online-public.s3.amazonaws.com/1410-pythondatascience/01/1410-img01.png)"
      ]
    },
    {
      "cell_type": "code",
      "metadata": {
        "colab": {
          "base_uri": "https://localhost:8080/"
        },
        "id": "77SD6UxY5ZI3",
        "outputId": "6418748c-6ad9-4c53-dc49-fb8a83b8d8b6"
      },
      "source": [
        "dados[0]"
      ],
      "execution_count": null,
      "outputs": [
        {
          "output_type": "execute_result",
          "data": {
            "text/plain": [
              "array([44410.,  5712., 37123.,     0., 25757.])"
            ]
          },
          "metadata": {
            "tags": []
          },
          "execution_count": 36
        }
      ]
    },
    {
      "cell_type": "code",
      "metadata": {
        "colab": {
          "base_uri": "https://localhost:8080/"
        },
        "id": "dPU0pUFC5kqz",
        "outputId": "27bc041a-40a2-4cf6-bff3-721cfe0c5992"
      },
      "source": [
        "dados[1]"
      ],
      "execution_count": null,
      "outputs": [
        {
          "output_type": "execute_result",
          "data": {
            "text/plain": [
              "array([2003., 1991., 1990., 2019., 2006.])"
            ]
          },
          "metadata": {
            "tags": []
          },
          "execution_count": 37
        }
      ]
    },
    {
      "cell_type": "code",
      "metadata": {
        "id": "F_wAmfPU5knd"
      },
      "source": [
        "km_media = dados[0]/(2020 - dados[1])"
      ],
      "execution_count": null,
      "outputs": []
    },
    {
      "cell_type": "code",
      "metadata": {
        "colab": {
          "base_uri": "https://localhost:8080/"
        },
        "id": "T39lbEWt5kUt",
        "outputId": "1583c23e-af4d-42d6-8dc0-ed3acfe6a61c"
      },
      "source": [
        "km_media"
      ],
      "execution_count": null,
      "outputs": [
        {
          "output_type": "execute_result",
          "data": {
            "text/plain": [
              "array([2612.35294118,  196.96551724, 1237.43333333,    0.        ,\n",
              "       1839.78571429])"
            ]
          },
          "metadata": {
            "tags": []
          },
          "execution_count": 39
        }
      ]
    },
    {
      "cell_type": "markdown",
      "metadata": {
        "id": "9jjSWgDM6d0A"
      },
      "source": [
        "# 5.4 Seleções com Arrays"
      ]
    },
    {
      "cell_type": "code",
      "metadata": {
        "colab": {
          "base_uri": "https://localhost:8080/"
        },
        "id": "N4KPlGes55kI",
        "outputId": "d10d4b6f-2599-420e-f4a8-f4f88ee5989a"
      },
      "source": [
        "dados "
      ],
      "execution_count": null,
      "outputs": [
        {
          "output_type": "execute_result",
          "data": {
            "text/plain": [
              "array([[44410.,  5712., 37123.,     0., 25757.],\n",
              "       [ 2003.,  1991.,  1990.,  2019.,  2006.]])"
            ]
          },
          "metadata": {
            "tags": []
          },
          "execution_count": 40
        }
      ]
    },
    {
      "cell_type": "markdown",
      "metadata": {
        "id": "NsfeyLUW66Bz"
      },
      "source": [
        "![1410-img01.png](https://caelum-online-public.s3.amazonaws.com/1410-pythondatascience/01/1410-img01.png)"
      ]
    },
    {
      "cell_type": "markdown",
      "metadata": {
        "id": "p_wfhB3J7Bck"
      },
      "source": [
        "### Indexação"
      ]
    },
    {
      "cell_type": "code",
      "metadata": {
        "colab": {
          "base_uri": "https://localhost:8080/"
        },
        "id": "Zvh-fQuh6v8S",
        "outputId": "89660af0-c71e-4f62-ec64-61a5a379e639"
      },
      "source": [
        "contador = np.arange(10)\n",
        "contador"
      ],
      "execution_count": null,
      "outputs": [
        {
          "output_type": "execute_result",
          "data": {
            "text/plain": [
              "array([0, 1, 2, 3, 4, 5, 6, 7, 8, 9])"
            ]
          },
          "metadata": {
            "tags": []
          },
          "execution_count": 41
        }
      ]
    },
    {
      "cell_type": "code",
      "metadata": {
        "colab": {
          "base_uri": "https://localhost:8080/"
        },
        "id": "eVp5qNfT6_Hc",
        "outputId": "9fcd3b86-2200-45a8-c159-3d6dce46e28f"
      },
      "source": [
        "contador[0]"
      ],
      "execution_count": null,
      "outputs": [
        {
          "output_type": "execute_result",
          "data": {
            "text/plain": [
              "0"
            ]
          },
          "metadata": {
            "tags": []
          },
          "execution_count": 42
        }
      ]
    },
    {
      "cell_type": "code",
      "metadata": {
        "colab": {
          "base_uri": "https://localhost:8080/"
        },
        "id": "taP-q80n6--k",
        "outputId": "33a6d543-1714-4160-d63e-bf3b6a3d47d7"
      },
      "source": [
        "itens = 6\n",
        "index = itens - 1\n",
        "contador[index]"
      ],
      "execution_count": null,
      "outputs": [
        {
          "output_type": "execute_result",
          "data": {
            "text/plain": [
              "5"
            ]
          },
          "metadata": {
            "tags": []
          },
          "execution_count": 44
        }
      ]
    },
    {
      "cell_type": "code",
      "metadata": {
        "colab": {
          "base_uri": "https://localhost:8080/"
        },
        "id": "tKdsl9je6-7T",
        "outputId": "c32b0944-4e35-427a-e47f-eff66fa21c68"
      },
      "source": [
        "contador[-1]"
      ],
      "execution_count": null,
      "outputs": [
        {
          "output_type": "execute_result",
          "data": {
            "text/plain": [
              "9"
            ]
          },
          "metadata": {
            "tags": []
          },
          "execution_count": 45
        }
      ]
    },
    {
      "cell_type": "code",
      "metadata": {
        "colab": {
          "base_uri": "https://localhost:8080/"
        },
        "id": "Joi1kEbL6-28",
        "outputId": "f50f8e32-018d-40a2-85d9-101946ebfa70"
      },
      "source": [
        "dados[0]"
      ],
      "execution_count": null,
      "outputs": [
        {
          "output_type": "execute_result",
          "data": {
            "text/plain": [
              "array([44410.,  5712., 37123.,     0., 25757.])"
            ]
          },
          "metadata": {
            "tags": []
          },
          "execution_count": 46
        }
      ]
    },
    {
      "cell_type": "code",
      "metadata": {
        "colab": {
          "base_uri": "https://localhost:8080/"
        },
        "id": "9q1uWZkk6-wT",
        "outputId": "2745f6a1-9acf-4965-a89a-61a4fe310dad"
      },
      "source": [
        "dados[1]"
      ],
      "execution_count": null,
      "outputs": [
        {
          "output_type": "execute_result",
          "data": {
            "text/plain": [
              "array([2003., 1991., 1990., 2019., 2006.])"
            ]
          },
          "metadata": {
            "tags": []
          },
          "execution_count": 47
        }
      ]
    },
    {
      "cell_type": "code",
      "metadata": {
        "colab": {
          "base_uri": "https://localhost:8080/"
        },
        "id": "PnO2ygyG7kBb",
        "outputId": "fdcfb57b-9761-4a08-f0ea-6f9eedee6de3"
      },
      "source": [
        "dados[1][2]"
      ],
      "execution_count": null,
      "outputs": [
        {
          "output_type": "execute_result",
          "data": {
            "text/plain": [
              "1990.0"
            ]
          },
          "metadata": {
            "tags": []
          },
          "execution_count": 48
        }
      ]
    },
    {
      "cell_type": "code",
      "metadata": {
        "colab": {
          "base_uri": "https://localhost:8080/"
        },
        "id": "Tjw_jNyr7usa",
        "outputId": "c8b8ac44-62a5-4950-96d2-a59c2276da7a"
      },
      "source": [
        "dados[1,2]"
      ],
      "execution_count": null,
      "outputs": [
        {
          "output_type": "execute_result",
          "data": {
            "text/plain": [
              "1990.0"
            ]
          },
          "metadata": {
            "tags": []
          },
          "execution_count": 49
        }
      ]
    },
    {
      "cell_type": "markdown",
      "metadata": {
        "id": "_UpLnIHc78K8"
      },
      "source": [
        "### Fatiamento"
      ]
    },
    {
      "cell_type": "markdown",
      "metadata": {
        "id": "5sqz1XX_8Es7"
      },
      "source": [
        "![1410-img01.png](https://caelum-online-public.s3.amazonaws.com/1410-pythondatascience/01/1410-img01.png)"
      ]
    },
    {
      "cell_type": "code",
      "metadata": {
        "colab": {
          "base_uri": "https://localhost:8080/"
        },
        "id": "9KTUD70a771k",
        "outputId": "e4a8f51b-dd0a-436e-8565-d48ee9a80e6c"
      },
      "source": [
        "contador = np.arange(10)\n",
        "contador"
      ],
      "execution_count": null,
      "outputs": [
        {
          "output_type": "execute_result",
          "data": {
            "text/plain": [
              "array([0, 1, 2, 3, 4, 5, 6, 7, 8, 9])"
            ]
          },
          "metadata": {
            "tags": []
          },
          "execution_count": 51
        }
      ]
    },
    {
      "cell_type": "code",
      "metadata": {
        "colab": {
          "base_uri": "https://localhost:8080/"
        },
        "id": "U031G_Bq7yER",
        "outputId": "ce80e3b9-d9de-40a5-b349-ce5c64e8d4e7"
      },
      "source": [
        "contador[1:4]"
      ],
      "execution_count": null,
      "outputs": [
        {
          "output_type": "execute_result",
          "data": {
            "text/plain": [
              "array([1, 2, 3])"
            ]
          },
          "metadata": {
            "tags": []
          },
          "execution_count": 52
        }
      ]
    },
    {
      "cell_type": "code",
      "metadata": {
        "colab": {
          "base_uri": "https://localhost:8080/"
        },
        "id": "-abNmjAg8Rn4",
        "outputId": "66a984df-16b7-4370-ae29-29d1f7785a67"
      },
      "source": [
        "contador[1:8:2]"
      ],
      "execution_count": null,
      "outputs": [
        {
          "output_type": "execute_result",
          "data": {
            "text/plain": [
              "array([1, 3, 5, 7])"
            ]
          },
          "metadata": {
            "tags": []
          },
          "execution_count": 53
        }
      ]
    },
    {
      "cell_type": "code",
      "metadata": {
        "colab": {
          "base_uri": "https://localhost:8080/"
        },
        "id": "HWJ8ecCr8WIH",
        "outputId": "91b46abd-9bed-4bdc-c0e2-f474aed34d2b"
      },
      "source": [
        "contador[::2]"
      ],
      "execution_count": null,
      "outputs": [
        {
          "output_type": "execute_result",
          "data": {
            "text/plain": [
              "array([0, 2, 4, 6, 8])"
            ]
          },
          "metadata": {
            "tags": []
          },
          "execution_count": 55
        }
      ]
    },
    {
      "cell_type": "code",
      "metadata": {
        "colab": {
          "base_uri": "https://localhost:8080/"
        },
        "id": "gXlSOwXX8jKr",
        "outputId": "87eeddba-214e-4b87-b8c5-5201cd832bbd"
      },
      "source": [
        "contador[1::2]"
      ],
      "execution_count": null,
      "outputs": [
        {
          "output_type": "execute_result",
          "data": {
            "text/plain": [
              "array([1, 3, 5, 7, 9])"
            ]
          },
          "metadata": {
            "tags": []
          },
          "execution_count": 56
        }
      ]
    },
    {
      "cell_type": "code",
      "metadata": {
        "colab": {
          "base_uri": "https://localhost:8080/"
        },
        "id": "eHrFv2gV8qoY",
        "outputId": "4298fbab-9d3c-408f-f60f-ddcb118cf13f"
      },
      "source": [
        "dados"
      ],
      "execution_count": null,
      "outputs": [
        {
          "output_type": "execute_result",
          "data": {
            "text/plain": [
              "array([[44410.,  5712., 37123.,     0., 25757.],\n",
              "       [ 2003.,  1991.,  1990.,  2019.,  2006.]])"
            ]
          },
          "metadata": {
            "tags": []
          },
          "execution_count": 57
        }
      ]
    },
    {
      "cell_type": "code",
      "metadata": {
        "colab": {
          "base_uri": "https://localhost:8080/"
        },
        "id": "_qh9FeRw8uCr",
        "outputId": "ce54a7c4-a158-4e0d-820a-a12f650c0035"
      },
      "source": [
        "dados[:, 1:4]"
      ],
      "execution_count": null,
      "outputs": [
        {
          "output_type": "execute_result",
          "data": {
            "text/plain": [
              "array([[ 5712., 37123.,     0.],\n",
              "       [ 1991.,  1990.,  2019.]])"
            ]
          },
          "metadata": {
            "tags": []
          },
          "execution_count": 58
        }
      ]
    },
    {
      "cell_type": "code",
      "metadata": {
        "colab": {
          "base_uri": "https://localhost:8080/"
        },
        "id": "7fXYUq5c86VI",
        "outputId": "c9818f67-7bde-4d9e-d4bb-d2070b3b7330"
      },
      "source": [
        "dados[:, 1:3]"
      ],
      "execution_count": null,
      "outputs": [
        {
          "output_type": "execute_result",
          "data": {
            "text/plain": [
              "array([[ 5712., 37123.],\n",
              "       [ 1991.,  1990.]])"
            ]
          },
          "metadata": {
            "tags": []
          },
          "execution_count": 59
        }
      ]
    },
    {
      "cell_type": "code",
      "metadata": {
        "colab": {
          "base_uri": "https://localhost:8080/"
        },
        "id": "JLo5IwVY8-jy",
        "outputId": "ce06e93a-e534-4a85-a414-58b9716afefc"
      },
      "source": [
        "dados[:, 1:3][0] / (2020 - dados[:, 1:3][1])"
      ],
      "execution_count": null,
      "outputs": [
        {
          "output_type": "execute_result",
          "data": {
            "text/plain": [
              "array([ 196.96551724, 1237.43333333])"
            ]
          },
          "metadata": {
            "tags": []
          },
          "execution_count": 62
        }
      ]
    },
    {
      "cell_type": "markdown",
      "metadata": {
        "id": "8dyBVya19agT"
      },
      "source": [
        "### Indexção com Arrays Booleano"
      ]
    },
    {
      "cell_type": "code",
      "metadata": {
        "colab": {
          "base_uri": "https://localhost:8080/"
        },
        "id": "1rlZCvls9iQU",
        "outputId": "c87b1dfb-dc89-43a9-b9ef-1d8fed52cb41"
      },
      "source": [
        "contador = np.arange(10)\n",
        "contador"
      ],
      "execution_count": null,
      "outputs": [
        {
          "output_type": "execute_result",
          "data": {
            "text/plain": [
              "array([0, 1, 2, 3, 4, 5, 6, 7, 8, 9])"
            ]
          },
          "metadata": {
            "tags": []
          },
          "execution_count": 63
        }
      ]
    },
    {
      "cell_type": "code",
      "metadata": {
        "colab": {
          "base_uri": "https://localhost:8080/"
        },
        "id": "0Vc12xQB9aBr",
        "outputId": "34d9054e-6f94-478e-bece-171752c8986e"
      },
      "source": [
        "contador > 5"
      ],
      "execution_count": null,
      "outputs": [
        {
          "output_type": "execute_result",
          "data": {
            "text/plain": [
              "array([False, False, False, False, False, False,  True,  True,  True,\n",
              "        True])"
            ]
          },
          "metadata": {
            "tags": []
          },
          "execution_count": 64
        }
      ]
    },
    {
      "cell_type": "code",
      "metadata": {
        "colab": {
          "base_uri": "https://localhost:8080/"
        },
        "id": "ZFM5Zp6o9C5u",
        "outputId": "8f43deab-3e79-45e9-89ff-e0ccc99abbc0"
      },
      "source": [
        "contador[contador > 5]"
      ],
      "execution_count": null,
      "outputs": [
        {
          "output_type": "execute_result",
          "data": {
            "text/plain": [
              "array([6, 7, 8, 9])"
            ]
          },
          "metadata": {
            "tags": []
          },
          "execution_count": 65
        }
      ]
    },
    {
      "cell_type": "code",
      "metadata": {
        "colab": {
          "base_uri": "https://localhost:8080/"
        },
        "id": "gV3ftMwC91aj",
        "outputId": "8f366fe7-8771-4688-b1f5-24f88e521272"
      },
      "source": [
        "dados"
      ],
      "execution_count": null,
      "outputs": [
        {
          "output_type": "execute_result",
          "data": {
            "text/plain": [
              "array([[44410.,  5712., 37123.,     0., 25757.],\n",
              "       [ 2003.,  1991.,  1990.,  2019.,  2006.]])"
            ]
          },
          "metadata": {
            "tags": []
          },
          "execution_count": 66
        }
      ]
    },
    {
      "cell_type": "code",
      "metadata": {
        "colab": {
          "base_uri": "https://localhost:8080/"
        },
        "id": "m5IyGheD98k5",
        "outputId": "7c0ab80f-cb40-421c-de05-fc423ccbd144"
      },
      "source": [
        "dados[1] > 2000"
      ],
      "execution_count": null,
      "outputs": [
        {
          "output_type": "execute_result",
          "data": {
            "text/plain": [
              "array([ True, False, False,  True,  True])"
            ]
          },
          "metadata": {
            "tags": []
          },
          "execution_count": 67
        }
      ]
    },
    {
      "cell_type": "code",
      "metadata": {
        "colab": {
          "base_uri": "https://localhost:8080/"
        },
        "id": "jKB1LevY-B9c",
        "outputId": "2b88bedd-aa50-48c4-bbd1-c7c90f5bd12c"
      },
      "source": [
        "dados[:, dados[1] > 2000]"
      ],
      "execution_count": null,
      "outputs": [
        {
          "output_type": "execute_result",
          "data": {
            "text/plain": [
              "array([[44410.,     0., 25757.],\n",
              "       [ 2003.,  2019.,  2006.]])"
            ]
          },
          "metadata": {
            "tags": []
          },
          "execution_count": 68
        }
      ]
    },
    {
      "cell_type": "code",
      "metadata": {
        "colab": {
          "base_uri": "https://localhost:8080/"
        },
        "id": "4TUKDEtI-Lnq",
        "outputId": "2a9b8fbb-7979-4e95-99f5-3344cf9fd697"
      },
      "source": [
        "dados[:, dados[1] > 2000] / (2020 - dados[:, dados[1] > 2000][1])"
      ],
      "execution_count": null,
      "outputs": [
        {
          "output_type": "execute_result",
          "data": {
            "text/plain": [
              "array([[2612.35294118,    0.        , 1839.78571429],\n",
              "       [ 117.82352941, 2019.        ,  143.28571429]])"
            ]
          },
          "metadata": {
            "tags": []
          },
          "execution_count": 70
        }
      ]
    },
    {
      "cell_type": "markdown",
      "metadata": {
        "id": "6GsUGYEI_6u0"
      },
      "source": [
        "# 5.5 Atributos e Métodos com Numpy"
      ]
    },
    {
      "cell_type": "code",
      "metadata": {
        "colab": {
          "base_uri": "https://localhost:8080/",
          "height": 195
        },
        "id": "xV_3BZWxAMzB",
        "outputId": "921fcfab-378f-491f-fe71-0ffe061ffb0e"
      },
      "source": [
        "dados = np.array([[44410., 5712., 37123., 0., 25757.],\n",
        "                  [2003, 1991, 1990, 2019, 2006]])\n",
        "dados"
      ],
      "execution_count": null,
      "outputs": [
        {
          "output_type": "error",
          "ename": "NameError",
          "evalue": "ignored",
          "traceback": [
            "\u001b[0;31m---------------------------------------------------------------------------\u001b[0m",
            "\u001b[0;31mNameError\u001b[0m                                 Traceback (most recent call last)",
            "\u001b[0;32m<ipython-input-12-8336be24968c>\u001b[0m in \u001b[0;36m<module>\u001b[0;34m()\u001b[0m\n\u001b[0;32m----> 1\u001b[0;31m dados = np.array([[44410., 5712., 37123., 0., 25757.],\n\u001b[0m\u001b[1;32m      2\u001b[0m                   [2003, 1991, 1990, 2019, 2006]])\n\u001b[1;32m      3\u001b[0m \u001b[0mdados\u001b[0m\u001b[0;34m\u001b[0m\u001b[0;34m\u001b[0m\u001b[0m\n",
            "\u001b[0;31mNameError\u001b[0m: name 'np' is not defined"
          ]
        }
      ]
    },
    {
      "cell_type": "markdown",
      "metadata": {
        "id": "Ca5VsW_WAIEs"
      },
      "source": [
        "## ndarray.shape\n",
        "\n",
        "Retorna uma tupla com as dimensões do array.\n"
      ]
    },
    {
      "cell_type": "code",
      "metadata": {
        "colab": {
          "base_uri": "https://localhost:8080/",
          "height": 162
        },
        "id": "NuS4ZzzR_9pY",
        "outputId": "aa1ffd9d-0f0f-4c5f-ebe1-fb639163d769"
      },
      "source": [
        "dados.shape"
      ],
      "execution_count": null,
      "outputs": [
        {
          "output_type": "error",
          "ename": "NameError",
          "evalue": "ignored",
          "traceback": [
            "\u001b[0;31m---------------------------------------------------------------------------\u001b[0m",
            "\u001b[0;31mNameError\u001b[0m                                 Traceback (most recent call last)",
            "\u001b[0;32m<ipython-input-13-5b67b32a2ae3>\u001b[0m in \u001b[0;36m<module>\u001b[0;34m()\u001b[0m\n\u001b[0;32m----> 1\u001b[0;31m \u001b[0mdados\u001b[0m\u001b[0;34m.\u001b[0m\u001b[0mshape\u001b[0m\u001b[0;34m\u001b[0m\u001b[0;34m\u001b[0m\u001b[0m\n\u001b[0m",
            "\u001b[0;31mNameError\u001b[0m: name 'dados' is not defined"
          ]
        }
      ]
    },
    {
      "cell_type": "markdown",
      "metadata": {
        "id": "HJi2t-joAwBk"
      },
      "source": [
        "## *ndarray.ndim*\n",
        "\n",
        "Retorna o número de dimensões do array."
      ]
    },
    {
      "cell_type": "code",
      "metadata": {
        "id": "W7lpFdnkAo8v"
      },
      "source": [
        "dados.ndim"
      ],
      "execution_count": null,
      "outputs": []
    },
    {
      "cell_type": "markdown",
      "metadata": {
        "id": "nxWVJg0mA7Fb"
      },
      "source": [
        "## *ndarray.size*\n",
        "\n",
        "Retorna o número de elementos do array."
      ]
    },
    {
      "cell_type": "code",
      "metadata": {
        "id": "Mc-YTlmkA2os"
      },
      "source": [
        "dados.size"
      ],
      "execution_count": null,
      "outputs": []
    },
    {
      "cell_type": "markdown",
      "metadata": {
        "id": "1gDwKamwA-rk"
      },
      "source": [
        "### *ndarray.dtype*\n",
        "\n",
        "Retorna o tipo de dados dos elementos do array."
      ]
    },
    {
      "cell_type": "code",
      "metadata": {
        "id": "wf1nyJ0-A8s_"
      },
      "source": [
        "dados.dtype"
      ],
      "execution_count": null,
      "outputs": []
    },
    {
      "cell_type": "markdown",
      "metadata": {
        "id": "OAlcXVKNBIQj"
      },
      "source": [
        "## *ndarray.T*\n",
        "\n",
        "Retorna o array transposto, isto é, converte linhas em colunas e vice versa."
      ]
    },
    {
      "cell_type": "code",
      "metadata": {
        "id": "tLuxtqfOBDfi"
      },
      "source": [
        "dados.T"
      ],
      "execution_count": null,
      "outputs": []
    },
    {
      "cell_type": "markdown",
      "metadata": {
        "id": "LxVnV78PBOxV"
      },
      "source": [
        "## *ndarray.tolist()*\n",
        "\n",
        "Retorna o array como uma lista Python."
      ]
    },
    {
      "cell_type": "code",
      "metadata": {
        "id": "VS_qwj_4BJuc"
      },
      "source": [
        "dados.tolist()"
      ],
      "execution_count": null,
      "outputs": []
    },
    {
      "cell_type": "markdown",
      "metadata": {
        "id": "0oKMDHgOBgqa"
      },
      "source": [
        "## *ndarray.reshape(shape[, order])*\n",
        "\n",
        "Retorna um array que contém os mesmos dados com uma nova forma."
      ]
    },
    {
      "cell_type": "code",
      "metadata": {
        "id": "7TAOQ0GYBQaM"
      },
      "source": [
        "contador = np.arange(10)\n",
        "contador"
      ],
      "execution_count": null,
      "outputs": []
    },
    {
      "cell_type": "code",
      "metadata": {
        "id": "C7wtQ_6bBlQv"
      },
      "source": [
        "contador.reshape((5,2))"
      ],
      "execution_count": null,
      "outputs": []
    },
    {
      "cell_type": "code",
      "metadata": {
        "id": "K8MEc4KUBvqD"
      },
      "source": [
        "contador.reshape((5,2), order='C')"
      ],
      "execution_count": null,
      "outputs": []
    },
    {
      "cell_type": "code",
      "metadata": {
        "id": "BxosFpgfB2yq"
      },
      "source": [
        "contador.reshape((5,2), order='F')"
      ],
      "execution_count": null,
      "outputs": []
    },
    {
      "cell_type": "code",
      "metadata": {
        "id": "50ilYx37B6JC"
      },
      "source": [
        "km = [44410, 5712, 37123, 0, 25757]\n",
        "anos = [2003, 1991, 1990, 2019, 2006]"
      ],
      "execution_count": null,
      "outputs": []
    },
    {
      "cell_type": "code",
      "metadata": {
        "id": "M_823MsACB61"
      },
      "source": [
        "info_carros = km + anos\n",
        "info_carros"
      ],
      "execution_count": null,
      "outputs": []
    },
    {
      "cell_type": "code",
      "metadata": {
        "id": "vM6cYZ6JCGng"
      },
      "source": [
        "np.array(info_carros)"
      ],
      "execution_count": null,
      "outputs": []
    },
    {
      "cell_type": "code",
      "metadata": {
        "id": "uzphAW1RCNka"
      },
      "source": [
        "np.array(info_carros).reshape((2,5))"
      ],
      "execution_count": null,
      "outputs": []
    },
    {
      "cell_type": "code",
      "metadata": {
        "id": "dYB20Q1HCSFX"
      },
      "source": [
        "np.array(info_carros).reshape((5,2), order='F')"
      ],
      "execution_count": null,
      "outputs": []
    },
    {
      "cell_type": "markdown",
      "metadata": {
        "id": "9kin05ObCoVz"
      },
      "source": [
        "## *ndarray.resize(new_shape[, refcheck])*\n",
        "\n",
        "Altera a forma e o tamanho do array."
      ]
    },
    {
      "cell_type": "code",
      "metadata": {
        "id": "mROxnJFICbj6"
      },
      "source": [
        "dados_new = dados.copy()\n",
        "dados_new"
      ],
      "execution_count": null,
      "outputs": []
    },
    {
      "cell_type": "code",
      "metadata": {
        "id": "-LyMeKWsCySI"
      },
      "source": [
        "dados_new.resize((3,5),refcheck=False)"
      ],
      "execution_count": null,
      "outputs": []
    },
    {
      "cell_type": "code",
      "metadata": {
        "id": "N8SKwKaIC_RI"
      },
      "source": [
        "dados_new"
      ],
      "execution_count": null,
      "outputs": []
    },
    {
      "cell_type": "code",
      "metadata": {
        "id": "3t74D0RiDICG"
      },
      "source": [
        "dados_new[2] = dados_new[0] / (2021 - dados_new[1])"
      ],
      "execution_count": null,
      "outputs": []
    },
    {
      "cell_type": "code",
      "metadata": {
        "id": "sNciv4-SDRs_"
      },
      "source": [
        "dados_new"
      ],
      "execution_count": null,
      "outputs": []
    },
    {
      "cell_type": "markdown",
      "metadata": {
        "id": "yNXrn9zLD-D6"
      },
      "source": [
        "# 5.6 Estatísticas com Array Numpy"
      ]
    },
    {
      "cell_type": "code",
      "metadata": {
        "id": "Onke9xccDSiP"
      },
      "source": [
        "anos = np.loadtxt(fname = \"carros-anos.txt\", dtype = int)\n",
        "km = np.loadtxt(fname = \"carros-km.txt\")\n",
        "valor = np.loadtxt(fname = \"carros-valor.txt\")"
      ],
      "execution_count": null,
      "outputs": []
    },
    {
      "cell_type": "code",
      "metadata": {
        "colab": {
          "base_uri": "https://localhost:8080/"
        },
        "id": "oKELU9UyEE30",
        "outputId": "fd3d4513-45b9-4225-f2e6-178028134a12"
      },
      "source": [
        "anos.shape"
      ],
      "execution_count": null,
      "outputs": [
        {
          "output_type": "execute_result",
          "data": {
            "text/plain": [
              "(258,)"
            ]
          },
          "metadata": {
            "tags": []
          },
          "execution_count": 107
        }
      ]
    },
    {
      "cell_type": "code",
      "metadata": {
        "id": "MCJxOqaLENLY"
      },
      "source": [
        "dataset = np.column_stack((anos, km, valor))"
      ],
      "execution_count": null,
      "outputs": []
    },
    {
      "cell_type": "code",
      "metadata": {
        "id": "mxwsGzsvEadO"
      },
      "source": [
        "dataset"
      ],
      "execution_count": null,
      "outputs": []
    },
    {
      "cell_type": "code",
      "metadata": {
        "colab": {
          "base_uri": "https://localhost:8080/"
        },
        "id": "42frUFAfEdhR",
        "outputId": "a921c88b-e579-4b86-afff-eeba809b031b"
      },
      "source": [
        "dataset.shape"
      ],
      "execution_count": null,
      "outputs": [
        {
          "output_type": "execute_result",
          "data": {
            "text/plain": [
              "(258, 3)"
            ]
          },
          "metadata": {
            "tags": []
          },
          "execution_count": 112
        }
      ]
    },
    {
      "cell_type": "markdown",
      "metadata": {
        "id": "A3QGiVoCEu0Z"
      },
      "source": [
        "## *np.mean()*\n",
        "\n",
        "Retorna a média dos elementos do array ao longo do eixo especificado."
      ]
    },
    {
      "cell_type": "code",
      "metadata": {
        "colab": {
          "base_uri": "https://localhost:8080/"
        },
        "id": "7zTwiSoAEms-",
        "outputId": "6eadaa79-786a-43bf-9cfd-2d65ac1198ea"
      },
      "source": [
        "np.mean(dataset, axis = 0)"
      ],
      "execution_count": null,
      "outputs": [
        {
          "output_type": "execute_result",
          "data": {
            "text/plain": [
              "array([ 2007.51162791, 44499.41472868, 98960.51310078])"
            ]
          },
          "metadata": {
            "tags": []
          },
          "execution_count": 116
        }
      ]
    },
    {
      "cell_type": "code",
      "metadata": {
        "colab": {
          "base_uri": "https://localhost:8080/"
        },
        "id": "Qb-CHeqeE1md",
        "outputId": "623d2056-296f-4815-f2c0-1e4ce4cf6008"
      },
      "source": [
        "np.mean(dataset[:, 1])"
      ],
      "execution_count": null,
      "outputs": [
        {
          "output_type": "execute_result",
          "data": {
            "text/plain": [
              "44499.41472868217"
            ]
          },
          "metadata": {
            "tags": []
          },
          "execution_count": 118
        }
      ]
    },
    {
      "cell_type": "code",
      "metadata": {
        "colab": {
          "base_uri": "https://localhost:8080/"
        },
        "id": "vXSlsPTsFLIu",
        "outputId": "78734f67-154c-4fcd-fca5-e977675f8b33"
      },
      "source": [
        "np.mean(dataset[:, 2])"
      ],
      "execution_count": null,
      "outputs": [
        {
          "output_type": "execute_result",
          "data": {
            "text/plain": [
              "98960.51310077519"
            ]
          },
          "metadata": {
            "tags": []
          },
          "execution_count": 119
        }
      ]
    },
    {
      "cell_type": "markdown",
      "metadata": {
        "id": "h8SoOCUv2x6B"
      },
      "source": [
        "# <font color=yellow> 6. Ambiente do Cientista de Dados\n",
        "---"
      ]
    },
    {
      "cell_type": "markdown",
      "metadata": {
        "id": "r90GwbQg2x6B"
      },
      "source": [
        "# 6.1 Média de Km por Ano"
      ]
    },
    {
      "cell_type": "code",
      "metadata": {
        "colab": {
          "base_uri": "https://localhost:8080/"
        },
        "id": "Zv9rUD8s2x6B",
        "outputId": "98cda814-8932-4c2d-a133-abb79e4aeb0e"
      },
      "source": [
        "import numpy as np\n",
        "\n",
        "km = np.loadtxt(\"carros-km.txt\")\n",
        "anos = np.loadtxt(\"carros-anos.txt\", dtype=int\n",
        "\n",
        "km_media = km / (2019 - anos)\n",
        "\n",
        "print(km_media)"
      ],
      "execution_count": null,
      "outputs": [
        {
          "output_type": "stream",
          "text": [
            "[2.77562500e+03 2.04000000e+02 1.28010345e+03            nan\n",
            " 1.98130769e+03 1.53257143e+03            nan 7.75990000e+03\n",
            " 1.10218889e+04 4.74725000e+03 7.56411765e+02 6.71000000e+02\n",
            " 4.98738889e+03            nan 4.14570000e+03 3.85356667e+04\n",
            " 6.63557143e+03            nan 1.23620000e+04 7.58650000e+03\n",
            " 5.95252941e+03            nan 3.92316000e+03 3.67710714e+03\n",
            "            nan            nan 1.93166667e+03            nan\n",
            " 3.46164706e+03 3.37075000e+03 1.37104545e+03 2.22216667e+03\n",
            " 1.77200000e+04 1.20742857e+03 1.81368000e+04 1.83229167e+03\n",
            "            nan            nan 5.52600000e+02            nan\n",
            " 1.55691667e+04 2.54762500e+03            nan 5.07658824e+03\n",
            "            nan 5.73823529e+02 4.66300000e+03 1.33055556e+02\n",
            "            nan 5.02181250e+03 8.55540000e+03 3.88430769e+03\n",
            " 3.56400000e+03 7.22669231e+03 3.92722222e+03 3.24028000e+03\n",
            " 9.95941667e+03            nan            nan            nan\n",
            "            nan            nan 5.94475000e+04 6.06362500e+03\n",
            " 5.60622222e+03 4.15865217e+03            nan 3.61980000e+03\n",
            "            nan 2.42766667e+03 9.52080000e+02 7.08266667e+03\n",
            " 2.47250000e+03 2.05623077e+03 7.38816667e+03 4.72944000e+03\n",
            " 1.03461818e+04 5.54545455e+01            nan            nan\n",
            " 6.44350000e+02 6.63391667e+03 3.49707692e+03 1.78054167e+03\n",
            "            nan            nan 3.92380000e+04 1.42356250e+04\n",
            "            nan 1.79476471e+03 1.24778333e+04 5.98800000e+04\n",
            " 2.78533333e+03 5.84063636e+03 8.86610000e+04 2.83687500e+02\n",
            " 6.88225000e+03 2.21433333e+03 1.02223333e+04            nan\n",
            " 6.28523077e+03 3.92450000e+03            nan 2.28192500e+04\n",
            " 2.65440000e+04 2.62980000e+04 1.75937037e+03 4.94755556e+03\n",
            " 1.10900000e+03 4.60683333e+03 3.53987500e+03 3.47140000e+03\n",
            " 6.72863636e+03 2.53266667e+03            nan 5.41050000e+03\n",
            "            nan            nan 7.38076923e+02 2.47630000e+04\n",
            " 4.36575000e+03 8.56750000e+03 4.80025000e+04 1.50661905e+03\n",
            "            nan 4.00935000e+03            nan 5.82120000e+03\n",
            " 3.85450000e+03 1.28068000e+03            nan 2.27776000e+03\n",
            "            nan 2.16297500e+04 2.09608696e+02 4.59204545e+03\n",
            " 1.18096154e+03            nan 1.20574074e+03 4.30787500e+03\n",
            "            nan 1.90651724e+03            nan            nan\n",
            " 4.14035714e+03 2.29093103e+03 1.38285714e+04 1.18641667e+03\n",
            " 3.31600000e+03 5.94973684e+03 6.76129412e+03 1.37956522e+02\n",
            " 3.63526087e+03 6.33900000e+03 3.40900000e+03 3.85666667e+02\n",
            " 4.37833333e+02 5.20340000e+03            nan            nan\n",
            " 4.68100000e+03 4.91822727e+03 3.64061905e+03 3.84553333e+03\n",
            " 4.20043478e+03 2.72502500e+04 8.73733333e+03 3.28364286e+03\n",
            " 2.45910000e+03 2.07945833e+03 1.48538462e+03 4.06640000e+03\n",
            " 1.23190000e+04 5.11390476e+03 9.14600000e+03            nan\n",
            " 1.79240000e+04            nan 4.03272414e+03 2.04760000e+03\n",
            " 1.82082759e+03 6.80692308e+02 5.39552941e+03 1.14485714e+03\n",
            " 2.77355556e+03            nan            nan 3.72778571e+03\n",
            " 9.28433333e+03            nan 6.77600000e+03            nan\n",
            " 8.39744444e+03 1.34636000e+03 5.79672222e+03 5.10200000e+03\n",
            " 8.24565217e+02 3.35234615e+03 2.55846154e+02 3.09655556e+03\n",
            "            nan            nan            nan 5.36000000e+03\n",
            "            nan 2.28926667e+04 1.43394000e+04            nan\n",
            " 8.69575000e+03 8.44300000e+03 3.70117391e+03 8.00352941e+02\n",
            " 2.54621429e+03 3.96366667e+03 7.02300000e+02 2.94242857e+03\n",
            "            nan 4.36818182e+03 3.58275862e+03 2.43411111e+03\n",
            " 4.10633333e+03            nan 5.54830000e+04 1.99837500e+03\n",
            " 3.81207143e+03 8.39750000e+02 2.75169231e+03 3.82142857e+00\n",
            " 2.99785714e+02 1.88627273e+03 6.10536842e+03 8.40483333e+03\n",
            " 5.19038462e+03 2.12425000e+03 4.01818182e+02            nan\n",
            " 2.54508696e+03            nan            nan 2.24032000e+04\n",
            " 6.12266667e+03 1.02533636e+04            nan            nan\n",
            " 1.32757143e+03            nan 2.39491304e+03 6.09950000e+03\n",
            "            nan 9.96500000e+03 7.11533333e+03 3.92432000e+03\n",
            " 5.94000000e+03 5.50100000e+03 1.07075000e+03 3.09629412e+03\n",
            " 3.34130435e+02 1.85881481e+03]\n",
            "<class 'numpy.ndarray'>\n"
          ],
          "name": "stdout"
        },
        {
          "output_type": "stream",
          "text": [
            "/usr/local/lib/python3.6/dist-packages/ipykernel_launcher.py:7: RuntimeWarning: invalid value encountered in true_divide\n",
            "  import sys\n"
          ],
          "name": "stderr"
        }
      ]
    },
    {
      "cell_type": "markdown",
      "metadata": {
        "id": "Na3o82ut2x6C"
      },
      "source": [
        "# 6.2 Tipo do Array Numpy"
      ]
    },
    {
      "cell_type": "code",
      "metadata": {
        "colab": {
          "base_uri": "https://localhost:8080/"
        },
        "id": "iGwi8QyU2x6C",
        "outputId": "cf8473a5-27be-4898-fa56-07483d8809f1"
      },
      "source": [
        "print(type(km_media))"
      ],
      "execution_count": null,
      "outputs": [
        {
          "output_type": "stream",
          "text": [
            "<class 'numpy.ndarray'>\n"
          ],
          "name": "stdout"
        }
      ]
    },
    {
      "cell_type": "markdown",
      "metadata": {
        "id": "e0WF2PCI2x6C"
      },
      "source": [
        "# <font color=yellow> 7. Características do Python\n",
        "---"
      ]
    },
    {
      "cell_type": "markdown",
      "metadata": {
        "id": "m__-0O0i2x6C"
      },
      "source": [
        "# 7.1 Operaçãoes Matemáticas"
      ]
    },
    {
      "cell_type": "markdown",
      "metadata": {
        "id": "oV_RlJZS2x6C"
      },
      "source": [
        "### Soma"
      ]
    },
    {
      "cell_type": "code",
      "metadata": {
        "colab": {
          "base_uri": "https://localhost:8080/"
        },
        "id": "hLbhfrIl2x6C",
        "outputId": "133c790b-122a-49a2-dc3e-4441f6945569"
      },
      "source": [
        "2 + 2"
      ],
      "execution_count": null,
      "outputs": [
        {
          "output_type": "execute_result",
          "data": {
            "text/plain": [
              "4"
            ]
          },
          "metadata": {
            "tags": []
          },
          "execution_count": 84
        }
      ]
    },
    {
      "cell_type": "markdown",
      "metadata": {
        "id": "qMC68rxh2x6C"
      },
      "source": [
        "### Subtração"
      ]
    },
    {
      "cell_type": "code",
      "metadata": {
        "colab": {
          "base_uri": "https://localhost:8080/"
        },
        "id": "QZ5w1bNR2x6D",
        "outputId": "06be28bb-694f-41e9-8750-355457c37864"
      },
      "source": [
        "2 - 2 "
      ],
      "execution_count": null,
      "outputs": [
        {
          "output_type": "execute_result",
          "data": {
            "text/plain": [
              "0"
            ]
          },
          "metadata": {
            "tags": []
          },
          "execution_count": 85
        }
      ]
    },
    {
      "cell_type": "markdown",
      "metadata": {
        "id": "gjbGcBQ52x6D"
      },
      "source": [
        "### Multiplicação"
      ]
    },
    {
      "cell_type": "code",
      "metadata": {
        "colab": {
          "base_uri": "https://localhost:8080/"
        },
        "id": "PhGZtYDy2x6D",
        "outputId": "7e755bb7-4a1d-4268-b3ab-a47a428f4ec3"
      },
      "source": [
        "2 * 3"
      ],
      "execution_count": null,
      "outputs": [
        {
          "output_type": "execute_result",
          "data": {
            "text/plain": [
              "6"
            ]
          },
          "metadata": {
            "tags": []
          },
          "execution_count": 86
        }
      ]
    },
    {
      "cell_type": "markdown",
      "metadata": {
        "id": "-isX03oQ2x6D"
      },
      "source": [
        "### Divisão"
      ]
    },
    {
      "cell_type": "code",
      "metadata": {
        "colab": {
          "base_uri": "https://localhost:8080/"
        },
        "id": "0G1JSg5V2x6D",
        "outputId": "c448fa0c-5be9-4088-8cbf-b554a18a8195"
      },
      "source": [
        "10 / 3"
      ],
      "execution_count": null,
      "outputs": [
        {
          "output_type": "execute_result",
          "data": {
            "text/plain": [
              "3.3333333333333335"
            ]
          },
          "metadata": {
            "tags": []
          },
          "execution_count": 87
        }
      ]
    },
    {
      "cell_type": "markdown",
      "metadata": {
        "id": "SqaQoJ7K2x6D"
      },
      "source": [
        "### Parte Inteira da Divisão"
      ]
    },
    {
      "cell_type": "code",
      "metadata": {
        "colab": {
          "base_uri": "https://localhost:8080/"
        },
        "id": "O2bv1ePk2x6D",
        "outputId": "ae43ddfc-76ce-4ffb-ea72-20a4f91353e3"
      },
      "source": [
        "10 // 3"
      ],
      "execution_count": null,
      "outputs": [
        {
          "output_type": "execute_result",
          "data": {
            "text/plain": [
              "3"
            ]
          },
          "metadata": {
            "tags": []
          },
          "execution_count": 88
        }
      ]
    },
    {
      "cell_type": "markdown",
      "metadata": {
        "id": "Y42U19B62x6E"
      },
      "source": [
        "### Exponenciação"
      ]
    },
    {
      "cell_type": "code",
      "metadata": {
        "colab": {
          "base_uri": "https://localhost:8080/"
        },
        "id": "GEdsaEU12x6E",
        "outputId": "7e99a500-9752-4959-bc38-d39576419cb0"
      },
      "source": [
        "2 ** 3"
      ],
      "execution_count": null,
      "outputs": [
        {
          "output_type": "execute_result",
          "data": {
            "text/plain": [
              "8"
            ]
          },
          "metadata": {
            "tags": []
          },
          "execution_count": 89
        }
      ]
    },
    {
      "cell_type": "markdown",
      "metadata": {
        "id": "aOxJHd4N2x6E"
      },
      "source": [
        "### Resto da Divisão"
      ]
    },
    {
      "cell_type": "code",
      "metadata": {
        "colab": {
          "base_uri": "https://localhost:8080/"
        },
        "id": "LqzsI4r32x6E",
        "outputId": "581b5222-0fdc-4bf9-dcd1-880813b26b27"
      },
      "source": [
        "10 % 3"
      ],
      "execution_count": null,
      "outputs": [
        {
          "output_type": "execute_result",
          "data": {
            "text/plain": [
              "1"
            ]
          },
          "metadata": {
            "tags": []
          },
          "execution_count": 90
        }
      ]
    },
    {
      "cell_type": "markdown",
      "metadata": {
        "id": "T4ZXQVwP2x6E"
      },
      "source": [
        "# 7.2 Expressões Matemáticas"
      ]
    },
    {
      "cell_type": "code",
      "metadata": {
        "colab": {
          "base_uri": "https://localhost:8080/"
        },
        "id": "iSGDOPWB2x6E",
        "outputId": "a7f5c06f-cac3-44b6-d8fc-17e0341a0d3c"
      },
      "source": [
        "5 * 2 + 3 * 2"
      ],
      "execution_count": null,
      "outputs": [
        {
          "output_type": "execute_result",
          "data": {
            "text/plain": [
              "16"
            ]
          },
          "metadata": {
            "tags": []
          },
          "execution_count": 91
        }
      ]
    },
    {
      "cell_type": "code",
      "metadata": {
        "colab": {
          "base_uri": "https://localhost:8080/"
        },
        "id": "PSNdSw4V2x6E",
        "outputId": "6660dd8b-94b7-464b-b832-ebe67e5974d0"
      },
      "source": [
        "(5 * 2) + (3 * 2)"
      ],
      "execution_count": null,
      "outputs": [
        {
          "output_type": "execute_result",
          "data": {
            "text/plain": [
              "16"
            ]
          },
          "metadata": {
            "tags": []
          },
          "execution_count": 92
        }
      ]
    },
    {
      "cell_type": "code",
      "metadata": {
        "colab": {
          "base_uri": "https://localhost:8080/"
        },
        "id": "CE4o-3YA2x6E",
        "outputId": "4cd01509-1197-406f-ba0f-23f24a1b8b41"
      },
      "source": [
        "5 * (2 + 3) * 2"
      ],
      "execution_count": null,
      "outputs": [
        {
          "output_type": "execute_result",
          "data": {
            "text/plain": [
              "50"
            ]
          },
          "metadata": {
            "tags": []
          },
          "execution_count": 93
        }
      ]
    },
    {
      "cell_type": "markdown",
      "metadata": {
        "id": "yC1UrdBR2x6F"
      },
      "source": [
        "# 7.3 Variável _"
      ]
    },
    {
      "cell_type": "code",
      "metadata": {
        "id": "3CZgWxUt2x6F"
      },
      "source": [
        "5 * 2       "
      ],
      "execution_count": null,
      "outputs": []
    },
    {
      "cell_type": "code",
      "metadata": {
        "id": "MbYuRc0w2x6F"
      },
      "source": [
        "# _ Retorna o último valor registrado na memória\n",
        "_ + 3 * 2"
      ],
      "execution_count": null,
      "outputs": []
    },
    {
      "cell_type": "markdown",
      "metadata": {
        "id": "PrJMJkBq2x6F"
      },
      "source": [
        "# 7.4 Entendendo Variáveis"
      ]
    },
    {
      "cell_type": "code",
      "metadata": {
        "id": "bxa1HfAL2x6F"
      },
      "source": [
        "ano_atual = 2021"
      ],
      "execution_count": null,
      "outputs": []
    },
    {
      "cell_type": "code",
      "metadata": {
        "id": "WE-gW5uC2x6F"
      },
      "source": [
        "ano_fabricacao = 2003"
      ],
      "execution_count": null,
      "outputs": []
    },
    {
      "cell_type": "code",
      "metadata": {
        "id": "X63Fry4x2x6F"
      },
      "source": [
        "km_total = 44410.0"
      ],
      "execution_count": null,
      "outputs": []
    },
    {
      "cell_type": "code",
      "metadata": {
        "id": "2JybmMYt2x6F"
      },
      "source": [
        "km_media = km_total / (ano_atual - ano_fabricacao)"
      ],
      "execution_count": null,
      "outputs": []
    },
    {
      "cell_type": "code",
      "metadata": {
        "colab": {
          "base_uri": "https://localhost:8080/"
        },
        "id": "El-r89Ug2x6F",
        "outputId": "3a0917ca-5c2b-4b66-a158-ee39262860fa"
      },
      "source": [
        "print(km_media)"
      ],
      "execution_count": null,
      "outputs": [
        {
          "output_type": "stream",
          "text": [
            "2467.222222222222\n"
          ],
          "name": "stdout"
        }
      ]
    },
    {
      "cell_type": "markdown",
      "metadata": {
        "id": "OXNkaDMm2x6G"
      },
      "source": [
        "# 7.5 Declaração Múltipla"
      ]
    },
    {
      "cell_type": "code",
      "metadata": {
        "id": "PXozCLI42x6G"
      },
      "source": [
        "ano_atual, ano_fabricacao, km_total = 2021, 2003, 44410.0"
      ],
      "execution_count": null,
      "outputs": []
    },
    {
      "cell_type": "code",
      "metadata": {
        "colab": {
          "base_uri": "https://localhost:8080/"
        },
        "id": "uPq1oGTT2x6G",
        "outputId": "4f6130fe-d537-484d-fe5e-7ce816ee0120"
      },
      "source": [
        "print(ano_atual, ano_fabricacao, km_total)"
      ],
      "execution_count": null,
      "outputs": [
        {
          "output_type": "stream",
          "text": [
            "2021 2003 44410.0\n"
          ],
          "name": "stdout"
        }
      ]
    },
    {
      "cell_type": "markdown",
      "metadata": {
        "id": "EfLWDJ_f2x6G"
      },
      "source": [
        "# 7.6 Tipos de Dados"
      ]
    },
    {
      "cell_type": "markdown",
      "metadata": {
        "id": "VGoDShxZ2x6G"
      },
      "source": [
        "### Int"
      ]
    },
    {
      "cell_type": "code",
      "metadata": {
        "colab": {
          "base_uri": "https://localhost:8080/"
        },
        "id": "GioRiVuG2x6G",
        "outputId": "afa27b2d-847f-4b17-ed27-e91b033dd0b5"
      },
      "source": [
        "1"
      ],
      "execution_count": null,
      "outputs": [
        {
          "output_type": "execute_result",
          "data": {
            "text/plain": [
              "1"
            ]
          },
          "metadata": {
            "tags": []
          },
          "execution_count": 19
        }
      ]
    },
    {
      "cell_type": "code",
      "metadata": {
        "colab": {
          "base_uri": "https://localhost:8080/"
        },
        "id": "degPhINU2x6G",
        "outputId": "384e22c9-2af7-4747-cc37-023c10e72a2a"
      },
      "source": [
        "2"
      ],
      "execution_count": null,
      "outputs": [
        {
          "output_type": "execute_result",
          "data": {
            "text/plain": [
              "2"
            ]
          },
          "metadata": {
            "tags": []
          },
          "execution_count": 20
        }
      ]
    },
    {
      "cell_type": "code",
      "metadata": {
        "colab": {
          "base_uri": "https://localhost:8080/"
        },
        "id": "fuQLnfzH2x6H",
        "outputId": "a9259ef1-d4d4-441b-f28d-83d02ca51c3c"
      },
      "source": [
        "3"
      ],
      "execution_count": null,
      "outputs": [
        {
          "output_type": "execute_result",
          "data": {
            "text/plain": [
              "3"
            ]
          },
          "metadata": {
            "tags": []
          },
          "execution_count": 21
        }
      ]
    },
    {
      "cell_type": "code",
      "metadata": {
        "colab": {
          "base_uri": "https://localhost:8080/"
        },
        "id": "IgbbfAvs2x6H",
        "outputId": "f5e6363d-77bb-458b-fda1-f3384d4dcd1d"
      },
      "source": [
        "100"
      ],
      "execution_count": null,
      "outputs": [
        {
          "output_type": "execute_result",
          "data": {
            "text/plain": [
              "100"
            ]
          },
          "metadata": {
            "tags": []
          },
          "execution_count": 22
        }
      ]
    },
    {
      "cell_type": "code",
      "metadata": {
        "colab": {
          "base_uri": "https://localhost:8080/"
        },
        "id": "ovQHio722x6H",
        "outputId": "d8b34f2f-cc55-4821-fa1a-8cb7a343d1ba"
      },
      "source": [
        "345"
      ],
      "execution_count": null,
      "outputs": [
        {
          "output_type": "execute_result",
          "data": {
            "text/plain": [
              "345"
            ]
          },
          "metadata": {
            "tags": []
          },
          "execution_count": 23
        }
      ]
    },
    {
      "cell_type": "markdown",
      "metadata": {
        "id": "WFBDEwkk2x6H"
      },
      "source": [
        "### Float"
      ]
    },
    {
      "cell_type": "code",
      "metadata": {
        "colab": {
          "base_uri": "https://localhost:8080/"
        },
        "id": "USu6HAax2x6H",
        "outputId": "c53bbb26-c205-4679-c5e9-3f1411851e7a"
      },
      "source": [
        "10.0"
      ],
      "execution_count": null,
      "outputs": [
        {
          "output_type": "execute_result",
          "data": {
            "text/plain": [
              "10.0"
            ]
          },
          "metadata": {
            "tags": []
          },
          "execution_count": 24
        }
      ]
    },
    {
      "cell_type": "code",
      "metadata": {
        "colab": {
          "base_uri": "https://localhost:8080/"
        },
        "id": "FQAe8KW42x6I",
        "outputId": "02ffb5b3-0b53-4b60-c6fb-6bdfbb67dc7c"
      },
      "source": [
        "5.45"
      ],
      "execution_count": null,
      "outputs": [
        {
          "output_type": "execute_result",
          "data": {
            "text/plain": [
              "5.45"
            ]
          },
          "metadata": {
            "tags": []
          },
          "execution_count": 25
        }
      ]
    },
    {
      "cell_type": "code",
      "metadata": {
        "colab": {
          "base_uri": "https://localhost:8080/"
        },
        "id": "56JbMveX2x6I",
        "outputId": "423ab300-cad4-4315-fcf1-94985d70d022"
      },
      "source": [
        "456.789"
      ],
      "execution_count": null,
      "outputs": [
        {
          "output_type": "execute_result",
          "data": {
            "text/plain": [
              "456.789"
            ]
          },
          "metadata": {
            "tags": []
          },
          "execution_count": 26
        }
      ]
    },
    {
      "cell_type": "code",
      "metadata": {
        "colab": {
          "base_uri": "https://localhost:8080/"
        },
        "id": "N4LfeQFQ2x6I",
        "outputId": "dbd3e0e4-e57b-477f-ad70-5a36823cf2af"
      },
      "source": [
        "0.4567"
      ],
      "execution_count": null,
      "outputs": [
        {
          "output_type": "execute_result",
          "data": {
            "text/plain": [
              "0.4567"
            ]
          },
          "metadata": {
            "tags": []
          },
          "execution_count": 27
        }
      ]
    },
    {
      "cell_type": "code",
      "metadata": {
        "colab": {
          "base_uri": "https://localhost:8080/"
        },
        "id": "eeOjYW492x6I",
        "outputId": "b9991916-ea80-442d-9496-594499ad796a"
      },
      "source": [
        "12.5"
      ],
      "execution_count": null,
      "outputs": [
        {
          "output_type": "execute_result",
          "data": {
            "text/plain": [
              "12.5"
            ]
          },
          "metadata": {
            "tags": []
          },
          "execution_count": 28
        }
      ]
    },
    {
      "cell_type": "markdown",
      "metadata": {
        "id": "7FBL9zrB2x6I"
      },
      "source": [
        "### Booleano"
      ]
    },
    {
      "cell_type": "code",
      "metadata": {
        "colab": {
          "base_uri": "https://localhost:8080/"
        },
        "id": "NMEZOlbr2x6I",
        "outputId": "f4120a66-4a83-48e0-91e1-9777fafd6af5"
      },
      "source": [
        "True"
      ],
      "execution_count": null,
      "outputs": [
        {
          "output_type": "execute_result",
          "data": {
            "text/plain": [
              "True"
            ]
          },
          "metadata": {
            "tags": []
          },
          "execution_count": 29
        }
      ]
    },
    {
      "cell_type": "code",
      "metadata": {
        "colab": {
          "base_uri": "https://localhost:8080/"
        },
        "id": "RGyV1ZVN2x6J",
        "outputId": "20530fb8-0165-4271-e64f-ad25ac60d97e"
      },
      "source": [
        "False"
      ],
      "execution_count": null,
      "outputs": [
        {
          "output_type": "execute_result",
          "data": {
            "text/plain": [
              "False"
            ]
          },
          "metadata": {
            "tags": []
          },
          "execution_count": 30
        }
      ]
    },
    {
      "cell_type": "markdown",
      "metadata": {
        "id": "dM5X1EnX2x6J"
      },
      "source": [
        "### Str"
      ]
    },
    {
      "cell_type": "code",
      "metadata": {
        "colab": {
          "base_uri": "https://localhost:8080/"
        },
        "id": "-oNGImb-2x6J",
        "outputId": "5aa431dd-193d-4bfb-cbdd-fba352bafafa"
      },
      "source": [
        "\"Python\""
      ],
      "execution_count": null,
      "outputs": [
        {
          "output_type": "execute_result",
          "data": {
            "application/vnd.google.colaboratory.intrinsic+json": {
              "type": "string"
            },
            "text/plain": [
              "'Python'"
            ]
          },
          "metadata": {
            "tags": []
          },
          "execution_count": 31
        }
      ]
    },
    {
      "cell_type": "code",
      "metadata": {
        "colab": {
          "base_uri": "https://localhost:8080/"
        },
        "id": "ZYIc_HUO2x6J",
        "outputId": "25c05006-c545-428f-be55-b1b2563099e4"
      },
      "source": [
        "\"Thiago\""
      ],
      "execution_count": null,
      "outputs": [
        {
          "output_type": "execute_result",
          "data": {
            "application/vnd.google.colaboratory.intrinsic+json": {
              "type": "string"
            },
            "text/plain": [
              "'Thiago'"
            ]
          },
          "metadata": {
            "tags": []
          },
          "execution_count": 32
        }
      ]
    },
    {
      "cell_type": "code",
      "metadata": {
        "colab": {
          "base_uri": "https://localhost:8080/"
        },
        "id": "BX939Lvp2x6J",
        "outputId": "ddc2bb52-c3fd-496b-9bd1-d3ad26180dd4"
      },
      "source": [
        "\"Teste\""
      ],
      "execution_count": null,
      "outputs": [
        {
          "output_type": "execute_result",
          "data": {
            "application/vnd.google.colaboratory.intrinsic+json": {
              "type": "string"
            },
            "text/plain": [
              "'Teste'"
            ]
          },
          "metadata": {
            "tags": []
          },
          "execution_count": 33
        }
      ]
    },
    {
      "cell_type": "code",
      "metadata": {
        "colab": {
          "base_uri": "https://localhost:8080/"
        },
        "id": "I32BD2cU2x6J",
        "outputId": "f999cb52-e8d1-4862-f782-40a03da51852"
      },
      "source": [
        "\"Curso Alura\""
      ],
      "execution_count": null,
      "outputs": [
        {
          "output_type": "execute_result",
          "data": {
            "application/vnd.google.colaboratory.intrinsic+json": {
              "type": "string"
            },
            "text/plain": [
              "'Curso Alura'"
            ]
          },
          "metadata": {
            "tags": []
          },
          "execution_count": 34
        }
      ]
    },
    {
      "cell_type": "code",
      "metadata": {
        "colab": {
          "base_uri": "https://localhost:8080/"
        },
        "id": "cumoDiqa2x6J",
        "outputId": "dae8ffb2-a4ca-4918-a4a2-5b6fdf3f27e1"
      },
      "source": [
        "\"Isso é uma String\""
      ],
      "execution_count": null,
      "outputs": [
        {
          "output_type": "execute_result",
          "data": {
            "application/vnd.google.colaboratory.intrinsic+json": {
              "type": "string"
            },
            "text/plain": [
              "'Isso é uma String'"
            ]
          },
          "metadata": {
            "tags": []
          },
          "execution_count": 35
        }
      ]
    },
    {
      "cell_type": "markdown",
      "metadata": {
        "id": "LDk24T5X2x6K"
      },
      "source": [
        "### None"
      ]
    },
    {
      "cell_type": "code",
      "metadata": {
        "id": "tTvfUKNu2x6K"
      },
      "source": [
        "None"
      ],
      "execution_count": null,
      "outputs": []
    },
    {
      "cell_type": "markdown",
      "metadata": {
        "id": "JuUCzOq_2x6K"
      },
      "source": [
        "# 7.7 Conversão de Tipos"
      ]
    },
    {
      "cell_type": "code",
      "metadata": {
        "id": "jgzbKLQn2x6K"
      },
      "source": [
        "a = 10"
      ],
      "execution_count": null,
      "outputs": []
    },
    {
      "cell_type": "code",
      "metadata": {
        "id": "9EspYhRS2x6K"
      },
      "source": [
        "b = 20"
      ],
      "execution_count": null,
      "outputs": []
    },
    {
      "cell_type": "code",
      "metadata": {
        "id": "mP36NbXv2x6K"
      },
      "source": [
        "c = \"Python é \""
      ],
      "execution_count": null,
      "outputs": []
    },
    {
      "cell_type": "code",
      "metadata": {
        "id": "j1Qj2nHw2x6K"
      },
      "source": [
        "d = \"Legal\""
      ],
      "execution_count": null,
      "outputs": []
    },
    {
      "cell_type": "code",
      "metadata": {
        "colab": {
          "base_uri": "https://localhost:8080/"
        },
        "id": "sDk92Nmm2x6K",
        "outputId": "a36e9b42-9f6e-4321-de41-94944c5a7ec3"
      },
      "source": [
        "print(a + b)\n",
        "print(c + d)\n",
        "print(c + str(a))\n",
        "print(float(b))"
      ],
      "execution_count": null,
      "outputs": [
        {
          "output_type": "stream",
          "text": [
            "30\n",
            "Python é Legal\n",
            "Python é 10\n",
            "20.0\n"
          ],
          "name": "stdout"
        }
      ]
    },
    {
      "cell_type": "markdown",
      "metadata": {
        "id": "GcJgPkBo2x6K"
      },
      "source": [
        "# 7.8 Identação"
      ]
    },
    {
      "cell_type": "code",
      "metadata": {
        "id": "yzpns6Do2x6L"
      },
      "source": [
        "ano_atual = 2020"
      ],
      "execution_count": null,
      "outputs": []
    },
    {
      "cell_type": "code",
      "metadata": {
        "id": "bEKtsvVg2x6L"
      },
      "source": [
        "ano_fabricacao = 2019"
      ],
      "execution_count": null,
      "outputs": []
    },
    {
      "cell_type": "code",
      "metadata": {
        "id": "7Ol9j_ln2x6L"
      },
      "source": [
        "if ano_atual == ano_fabricacao:\n",
        "  print(\"Verdadeiro\")\n",
        "else:\n",
        "  print(\"Falso\")"
      ],
      "execution_count": null,
      "outputs": []
    },
    {
      "cell_type": "markdown",
      "metadata": {
        "id": "LCy944Gf2x6L"
      },
      "source": [
        "# 7.9 Comentários"
      ]
    },
    {
      "cell_type": "code",
      "metadata": {
        "id": "EsLsjSuo2x6L"
      },
      "source": [
        "# Isso é um comentário"
      ],
      "execution_count": null,
      "outputs": []
    },
    {
      "cell_type": "code",
      "metadata": {
        "id": "DeIsh-er2x6L"
      },
      "source": [
        "'''\n",
        "Isso é um comentário\n",
        "'''"
      ],
      "execution_count": null,
      "outputs": []
    },
    {
      "cell_type": "code",
      "metadata": {
        "id": "KK2MQWLh2x6L"
      },
      "source": [
        "\"\"\"\n",
        "Isso é um comentário\n",
        "\"\"\""
      ],
      "execution_count": null,
      "outputs": []
    },
    {
      "cell_type": "code",
      "metadata": {
        "id": "i7mzdnUX2x6L"
      },
      "source": [
        "'''\n",
        "isso\n",
        "é\n",
        "um comentário\n",
        "'''"
      ],
      "execution_count": null,
      "outputs": []
    },
    {
      "cell_type": "markdown",
      "metadata": {
        "id": "WG9_l66J2x6L"
      },
      "source": [
        "# 7.1.0 Formatação de Strings"
      ]
    },
    {
      "cell_type": "code",
      "metadata": {
        "colab": {
          "base_uri": "https://localhost:8080/"
        },
        "id": "mWSVW_wA2x6M",
        "outputId": "2b2622a5-a298-43b3-d121-959b36bd99b2"
      },
      "source": [
        "print(\"Olá {}!\".format('Thiago'))"
      ],
      "execution_count": null,
      "outputs": [
        {
          "output_type": "stream",
          "text": [
            "Olá Thiago!\n"
          ],
          "name": "stdout"
        }
      ]
    },
    {
      "cell_type": "code",
      "metadata": {
        "colab": {
          "base_uri": "https://localhost:8080/"
        },
        "id": "uUCztO-S2x6M",
        "outputId": "f184fbfe-426f-4766-d7ac-f5543e567262"
      },
      "source": [
        "print(\"Olá {}! Este é seu acesso de número {}\".format(\"Thiago\",32))"
      ],
      "execution_count": null,
      "outputs": [
        {
          "output_type": "stream",
          "text": [
            "Olá Thiago! Este é seu acesso de número 32\n"
          ],
          "name": "stdout"
        }
      ]
    },
    {
      "cell_type": "code",
      "metadata": {
        "colab": {
          "base_uri": "https://localhost:8080/"
        },
        "id": "aQQ4FPWn2x6M",
        "outputId": "4654c434-98d0-4cd0-bc07-24b39f40c918"
      },
      "source": [
        "print(\"Olá {nome}! Este é seu acesso de número {acessos}\".format(nome=\"Thiago\",acessos=32))"
      ],
      "execution_count": null,
      "outputs": [
        {
          "output_type": "stream",
          "text": [
            "Olá Thiago! Este é seu acesso de número 32\n"
          ],
          "name": "stdout"
        }
      ]
    },
    {
      "cell_type": "code",
      "metadata": {
        "id": "4N_-4oHt2x6N"
      },
      "source": [
        "nome = \"Thiago\"\n",
        "acessos = 21"
      ],
      "execution_count": null,
      "outputs": []
    },
    {
      "cell_type": "code",
      "metadata": {
        "colab": {
          "base_uri": "https://localhost:8080/"
        },
        "id": "FfIWzRyL2x6N",
        "outputId": "e025c461-a083-4d47-e07b-d46367a3a1a7"
      },
      "source": [
        "print(f\"Olá {nome}! Este é seu acesso de número {acessos}\")"
      ],
      "execution_count": null,
      "outputs": [
        {
          "output_type": "stream",
          "text": [
            "Olá Thiago! Este é seu acesso de número 21\n"
          ],
          "name": "stdout"
        }
      ]
    },
    {
      "cell_type": "markdown",
      "metadata": {
        "id": "tEvIvLSq2x6N"
      },
      "source": [
        "# <font color=yellow> 8. Trabalhando com Listas\n",
        "---"
      ]
    },
    {
      "cell_type": "markdown",
      "metadata": {
        "id": "hsLBPhEq2x6N"
      },
      "source": [
        "# 8.1 Criando Listas"
      ]
    },
    {
      "cell_type": "code",
      "metadata": {
        "id": "IgD60Kvf2x6N"
      },
      "source": [
        "acessorios = [\"Rodas de Liga\", \"Travas Eletricas\", \"Piloto Automático\", \"Bancos de Couro\", \"Ar Condicionado\", \"Sensor de Estacionamento\", \"Sensor Crepuscular\", \"Sensor de Chuva\"]"
      ],
      "execution_count": null,
      "outputs": []
    },
    {
      "cell_type": "code",
      "metadata": {
        "colab": {
          "base_uri": "https://localhost:8080/"
        },
        "id": "zgKMe7642x6Q",
        "outputId": "875269a1-921f-4000-8447-bee8f4f3b958"
      },
      "source": [
        "print(acessorios)\n",
        "print(type(acessorios))"
      ],
      "execution_count": null,
      "outputs": [
        {
          "output_type": "stream",
          "text": [
            "['Rodas de Liga', 'Travas Eletricas', 'Piloto Automático', 'Bancos de Couro', 'Ar Condicionado', 'Sensor de Estacionamento', 'Sensor Crepuscular', 'Sensor de Chuva']\n",
            "<class 'list'>\n"
          ],
          "name": "stdout"
        }
      ]
    },
    {
      "cell_type": "code",
      "metadata": {
        "id": "wZj6u7Yg2x6Q"
      },
      "source": [
        "carro_1 = [\"Jetta Variant\", \"Motor 4.0 Turbo\", 2013, 44410.0, False, [\"Rodas de Liga\", \"Travas Elétricas\", \"Piloto Automático\"], 88078.64]\n",
        "carro_2 = [\"Passat\", \"Motor Diesel\", 1991, 5712.0, False, [\"Central Múltimídia\", \"Teto Panrâmeco\", \"Freios ABS\"], 106161.94]\n",
        "carros = [carro_1, carro_2]"
      ],
      "execution_count": null,
      "outputs": []
    },
    {
      "cell_type": "code",
      "metadata": {
        "colab": {
          "base_uri": "https://localhost:8080/"
        },
        "id": "IxbH6h1Q2x6Q",
        "outputId": "b6d6e804-7c2a-400f-cf77-564e9a616270"
      },
      "source": [
        "print(carro_1)\n",
        "print(carro_2)\n",
        "print(carros)"
      ],
      "execution_count": null,
      "outputs": [
        {
          "output_type": "stream",
          "text": [
            "['Jetta Variant', 'Motor 4.0 Turbo', 2013, 44410.0, False, ['Rodas de Liga', 'Travas Elétricas', 'Piloto Automático'], 88078.64]\n",
            "['Passat', 'Motor Diesel', 1991, 5712.0, False, ['Central Múltimídia', 'Teto Panrâmeco', 'Freios ABS'], 106161.94]\n",
            "[['Jetta Variant', 'Motor 4.0 Turbo', 2013, 44410.0, False, ['Rodas de Liga', 'Travas Elétricas', 'Piloto Automático'], 88078.64], ['Passat', 'Motor Diesel', 1991, 5712.0, False, ['Central Múltimídia', 'Teto Panrâmeco', 'Freios ABS'], 106161.94]]\n"
          ],
          "name": "stdout"
        }
      ]
    },
    {
      "cell_type": "markdown",
      "metadata": {
        "id": "pPtDEIHX2x6R"
      },
      "source": [
        "# 8.2 Operação com Listas"
      ]
    },
    {
      "cell_type": "markdown",
      "metadata": {
        "id": "B-BpRmBW2x6R"
      },
      "source": [
        "### Elementos que pertencem a lista ou não"
      ]
    },
    {
      "cell_type": "code",
      "metadata": {
        "id": "vv0EJNG72x6R"
      },
      "source": [
        "print(\"Rodas de Liga\" in acessorios)"
      ],
      "execution_count": null,
      "outputs": []
    },
    {
      "cell_type": "code",
      "metadata": {
        "id": "CJ39keTz2x6R"
      },
      "source": [
        "print(\"4 x 4\" in acessorios)"
      ],
      "execution_count": null,
      "outputs": []
    },
    {
      "cell_type": "code",
      "metadata": {
        "id": "abozcGJK2x6R"
      },
      "source": [
        "print(\"Rodas de Liga\" not in acessorios)"
      ],
      "execution_count": null,
      "outputs": []
    },
    {
      "cell_type": "code",
      "metadata": {
        "id": "wLPzTbIX2x6R"
      },
      "source": [
        "print(\"4 x 4\" not in acessorios)"
      ],
      "execution_count": null,
      "outputs": []
    },
    {
      "cell_type": "markdown",
      "metadata": {
        "id": "o1Y4lvFn2x6R"
      },
      "source": [
        "### Concatenação de Listas"
      ]
    },
    {
      "cell_type": "code",
      "metadata": {
        "id": "x-dj5hMx2x6R"
      },
      "source": [
        "a = [\"Rodas de Liga\", \"Travas Eletricas\", \"Piloto Automático\", \"Bancos de Couro\", \"Ar Condicionado\",]"
      ],
      "execution_count": null,
      "outputs": []
    },
    {
      "cell_type": "code",
      "metadata": {
        "id": "YLYz9gSn2x6S"
      },
      "source": [
        "b = [\"Sensor de Estacionamento\", \"Sensor Crepuscular\", \"Sensor de Chuva\"]"
      ],
      "execution_count": null,
      "outputs": []
    },
    {
      "cell_type": "code",
      "metadata": {
        "colab": {
          "base_uri": "https://localhost:8080/"
        },
        "id": "eQA5d8dH2x6S",
        "outputId": "c7c8b79c-5da6-486a-9c7a-d79347fc1df8"
      },
      "source": [
        "print(a + b)"
      ],
      "execution_count": null,
      "outputs": [
        {
          "output_type": "stream",
          "text": [
            "['Rodas de Liga', 'Travas Eletricas', 'Piloto Automático', 'Bancos de Couro', 'Ar Condicionado', 'Sensor de Estacionamento', 'Sensor Crepuscular', 'Sensor de Chuva']\n"
          ],
          "name": "stdout"
        }
      ]
    },
    {
      "cell_type": "markdown",
      "metadata": {
        "id": "38mqF7NR2x6S"
      },
      "source": [
        "### Tamanho da Lista"
      ]
    },
    {
      "cell_type": "code",
      "metadata": {
        "colab": {
          "base_uri": "https://localhost:8080/"
        },
        "id": "-efQd05O2x6S",
        "outputId": "5fe278e7-5cdf-463f-b8cb-2db63ff1d9ea"
      },
      "source": [
        "print(len(a))"
      ],
      "execution_count": null,
      "outputs": [
        {
          "output_type": "stream",
          "text": [
            "5\n"
          ],
          "name": "stdout"
        }
      ]
    },
    {
      "cell_type": "markdown",
      "metadata": {
        "id": "2xJLgNdL2x6S"
      },
      "source": [
        "# 8.3 Seleção de Listas"
      ]
    },
    {
      "cell_type": "code",
      "metadata": {
        "colab": {
          "base_uri": "https://localhost:8080/"
        },
        "id": "K1YAMm-U2x6S",
        "outputId": "26b572f3-860c-4cea-b421-8e687b1d75bd"
      },
      "source": [
        "print(acessorios[0])"
      ],
      "execution_count": null,
      "outputs": [
        {
          "output_type": "stream",
          "text": [
            "Rodas de Liga\n"
          ],
          "name": "stdout"
        }
      ]
    },
    {
      "cell_type": "code",
      "metadata": {
        "colab": {
          "base_uri": "https://localhost:8080/"
        },
        "id": "gVXqnBIr2x6S",
        "outputId": "09c8db84-5fb0-4707-94e5-dbe7469948aa"
      },
      "source": [
        "print(acessorios[1])"
      ],
      "execution_count": null,
      "outputs": [
        {
          "output_type": "stream",
          "text": [
            "Travas Eletricas\n"
          ],
          "name": "stdout"
        }
      ]
    },
    {
      "cell_type": "code",
      "metadata": {
        "colab": {
          "base_uri": "https://localhost:8080/"
        },
        "id": "R5nN70F82x6S",
        "outputId": "d21346ed-ae7a-4657-bf37-48103e4856a2"
      },
      "source": [
        "print(acessorios[-1])"
      ],
      "execution_count": null,
      "outputs": [
        {
          "output_type": "stream",
          "text": [
            "Sensor de Chuva\n"
          ],
          "name": "stdout"
        }
      ]
    },
    {
      "cell_type": "code",
      "metadata": {
        "colab": {
          "base_uri": "https://localhost:8080/"
        },
        "id": "GazY4D062x6T",
        "outputId": "4684d1dc-ff44-49cf-8300-5b5b71fc55dd"
      },
      "source": [
        "print(carros[0])"
      ],
      "execution_count": null,
      "outputs": [
        {
          "output_type": "stream",
          "text": [
            "['Jetta Variant', 'Motor 4.0 Turbo', 2013, 44410.0, False, ['Rodas de Liga', 'Travas Elétricas', 'Piloto Automático'], 88078.64]\n"
          ],
          "name": "stdout"
        }
      ]
    },
    {
      "cell_type": "code",
      "metadata": {
        "colab": {
          "base_uri": "https://localhost:8080/"
        },
        "id": "6T4lkuRw2x6T",
        "outputId": "64ceb105-875a-496a-dd50-39489a72b5b9"
      },
      "source": [
        "print(carros[0][0])"
      ],
      "execution_count": null,
      "outputs": [
        {
          "output_type": "stream",
          "text": [
            "Jetta Variant\n"
          ],
          "name": "stdout"
        }
      ]
    },
    {
      "cell_type": "code",
      "metadata": {
        "colab": {
          "base_uri": "https://localhost:8080/"
        },
        "id": "H0HgaQNR2x6T",
        "outputId": "cffe549e-2550-4d54-efde-c3c77e6471e6"
      },
      "source": [
        "print(carros[0][-2][1])"
      ],
      "execution_count": null,
      "outputs": [
        {
          "output_type": "stream",
          "text": [
            "Travas Elétricas\n"
          ],
          "name": "stdout"
        }
      ]
    },
    {
      "cell_type": "code",
      "metadata": {
        "colab": {
          "base_uri": "https://localhost:8080/"
        },
        "id": "hpLbNCXn2x6T",
        "outputId": "d56a46eb-bcda-4020-a28f-4eb5dec227e2"
      },
      "source": [
        "print(acessorios[2:5])"
      ],
      "execution_count": null,
      "outputs": [
        {
          "output_type": "stream",
          "text": [
            "['Piloto Automático', 'Bancos de Couro', 'Ar Condicionado']\n"
          ],
          "name": "stdout"
        }
      ]
    },
    {
      "cell_type": "code",
      "metadata": {
        "colab": {
          "base_uri": "https://localhost:8080/"
        },
        "id": "TDqmfxuh2x6T",
        "outputId": "449f2b8c-9097-443c-8a46-49c41e633005"
      },
      "source": [
        "print(acessorios[2:])"
      ],
      "execution_count": null,
      "outputs": [
        {
          "output_type": "stream",
          "text": [
            "['Piloto Automático', 'Bancos de Couro', 'Ar Condicionado', 'Sensor de Estacionamento', 'Sensor Crepuscular', 'Sensor de Chuva']\n"
          ],
          "name": "stdout"
        }
      ]
    },
    {
      "cell_type": "code",
      "metadata": {
        "colab": {
          "base_uri": "https://localhost:8080/"
        },
        "id": "zKkf1D922x6T",
        "outputId": "2c4ba45c-3301-4639-b57b-a5c15620f9d5"
      },
      "source": [
        "print(acessorios[:4])"
      ],
      "execution_count": null,
      "outputs": [
        {
          "output_type": "stream",
          "text": [
            "['Rodas de Liga', 'Travas Eletricas', 'Piloto Automático', 'Bancos de Couro']\n"
          ],
          "name": "stdout"
        }
      ]
    },
    {
      "cell_type": "markdown",
      "metadata": {
        "id": "AuPtwl3u2x6U"
      },
      "source": [
        "# 8.4 Métodos"
      ]
    },
    {
      "cell_type": "markdown",
      "metadata": {
        "id": "27jAI7v02x6U"
      },
      "source": [
        "### Ordena uma Lista"
      ]
    },
    {
      "cell_type": "code",
      "metadata": {
        "id": "x0GAUu0W2x6U"
      },
      "source": [
        "acessorios.sort()"
      ],
      "execution_count": null,
      "outputs": []
    },
    {
      "cell_type": "code",
      "metadata": {
        "colab": {
          "base_uri": "https://localhost:8080/"
        },
        "id": "lVXZ4npb2x6U",
        "outputId": "5e99b603-78fb-4f7e-bdba-9aed12960601"
      },
      "source": [
        "print(acessorios)"
      ],
      "execution_count": null,
      "outputs": [
        {
          "output_type": "stream",
          "text": [
            "['Ar Condicionado', 'Bancos de Couro', 'Piloto Automático', 'Rodas de Liga', 'Sensor Crepuscular', 'Sensor de Chuva', 'Sensor de Estacionamento', 'Travas Eletricas']\n"
          ],
          "name": "stdout"
        }
      ]
    },
    {
      "cell_type": "markdown",
      "metadata": {
        "id": "Sw_R3I7C2x6U"
      },
      "source": [
        "### Adiciona um Elemento na Lista"
      ]
    },
    {
      "cell_type": "code",
      "metadata": {
        "id": "4Y68xKQu2x6U"
      },
      "source": [
        "acessorios.append(\"4 x 4\")"
      ],
      "execution_count": null,
      "outputs": []
    },
    {
      "cell_type": "code",
      "metadata": {
        "colab": {
          "base_uri": "https://localhost:8080/"
        },
        "id": "fXkLwOMI2x6U",
        "outputId": "ab66b0d5-b124-41d8-d727-cd234ad5764e"
      },
      "source": [
        "print(acessorios)"
      ],
      "execution_count": null,
      "outputs": [
        {
          "output_type": "stream",
          "text": [
            "['Ar Condicionado', 'Bancos de Couro', 'Piloto Automático', 'Rodas de Liga', 'Sensor Crepuscular', 'Sensor de Chuva', 'Sensor de Estacionamento', 'Travas Eletricas', '4 x 4']\n"
          ],
          "name": "stdout"
        }
      ]
    },
    {
      "cell_type": "markdown",
      "metadata": {
        "id": "tGQrcEM-2x6U"
      },
      "source": [
        "### Remove um Elemento da lista"
      ]
    },
    {
      "cell_type": "code",
      "metadata": {
        "colab": {
          "base_uri": "https://localhost:8080/",
          "height": 35
        },
        "id": "85jRlSZF2x6V",
        "outputId": "0dc011dd-fe5c-43cc-b17f-3ba1d03bcbe9"
      },
      "source": [
        "acessorios.pop()"
      ],
      "execution_count": null,
      "outputs": [
        {
          "output_type": "execute_result",
          "data": {
            "application/vnd.google.colaboratory.intrinsic+json": {
              "type": "string"
            },
            "text/plain": [
              "'4 x 4'"
            ]
          },
          "metadata": {
            "tags": []
          },
          "execution_count": 155
        }
      ]
    },
    {
      "cell_type": "code",
      "metadata": {
        "colab": {
          "base_uri": "https://localhost:8080/"
        },
        "id": "rZRyB-f52x6V",
        "outputId": "e0b87f4e-213b-4381-f7ee-126574a56fe6"
      },
      "source": [
        "print(acessorios)"
      ],
      "execution_count": null,
      "outputs": [
        {
          "output_type": "stream",
          "text": [
            "['Ar Condicionado', 'Bancos de Couro', 'Piloto Automático', 'Rodas de Liga', 'Sensor Crepuscular', 'Sensor de Chuva', 'Sensor de Estacionamento', 'Travas Eletricas']\n"
          ],
          "name": "stdout"
        }
      ]
    },
    {
      "cell_type": "code",
      "metadata": {
        "colab": {
          "base_uri": "https://localhost:8080/",
          "height": 35
        },
        "id": "ZQcLpaYe2x6V",
        "outputId": "334534f0-353b-490a-de23-8773a78b33d5"
      },
      "source": [
        "acessorios.pop(3)"
      ],
      "execution_count": null,
      "outputs": [
        {
          "output_type": "execute_result",
          "data": {
            "application/vnd.google.colaboratory.intrinsic+json": {
              "type": "string"
            },
            "text/plain": [
              "'Rodas de Liga'"
            ]
          },
          "metadata": {
            "tags": []
          },
          "execution_count": 157
        }
      ]
    },
    {
      "cell_type": "code",
      "metadata": {
        "colab": {
          "base_uri": "https://localhost:8080/"
        },
        "id": "uGn_qw4o2x6V",
        "outputId": "ee14da9b-fd2b-4bda-e9a2-3a9237fe1831"
      },
      "source": [
        "print(acessorios)"
      ],
      "execution_count": null,
      "outputs": [
        {
          "output_type": "stream",
          "text": [
            "['Ar Condicionado', 'Bancos de Couro', 'Piloto Automático', 'Sensor Crepuscular', 'Sensor de Chuva', 'Sensor de Estacionamento', 'Travas Eletricas']\n"
          ],
          "name": "stdout"
        }
      ]
    },
    {
      "cell_type": "markdown",
      "metadata": {
        "id": "4qQCtmUw2x6V"
      },
      "source": [
        "### Copia uma lista"
      ]
    },
    {
      "cell_type": "code",
      "metadata": {
        "id": "52u3sbhF2x6V"
      },
      "source": [
        "a = [1, 2, 3, 4]"
      ],
      "execution_count": null,
      "outputs": []
    },
    {
      "cell_type": "code",
      "metadata": {
        "id": "IKsBalXn2x6V"
      },
      "source": [
        "b = a.copy()"
      ],
      "execution_count": null,
      "outputs": []
    },
    {
      "cell_type": "code",
      "metadata": {
        "colab": {
          "base_uri": "https://localhost:8080/"
        },
        "id": "dVXeA0fi2x6V",
        "outputId": "46a9ef16-62e1-4547-cb6c-55ef41189f93"
      },
      "source": [
        "print(a)\n",
        "print(b)"
      ],
      "execution_count": null,
      "outputs": [
        {
          "output_type": "stream",
          "text": [
            "[1, 2, 3, 4]\n",
            "[1, 2, 3, 4]\n"
          ],
          "name": "stdout"
        }
      ]
    },
    {
      "cell_type": "markdown",
      "metadata": {
        "id": "eNg49CJS2x6W"
      },
      "source": [
        "# <font color=yellow> 9. Condições e Laços com Listas\n",
        "---"
      ]
    },
    {
      "cell_type": "markdown",
      "metadata": {
        "id": "81PGECpf2x6W"
      },
      "source": [
        "# 9.1 Loops com Listas"
      ]
    },
    {
      "cell_type": "code",
      "metadata": {
        "id": "SCrYN_LA2x6W"
      },
      "source": [
        "acessorios = [\"Rodas de Liga\", \"Travas Eletricas\", \"Piloto Automático\", \"Bancos de Couro\", \"Ar Condicionado\", \"Sensor de Estacionamento\", \"Sensor Crepuscular\", \"Sensor de Chuva\"]"
      ],
      "execution_count": null,
      "outputs": []
    },
    {
      "cell_type": "code",
      "metadata": {
        "colab": {
          "base_uri": "https://localhost:8080/"
        },
        "id": "YZAApSqd2x6W",
        "outputId": "130a493e-6244-4813-b147-ad9b4c4e3b3f"
      },
      "source": [
        "for item in acessorios:\n",
        "  print(item)"
      ],
      "execution_count": null,
      "outputs": [
        {
          "output_type": "stream",
          "text": [
            "Rodas de Liga\n",
            "Travas Eletricas\n",
            "Piloto Automático\n",
            "Bancos de Couro\n",
            "Ar Condicionado\n",
            "Sensor de Estacionamento\n",
            "Sensor Crepuscular\n",
            "Sensor de Chuva\n"
          ],
          "name": "stdout"
        }
      ]
    },
    {
      "cell_type": "markdown",
      "metadata": {
        "id": "1ThKTKyB2x6W"
      },
      "source": [
        "# 9.2 List comprehensions\n"
      ]
    },
    {
      "cell_type": "code",
      "metadata": {
        "colab": {
          "base_uri": "https://localhost:8080/"
        },
        "id": "Zw_D9STM2x6W",
        "outputId": "50264526-e5cb-4f5d-9de5-d90747e234d8"
      },
      "source": [
        "range(10)"
      ],
      "execution_count": null,
      "outputs": [
        {
          "output_type": "execute_result",
          "data": {
            "text/plain": [
              "range(0, 10)"
            ]
          },
          "metadata": {
            "tags": []
          },
          "execution_count": 6
        }
      ]
    },
    {
      "cell_type": "code",
      "metadata": {
        "colab": {
          "base_uri": "https://localhost:8080/"
        },
        "id": "bk7kHtJV2x6W",
        "outputId": "c03a1df9-5b45-40b7-8b92-714fe94f0f8d"
      },
      "source": [
        "list(range(10))"
      ],
      "execution_count": null,
      "outputs": [
        {
          "output_type": "execute_result",
          "data": {
            "text/plain": [
              "[0, 1, 2, 3, 4, 5, 6, 7, 8, 9]"
            ]
          },
          "metadata": {
            "tags": []
          },
          "execution_count": 7
        }
      ]
    },
    {
      "cell_type": "code",
      "metadata": {
        "colab": {
          "base_uri": "https://localhost:8080/"
        },
        "id": "XgNJok882x6X",
        "outputId": "8d5a7d9d-57d6-4547-f1c2-9d8e734429bc"
      },
      "source": [
        "for i in range(10):\n",
        "  print(i ** 2)"
      ],
      "execution_count": null,
      "outputs": [
        {
          "output_type": "stream",
          "text": [
            "0\n",
            "1\n",
            "4\n",
            "9\n",
            "16\n",
            "25\n",
            "36\n",
            "49\n",
            "64\n",
            "81\n"
          ],
          "name": "stdout"
        }
      ]
    },
    {
      "cell_type": "code",
      "metadata": {
        "colab": {
          "base_uri": "https://localhost:8080/"
        },
        "id": "JWgsrWqX2x6X",
        "outputId": "15fc1ecf-dbcc-48f2-dc47-b2549706ef3f"
      },
      "source": [
        "quadrado = []\n",
        "for i in range(10):\n",
        "  quadrado.append(i ** 2)\n",
        "  \n",
        "print(quadrado)"
      ],
      "execution_count": null,
      "outputs": [
        {
          "output_type": "stream",
          "text": [
            "[0, 1, 4, 9, 16, 25, 36, 49, 64, 81]\n"
          ],
          "name": "stdout"
        }
      ]
    },
    {
      "cell_type": "code",
      "metadata": {
        "colab": {
          "base_uri": "https://localhost:8080/"
        },
        "id": "0vh8YsBf2x6X",
        "outputId": "61fc77ca-4f5e-4448-84c7-3c3b07f5c13f"
      },
      "source": [
        "[i ** 2 for i in range(10)]"
      ],
      "execution_count": null,
      "outputs": [
        {
          "output_type": "execute_result",
          "data": {
            "text/plain": [
              "[0, 1, 4, 9, 16, 25, 36, 49, 64, 81]"
            ]
          },
          "metadata": {
            "tags": []
          },
          "execution_count": 5
        }
      ]
    },
    {
      "cell_type": "markdown",
      "metadata": {
        "id": "zGS2JUPB2x6X"
      },
      "source": [
        "# 9.3 Loos Aninhados"
      ]
    },
    {
      "cell_type": "code",
      "metadata": {
        "id": "lDUs6qpg2x6X"
      },
      "source": [
        "dados = [ \n",
        "    ['Rodas de liga', 'Travas elétricas', 'Piloto automático', 'Bancos de couro', 'Ar condicionado', 'Sensor de estacionamento', 'Sensor crepuscular', 'Sensor de chuva'],\n",
        "    ['Central multimídia', 'Teto panorâmico', 'Freios ABS', '4 X 4', 'Painel digital', 'Piloto automático', 'Bancos de couro', 'Câmera de estacionamento'],\n",
        "    ['Piloto automático', 'Controle de estabilidade', 'Sensor crepuscular', 'Freios ABS', 'Câmbio automático', 'Bancos de couro', 'Central multimídia', 'Vidros elétricos']\n",
        "]"
      ],
      "execution_count": null,
      "outputs": []
    },
    {
      "cell_type": "code",
      "metadata": {
        "colab": {
          "base_uri": "https://localhost:8080/"
        },
        "id": "GuL9Xblx2x6X",
        "outputId": "057b5fb5-d081-4678-80dd-8f62c4c10a40"
      },
      "source": [
        "for lista in dados:\n",
        "  print(lista)"
      ],
      "execution_count": null,
      "outputs": [
        {
          "output_type": "stream",
          "text": [
            "['Rodas de liga', 'Travas elétricas', 'Piloto automático', 'Bancos de couro', 'Ar condicionado', 'Sensor de estacionamento', 'Sensor crepuscular', 'Sensor de chuva']\n",
            "['Central multimídia', 'Teto panorâmico', 'Freios ABS', '4 X 4', 'Painel digital', 'Piloto automático', 'Bancos de couro', 'Câmera de estacionamento']\n",
            "['Piloto automático', 'Controle de estabilidade', 'Sensor crepuscular', 'Freios ABS', 'Câmbio automático', 'Bancos de couro', 'Central multimídia', 'Vidros elétricos']\n"
          ],
          "name": "stdout"
        }
      ]
    },
    {
      "cell_type": "code",
      "metadata": {
        "colab": {
          "base_uri": "https://localhost:8080/"
        },
        "id": "1fSGd5092x6X",
        "outputId": "d61afb75-7dd5-4d17-cb5b-9e299c5a3cdd"
      },
      "source": [
        "for lista in dados:\n",
        "  for item in lista:\n",
        "    print(item)"
      ],
      "execution_count": null,
      "outputs": [
        {
          "output_type": "stream",
          "text": [
            "Rodas de liga\n",
            "Travas elétricas\n",
            "Piloto automático\n",
            "Bancos de couro\n",
            "Ar condicionado\n",
            "Sensor de estacionamento\n",
            "Sensor crepuscular\n",
            "Sensor de chuva\n",
            "Central multimídia\n",
            "Teto panorâmico\n",
            "Freios ABS\n",
            "4 X 4\n",
            "Painel digital\n",
            "Piloto automático\n",
            "Bancos de couro\n",
            "Câmera de estacionamento\n",
            "Piloto automático\n",
            "Controle de estabilidade\n",
            "Sensor crepuscular\n",
            "Freios ABS\n",
            "Câmbio automático\n",
            "Bancos de couro\n",
            "Central multimídia\n",
            "Vidros elétricos\n"
          ],
          "name": "stdout"
        }
      ]
    },
    {
      "cell_type": "code",
      "metadata": {
        "colab": {
          "base_uri": "https://localhost:8080/"
        },
        "id": "Hyjktz8R2x6Y",
        "outputId": "31f9518b-5aa8-4aea-d791-14501d422a34"
      },
      "source": [
        "acessorios = []\n",
        "\n",
        "for lista in dados:\n",
        "  for item in lista:\n",
        "    acessorios.append(item)\n",
        "\n",
        "print(acessorios)"
      ],
      "execution_count": null,
      "outputs": [
        {
          "output_type": "stream",
          "text": [
            "['Rodas de liga', 'Travas elétricas', 'Piloto automático', 'Bancos de couro', 'Ar condicionado', 'Sensor de estacionamento', 'Sensor crepuscular', 'Sensor de chuva', 'Central multimídia', 'Teto panorâmico', 'Freios ABS', '4 X 4', 'Painel digital', 'Piloto automático', 'Bancos de couro', 'Câmera de estacionamento', 'Piloto automático', 'Controle de estabilidade', 'Sensor crepuscular', 'Freios ABS', 'Câmbio automático', 'Bancos de couro', 'Central multimídia', 'Vidros elétricos']\n"
          ],
          "name": "stdout"
        }
      ]
    },
    {
      "cell_type": "code",
      "metadata": {
        "colab": {
          "base_uri": "https://localhost:8080/"
        },
        "id": "fLAhugby2x6Y",
        "outputId": "9fc930be-ae21-442a-f4fd-aac00711c081"
      },
      "source": [
        "list(set(acessorios))"
      ],
      "execution_count": null,
      "outputs": [
        {
          "output_type": "execute_result",
          "data": {
            "text/plain": [
              "['Sensor crepuscular',\n",
              " 'Teto panorâmico',\n",
              " 'Painel digital',\n",
              " 'Piloto automático',\n",
              " 'Freios ABS',\n",
              " 'Travas elétricas',\n",
              " 'Rodas de liga',\n",
              " 'Vidros elétricos',\n",
              " 'Câmera de estacionamento',\n",
              " 'Bancos de couro',\n",
              " 'Ar condicionado',\n",
              " 'Central multimídia',\n",
              " 'Sensor de estacionamento',\n",
              " 'Câmbio automático',\n",
              " '4 X 4',\n",
              " 'Sensor de chuva',\n",
              " 'Controle de estabilidade']"
            ]
          },
          "metadata": {
            "tags": []
          },
          "execution_count": 43
        }
      ]
    },
    {
      "cell_type": "code",
      "metadata": {
        "colab": {
          "base_uri": "https://localhost:8080/"
        },
        "id": "Vy8PzNQW2x6Y",
        "outputId": "16106a97-56a1-4158-f573-9e0931f4dda5"
      },
      "source": [
        "[item for lista in dados for item in lista]"
      ],
      "execution_count": null,
      "outputs": [
        {
          "output_type": "execute_result",
          "data": {
            "text/plain": [
              "['Rodas de liga',\n",
              " 'Travas elétricas',\n",
              " 'Piloto automático',\n",
              " 'Bancos de couro',\n",
              " 'Ar condicionado',\n",
              " 'Sensor de estacionamento',\n",
              " 'Sensor crepuscular',\n",
              " 'Sensor de chuva',\n",
              " 'Central multimídia',\n",
              " 'Teto panorâmico',\n",
              " 'Freios ABS',\n",
              " '4 X 4',\n",
              " 'Painel digital',\n",
              " 'Piloto automático',\n",
              " 'Bancos de couro',\n",
              " 'Câmera de estacionamento',\n",
              " 'Piloto automático',\n",
              " 'Controle de estabilidade',\n",
              " 'Sensor crepuscular',\n",
              " 'Freios ABS',\n",
              " 'Câmbio automático',\n",
              " 'Bancos de couro',\n",
              " 'Central multimídia',\n",
              " 'Vidros elétricos']"
            ]
          },
          "metadata": {
            "tags": []
          },
          "execution_count": 44
        }
      ]
    },
    {
      "cell_type": "code",
      "metadata": {
        "colab": {
          "base_uri": "https://localhost:8080/"
        },
        "id": "e3MgtH5g2x6Y",
        "outputId": "ff2a1114-8d9c-4a2b-bce0-d81c5c38d52f"
      },
      "source": [
        "list(set([item for lista in dados for item in lista]))"
      ],
      "execution_count": null,
      "outputs": [
        {
          "output_type": "execute_result",
          "data": {
            "text/plain": [
              "['Sensor crepuscular',\n",
              " 'Teto panorâmico',\n",
              " 'Painel digital',\n",
              " 'Piloto automático',\n",
              " 'Freios ABS',\n",
              " 'Travas elétricas',\n",
              " 'Rodas de liga',\n",
              " 'Vidros elétricos',\n",
              " 'Câmera de estacionamento',\n",
              " 'Bancos de couro',\n",
              " 'Ar condicionado',\n",
              " 'Central multimídia',\n",
              " 'Sensor de estacionamento',\n",
              " 'Câmbio automático',\n",
              " '4 X 4',\n",
              " 'Sensor de chuva',\n",
              " 'Controle de estabilidade']"
            ]
          },
          "metadata": {
            "tags": []
          },
          "execution_count": 45
        }
      ]
    },
    {
      "cell_type": "markdown",
      "metadata": {
        "id": "GZkbZxEH2x6Y"
      },
      "source": [
        "# 9.4 Instrução IF"
      ]
    },
    {
      "cell_type": "markdown",
      "metadata": {
        "id": "fo6l7kso2x6Y"
      },
      "source": [
        "###\n",
        " Operadores de Comparações"
      ]
    },
    {
      "cell_type": "code",
      "metadata": {
        "id": "bH7ehHdW2x6Z"
      },
      "source": [
        "# 1º item da lista - Nome do veículo\n",
        "# 2º item da lista - Ano de fabricação\n",
        "# 3º item da lista - Veículo é zero km?\n",
        "\n",
        "dados = [\n",
        "    ['Jetta Variant', 2003, False],\n",
        "    ['Passat', 1991, False],\n",
        "    ['Crossfox', 1990, False],\n",
        "    ['DS5', 2019, True],\n",
        "    ['Aston Martin DB4', 2006, False],\n",
        "    ['Palio Weekend', 2012, False],\n",
        "    ['A5', 2019, True],\n",
        "    ['Série 3 Cabrio', 2009, False],\n",
        "    ['Dodge Jorney', 2019, False],\n",
        "    ['Carens', 2011, False]\n",
        "]"
      ],
      "execution_count": null,
      "outputs": []
    },
    {
      "cell_type": "code",
      "metadata": {
        "colab": {
          "base_uri": "https://localhost:8080/"
        },
        "id": "bs_pG2JY2x6Z",
        "outputId": "7f0e5469-96e6-43a0-819d-f78cd1e3ba6a"
      },
      "source": [
        "zero_km_y = []\n",
        "\n",
        "for lista in dados:\n",
        "  if lista[2] == True:\n",
        "    zero_km_y.append(lista)\n",
        "\n",
        "print(zero_km_y)"
      ],
      "execution_count": null,
      "outputs": [
        {
          "output_type": "stream",
          "text": [
            "[['DS5', 2019, True], ['A5', 2019, True]]\n"
          ],
          "name": "stdout"
        }
      ]
    },
    {
      "cell_type": "code",
      "metadata": {
        "colab": {
          "base_uri": "https://localhost:8080/"
        },
        "id": "nyxkxLke2x6Z",
        "outputId": "6b36e484-6d33-4b36-c53c-122153894c00"
      },
      "source": [
        "zero_km_n = []\n",
        "\n",
        "for lista in dados:\n",
        "  if lista[2] == False:\n",
        "    zero_km_n.append(lista)\n",
        "\n",
        "print(zero_km_n)"
      ],
      "execution_count": null,
      "outputs": [
        {
          "output_type": "stream",
          "text": [
            "[['Jetta Variant', 2003, False], ['Passat', 1991, False], ['Crossfox', 1990, False], ['Aston Martin DB4', 2006, False], ['Palio Weekend', 2012, False], ['Série 3 Cabrio', 2009, False], ['Dodge Jorney', 2019, False], ['Carens', 2011, False]]\n"
          ],
          "name": "stdout"
        }
      ]
    },
    {
      "cell_type": "code",
      "metadata": {
        "colab": {
          "base_uri": "https://localhost:8080/"
        },
        "id": "VnRYlXIM2x6Z",
        "outputId": "ea2fa14f-1052-4817-ea9e-f024af76e5c1"
      },
      "source": [
        "[lista for lista in dados if lista[2] == True]"
      ],
      "execution_count": null,
      "outputs": [
        {
          "output_type": "execute_result",
          "data": {
            "text/plain": [
              "[['DS5', 2019, True], ['A5', 2019, True]]"
            ]
          },
          "metadata": {
            "tags": []
          },
          "execution_count": 30
        }
      ]
    },
    {
      "cell_type": "code",
      "metadata": {
        "colab": {
          "base_uri": "https://localhost:8080/"
        },
        "id": "l41_dhNK2x6Z",
        "outputId": "c58e2fd5-4901-45e6-eefe-c0cbfa77d00d"
      },
      "source": [
        "[lista for lista in dados if lista[2] == False]"
      ],
      "execution_count": null,
      "outputs": [
        {
          "output_type": "execute_result",
          "data": {
            "text/plain": [
              "[['Jetta Variant', 2003, False],\n",
              " ['Passat', 1991, False],\n",
              " ['Crossfox', 1990, False],\n",
              " ['Aston Martin DB4', 2006, False],\n",
              " ['Palio Weekend', 2012, False],\n",
              " ['Série 3 Cabrio', 2009, False],\n",
              " ['Dodge Jorney', 2019, False],\n",
              " ['Carens', 2011, False]]"
            ]
          },
          "metadata": {
            "tags": []
          },
          "execution_count": 31
        }
      ]
    },
    {
      "cell_type": "markdown",
      "metadata": {
        "id": "pHpKCSVn2x6Z"
      },
      "source": [
        "# 9.5 Instruções IF-ELSE e IF-ELIF-ELSE"
      ]
    },
    {
      "cell_type": "code",
      "metadata": {
        "id": "3tkb2rdD2x6a"
      },
      "source": [
        "zero_km_y, zero_km_n  = [], []\n",
        "\n",
        "for lista in dados:\n",
        "  if lista[2] == True:\n",
        "    zero_km_y.append(lista)\n",
        "  else:\n",
        "    zero_km_n.append(lista)"
      ],
      "execution_count": null,
      "outputs": []
    },
    {
      "cell_type": "code",
      "metadata": {
        "colab": {
          "base_uri": "https://localhost:8080/"
        },
        "id": "zNTiamxa2x6a",
        "outputId": "ed19cc0f-4cdc-4357-a142-f822ab97eb70"
      },
      "source": [
        "print(zero_km_y)"
      ],
      "execution_count": null,
      "outputs": [
        {
          "output_type": "stream",
          "text": [
            "[['DS5', 2019, True], ['A5', 2019, True]]\n"
          ],
          "name": "stdout"
        }
      ]
    },
    {
      "cell_type": "code",
      "metadata": {
        "colab": {
          "base_uri": "https://localhost:8080/"
        },
        "id": "ywE92gnu2x6a",
        "outputId": "78c80863-21ab-4acc-da8a-93233b470b06"
      },
      "source": [
        "print(zero_km_n)"
      ],
      "execution_count": null,
      "outputs": [
        {
          "output_type": "stream",
          "text": [
            "[['Jetta Variant', 2003, False], ['Passat', 1991, False], ['Crossfox', 1990, False], ['Aston Martin DB4', 2006, False], ['Palio Weekend', 2012, False], ['Série 3 Cabrio', 2009, False], ['Dodge Jorney', 2019, False], ['Carens', 2011, False]]\n"
          ],
          "name": "stdout"
        }
      ]
    },
    {
      "cell_type": "code",
      "metadata": {
        "colab": {
          "base_uri": "https://localhost:8080/"
        },
        "id": "IT_FX5xU2x6a",
        "outputId": "f445e2e0-9857-42cd-a3af-29c718c66b44"
      },
      "source": [
        "dados"
      ],
      "execution_count": null,
      "outputs": [
        {
          "output_type": "execute_result",
          "data": {
            "text/plain": [
              "[['Jetta Variant', 2003, False],\n",
              " ['Passat', 1991, False],\n",
              " ['Crossfox', 1990, False],\n",
              " ['DS5', 2019, True],\n",
              " ['Aston Martin DB4', 2006, False],\n",
              " ['Palio Weekend', 2012, False],\n",
              " ['A5', 2019, True],\n",
              " ['Série 3 Cabrio', 2009, False],\n",
              " ['Dodge Jorney', 2019, False],\n",
              " ['Carens', 2011, False]]"
            ]
          },
          "metadata": {
            "tags": []
          },
          "execution_count": 37
        }
      ]
    },
    {
      "cell_type": "code",
      "metadata": {
        "colab": {
          "base_uri": "https://localhost:8080/"
        },
        "id": "QCSqHFm32x6a",
        "outputId": "b9f243f5-80f6-406a-fd55-6e0e4d1ecd1f"
      },
      "source": [
        "print('AND')\n",
        "print(f'(True and True) o resultado é: {True and True}')\n",
        "print(f'(True and False) o resultado é: {True and False}')\n",
        "print(f'(False and True) o resultado é: {False and True}')\n",
        "print(f'(False and False) o resultado é: {False and False}')"
      ],
      "execution_count": null,
      "outputs": [
        {
          "output_type": "stream",
          "text": [
            "AND\n",
            "(True and True) o resultado é: True\n",
            "(True and False) o resultado é: False\n",
            "(False and True) o resultado é: False\n",
            "(False and False) o resultado é: False\n"
          ],
          "name": "stdout"
        }
      ]
    },
    {
      "cell_type": "code",
      "metadata": {
        "colab": {
          "base_uri": "https://localhost:8080/"
        },
        "id": "Rc5lk9Fl2x6a",
        "outputId": "5a7a075d-1b11-45d9-f312-7290c17ff850"
      },
      "source": [
        "print('OR')\n",
        "print(f'(True or True) o resultado é: {True or True}')\n",
        "print(f'(True or False) o resultado é: {True or False}')\n",
        "print(f'(False or True) o resultado é: {False or True}')\n",
        "print(f'(False or False) o resultado é: {False or False}')"
      ],
      "execution_count": null,
      "outputs": [
        {
          "output_type": "stream",
          "text": [
            "OR\n",
            "(True or True) o resultado é: True\n",
            "(True or False) o resultado é: True\n",
            "(False or True) o resultado é: True\n",
            "(False or False) o resultado é: False\n"
          ],
          "name": "stdout"
        }
      ]
    },
    {
      "cell_type": "code",
      "metadata": {
        "id": "FN139KrY2x6a"
      },
      "source": [
        "a, b , c = [], [], []\n",
        "\n",
        "for lista in dados:\n",
        "  if lista[1] <= 2000:\n",
        "    a.append(lista)\n",
        "  elif lista[1] > 2000 and lista[1] <= 2010:\n",
        "    b.append(lista)\n",
        "  else:\n",
        "    c.append(lista)"
      ],
      "execution_count": null,
      "outputs": []
    },
    {
      "cell_type": "code",
      "metadata": {
        "colab": {
          "base_uri": "https://localhost:8080/"
        },
        "id": "VFdy7CX32x6b",
        "outputId": "a8df5c31-114a-4043-94d3-8b24875ec439"
      },
      "source": [
        "print(a)"
      ],
      "execution_count": null,
      "outputs": [
        {
          "output_type": "stream",
          "text": [
            "[['Passat', 1991, False], ['Crossfox', 1990, False]]\n"
          ],
          "name": "stdout"
        }
      ]
    },
    {
      "cell_type": "code",
      "metadata": {
        "colab": {
          "base_uri": "https://localhost:8080/"
        },
        "id": "0Yw1HlTe2x6b",
        "outputId": "121a3f36-9c12-4324-8a07-8790ba3c38fb"
      },
      "source": [
        "print(b)"
      ],
      "execution_count": null,
      "outputs": [
        {
          "output_type": "stream",
          "text": [
            "[['Jetta Variant', 2003, False], ['Aston Martin DB4', 2006, False], ['Série 3 Cabrio', 2009, False]]\n"
          ],
          "name": "stdout"
        }
      ]
    },
    {
      "cell_type": "code",
      "metadata": {
        "colab": {
          "base_uri": "https://localhost:8080/"
        },
        "id": "sdDARiM52x6b",
        "outputId": "b23217e9-c962-4247-cc6c-356cb1df0705"
      },
      "source": [
        "print(c)"
      ],
      "execution_count": null,
      "outputs": [
        {
          "output_type": "stream",
          "text": [
            "[['DS5', 2019, True], ['Palio Weekend', 2012, False], ['A5', 2019, True], ['Dodge Jorney', 2019, False], ['Carens', 2011, False]]\n"
          ],
          "name": "stdout"
        }
      ]
    },
    {
      "cell_type": "code",
      "metadata": {
        "id": "FbzXZ77l2x6b"
      },
      "source": [
        "a, b , c = [], [], []\n",
        "\n",
        "for lista in dados:\n",
        "  if lista[1] <= 2000:\n",
        "    a.append(lista)\n",
        "  elif 2000 < lista[1] <= 2010:\n",
        "    b.append(lista)\n",
        "  else:\n",
        "    c.append(lista)"
      ],
      "execution_count": null,
      "outputs": []
    },
    {
      "cell_type": "code",
      "metadata": {
        "colab": {
          "base_uri": "https://localhost:8080/"
        },
        "id": "2mHWFf_d2x6b",
        "outputId": "df4d88a2-b44e-4d46-ea97-58359e80cd61"
      },
      "source": [
        "print(a)"
      ],
      "execution_count": null,
      "outputs": [
        {
          "output_type": "stream",
          "text": [
            "[['Passat', 1991, False], ['Crossfox', 1990, False]]\n"
          ],
          "name": "stdout"
        }
      ]
    },
    {
      "cell_type": "code",
      "metadata": {
        "colab": {
          "base_uri": "https://localhost:8080/"
        },
        "id": "_Yia0YO12x6c",
        "outputId": "5bb73489-40eb-4a56-957f-8ae25484cbc9"
      },
      "source": [
        "print(b)"
      ],
      "execution_count": null,
      "outputs": [
        {
          "output_type": "stream",
          "text": [
            "[['Jetta Variant', 2003, False], ['Aston Martin DB4', 2006, False], ['Série 3 Cabrio', 2009, False]]\n"
          ],
          "name": "stdout"
        }
      ]
    },
    {
      "cell_type": "code",
      "metadata": {
        "colab": {
          "base_uri": "https://localhost:8080/"
        },
        "id": "nKTSj27X2x6c",
        "outputId": "dd0d85c7-5c59-40a0-e91d-dde29ac9c009"
      },
      "source": [
        "print(c)"
      ],
      "execution_count": null,
      "outputs": [
        {
          "output_type": "stream",
          "text": [
            "[['DS5', 2019, True], ['Palio Weekend', 2012, False], ['A5', 2019, True], ['Dodge Jorney', 2019, False], ['Carens', 2011, False]]\n"
          ],
          "name": "stdout"
        }
      ]
    },
    {
      "cell_type": "markdown",
      "metadata": {
        "id": "7sbvL8_32x6c"
      },
      "source": [
        "# <font color=yellow> 10. Numpy Básico\n",
        "---\n",
        "Numpy é a abreviação de Numerical Python e é um dos pacotes mais importantes para processamento numérico em Python. Numpy oferece a base para a maioria dos pacotes de aplicações científicas que utilizem dados numéricos em Python (estruturas de dados e algoritmos). Pode-se destacar os seguintes recursos que o pacote Numpy contém:\n",
        "\n",
        "- Um poderoso objeto array multidimensional;\n",
        "- Funções matemáticas sofisticadas para operações com arrays sem a necessidade de utilização de laços *for*;\n",
        "- Recursos de algebra linear e geração de números aleatórios\n",
        "\n",
        "Além de seus óbvios usos científicos, o pacote NumPy também é muito utilizado em análise de dados como um eficiente contêiner multidimensional de dados genéricos para transporte entre diversos algoritmos e bibliotecas em Python.\n",
        "\n",
        "**Versão:** 1.16.5\n",
        "\n",
        "**Instalação:** https://scipy.org/install.html\n",
        "\n",
        "**Documentação:** https://numpy.org/doc/1.16/"
      ]
    },
    {
      "cell_type": "markdown",
      "metadata": {
        "id": "683i_alR2x6c"
      },
      "source": [
        "### Pacotes\n",
        "\n",
        "Existem diversos pacotes Python disponíveis para download na internet. Cada pacote tem como objetivo a solução de determinado tipo de problema e para isso são desenvolvidos novos tipos, funções e métodos.\n",
        "\n",
        "Alguns pacotes são bastante utilizados em um contexto de ciência de dados como por exemplo:\n",
        "\n",
        "- Numpy\n",
        "- Pandas\n",
        "- Scikit-learn\n",
        "- Matplotlib\n",
        "\n",
        "Alguns pacotes não são distribuídos com a instalação default do Python. Neste caso devemos instalar os pacotes que necessitamos em nosso sistema para podermos utilizar suas funcionalidades."
      ]
    },
    {
      "cell_type": "markdown",
      "metadata": {
        "id": "GLFl3y_l2x6d"
      },
      "source": [
        "# 10.1 Importando Todo o Pacote"
      ]
    },
    {
      "cell_type": "markdown",
      "metadata": {
        "id": "RfY93W2K2x6d"
      },
      "source": [
        "### Padrão"
      ]
    },
    {
      "cell_type": "code",
      "metadata": {
        "id": "3WHvCGn-2x6d"
      },
      "source": [
        "import numpy"
      ],
      "execution_count": null,
      "outputs": []
    },
    {
      "cell_type": "code",
      "metadata": {
        "colab": {
          "base_uri": "https://localhost:8080/"
        },
        "id": "3NUDVGuj2x6d",
        "outputId": "746a5d2a-76cb-4a71-d575-44571a570ef2"
      },
      "source": [
        "numpy.arange(10)"
      ],
      "execution_count": null,
      "outputs": [
        {
          "output_type": "execute_result",
          "data": {
            "text/plain": [
              "array([0, 1, 2, 3, 4, 5, 6, 7, 8, 9])"
            ]
          },
          "metadata": {
            "tags": []
          },
          "execution_count": 117
        }
      ]
    },
    {
      "cell_type": "markdown",
      "metadata": {
        "id": "WTQZwrJ52x6d"
      },
      "source": [
        "### Atribuindo um Apelido"
      ]
    },
    {
      "cell_type": "code",
      "metadata": {
        "id": "q-KJEMyk2x6d"
      },
      "source": [
        "import numpy as np"
      ],
      "execution_count": null,
      "outputs": []
    },
    {
      "cell_type": "code",
      "metadata": {
        "colab": {
          "base_uri": "https://localhost:8080/"
        },
        "id": "y0oCSAxs2x6d",
        "outputId": "95051234-103e-430b-ee21-f60835ea9edc"
      },
      "source": [
        "np.arange(10)"
      ],
      "execution_count": null,
      "outputs": [
        {
          "output_type": "execute_result",
          "data": {
            "text/plain": [
              "array([0, 1, 2, 3, 4, 5, 6, 7, 8, 9])"
            ]
          },
          "metadata": {
            "tags": []
          },
          "execution_count": 3
        }
      ]
    },
    {
      "cell_type": "markdown",
      "metadata": {
        "id": "OA7hkmPL2x6e"
      },
      "source": [
        "### Importando um Pacote Específico"
      ]
    },
    {
      "cell_type": "code",
      "metadata": {
        "id": "YfmBstnb2x6e"
      },
      "source": [
        "from numpy import arange"
      ],
      "execution_count": null,
      "outputs": []
    },
    {
      "cell_type": "code",
      "metadata": {
        "colab": {
          "base_uri": "https://localhost:8080/"
        },
        "id": "143P7GRP2x6e",
        "outputId": "7151150c-6cd8-4f8a-ab20-f8ab537e3116"
      },
      "source": [
        "arange(10)"
      ],
      "execution_count": null,
      "outputs": [
        {
          "output_type": "execute_result",
          "data": {
            "text/plain": [
              "array([0, 1, 2, 3, 4, 5, 6, 7, 8, 9])"
            ]
          },
          "metadata": {
            "tags": []
          },
          "execution_count": 121
        }
      ]
    },
    {
      "cell_type": "markdown",
      "metadata": {
        "id": "gLszU75M2x6e"
      },
      "source": [
        "# 10.2 Criando um Arrays Numpy"
      ]
    },
    {
      "cell_type": "markdown",
      "metadata": {
        "id": "pcoqhIyx2x6e"
      },
      "source": [
        "### A partir de Listas"
      ]
    },
    {
      "cell_type": "code",
      "metadata": {
        "id": "xggjjvXK2x6e"
      },
      "source": [
        "km = np.array([1000,2300,4987,1500])"
      ],
      "execution_count": null,
      "outputs": []
    },
    {
      "cell_type": "code",
      "metadata": {
        "colab": {
          "base_uri": "https://localhost:8080/"
        },
        "id": "qg9t9UT_2x6e",
        "outputId": "e946ec45-31e0-4883-8856-667b50c17030"
      },
      "source": [
        "km"
      ],
      "execution_count": null,
      "outputs": [
        {
          "output_type": "execute_result",
          "data": {
            "text/plain": [
              "array([1000, 2300, 4987, 1500])"
            ]
          },
          "metadata": {
            "tags": []
          },
          "execution_count": 6
        }
      ]
    },
    {
      "cell_type": "code",
      "metadata": {
        "colab": {
          "base_uri": "https://localhost:8080/"
        },
        "id": "boFhA3Bn2x6f",
        "outputId": "8f8b023a-89f0-4470-dd51-97f77f1c00b0"
      },
      "source": [
        "type(km)"
      ],
      "execution_count": null,
      "outputs": [
        {
          "output_type": "execute_result",
          "data": {
            "text/plain": [
              "numpy.ndarray"
            ]
          },
          "metadata": {
            "tags": []
          },
          "execution_count": 7
        }
      ]
    },
    {
      "cell_type": "code",
      "metadata": {
        "colab": {
          "base_uri": "https://localhost:8080/"
        },
        "id": "K35AdzaR2x6f",
        "outputId": "94d95a1f-b14f-4968-f1e6-d929443ecb63"
      },
      "source": [
        "km.dtype"
      ],
      "execution_count": null,
      "outputs": [
        {
          "output_type": "execute_result",
          "data": {
            "text/plain": [
              "dtype('int64')"
            ]
          },
          "metadata": {
            "tags": []
          },
          "execution_count": 8
        }
      ]
    },
    {
      "cell_type": "markdown",
      "metadata": {
        "id": "L-aBiUk52x6f"
      },
      "source": [
        "### A partir de Dados Externos"
      ]
    },
    {
      "cell_type": "code",
      "metadata": {
        "id": "IzKb3Jwj2x6f"
      },
      "source": [
        "km = np.loadtxt(fname = \"carros-km.txt\", dtype=int)"
      ],
      "execution_count": null,
      "outputs": []
    },
    {
      "cell_type": "code",
      "metadata": {
        "colab": {
          "base_uri": "https://localhost:8080/"
        },
        "id": "aHd2zCec2x6f",
        "outputId": "5b3bd3c2-5f26-42d7-c9be-aa1947d75419"
      },
      "source": [
        "km"
      ],
      "execution_count": null,
      "outputs": [
        {
          "output_type": "execute_result",
          "data": {
            "text/plain": [
              "array([ 44410,   5712,  37123,      0,  25757,  10728,      0,  77599,\n",
              "        99197,  37978,  12859,   8052,  89773,      0,  41457, 115607,\n",
              "        46449,      0,  37086,  15173, 101193,      0,  98079, 102959,\n",
              "            0,      0,   5795,      0,  58848,  94381,  30163,  53332,\n",
              "        17720,  33808,  90684,  43975,      0,      0,   5526,      0,\n",
              "        93415,  40762,      0,  86302,      0,   9755,  69945,   2395,\n",
              "            0,  80349,  85554,  50496,  67716,  93947,  35345,  81007,\n",
              "       119513,      0,      0,      0,      0,      0, 118895,  48509,\n",
              "       100912,  95649,      0,  90495,      0,  29132,  23802,  84992,\n",
              "        54395,  26731,  44329, 118236, 113808,    610,      0,      0,\n",
              "        12887,  79607,  90924,  42733,      0,      0, 117714, 113885,\n",
              "            0,  30511,  74867, 119760,   8356,  64247,  88661,   4539,\n",
              "       110116,  33215,  92001,      0,  81708,  70641,      0,  91277,\n",
              "        26544,  52596,  47503,  89056,  28834, 110564,  56638,  17357,\n",
              "        74015,  15196,      0,  10821,      0,      0,   9595,  99052,\n",
              "        52389, 119945,  96005,  31639,      0,  80187,      0,  58212,\n",
              "        61672,  32017,      0,  56944,      0,  86519,   4821, 101025,\n",
              "        30705,      0,  32555, 103389,      0,  55289,      0,      0,\n",
              "       115930,  66437,  96800,  14237,  19896, 113045, 114942,   3173,\n",
              "        83611,  25356,  88634,   2314,   2627,  52034,      0,      0,\n",
              "        79577, 108201,  76453,  57683,  96610, 109001,  26212,  45971,\n",
              "        49182,  49907,  38620,  60996,  73914, 107392,   9146,      0,\n",
              "        17924,      0, 116949,  20476,  52804,   8849,  91724,  32056,\n",
              "        74886,      0,      0,  52189,  83559,      0,  20328,      0,\n",
              "        75577,  33659, 104341,  25510,  18965,  87161,   6652,  55738,\n",
              "            0,      0,      0,  64320,      0,  68678,  71697,      0,\n",
              "        34783,  33772,  85127,  13606,  35647,  95128,  14046,  41194,\n",
              "            0,  96100, 103900,  43814,  24638,      0, 110966,  15987,\n",
              "        53369,  10077,  71544,    107,   8394,  41498, 116002, 100858,\n",
              "        67475,   8497,   4420,      0,  58537,      0,      0, 112016,\n",
              "        91840, 112787,      0,      0,   9293,      0,  55083,  48796,\n",
              "            0,  89685,  85384,  98108,  71280,  27505,  29981,  52637,\n",
              "         7685,  50188])"
            ]
          },
          "metadata": {
            "tags": []
          },
          "execution_count": 10
        }
      ]
    },
    {
      "cell_type": "code",
      "metadata": {
        "colab": {
          "base_uri": "https://localhost:8080/"
        },
        "id": "mif4OdfT2x6g",
        "outputId": "6bea2f8c-c695-4b23-93b4-e4ca121beda9"
      },
      "source": [
        "km.dtype"
      ],
      "execution_count": null,
      "outputs": [
        {
          "output_type": "execute_result",
          "data": {
            "text/plain": [
              "dtype('int64')"
            ]
          },
          "metadata": {
            "tags": []
          },
          "execution_count": 11
        }
      ]
    },
    {
      "cell_type": "markdown",
      "metadata": {
        "id": "0tFgdMuB2x6g"
      },
      "source": [
        "### Arrays com Duas Dimensões"
      ]
    },
    {
      "cell_type": "code",
      "metadata": {
        "id": "pocxeMH72x6g"
      },
      "source": [
        "dados = [ \n",
        "    ['Rodas de liga', 'Travas elétricas', 'Piloto automático', 'Bancos de couro', 'Ar condicionado', 'Sensor de estacionamento', 'Sensor crepuscular', 'Sensor de chuva'],\n",
        "    ['Central multimídia', 'Teto panorâmico', 'Freios ABS', '4 X 4', 'Painel digital', 'Piloto automático', 'Bancos de couro', 'Câmera de estacionamento'],\n",
        "    ['Piloto automático', 'Controle de estabilidade', 'Sensor crepuscular', 'Freios ABS', 'Câmbio automático', 'Bancos de couro', 'Central multimídia', 'Vidros elétricos']\n",
        "]"
      ],
      "execution_count": null,
      "outputs": []
    },
    {
      "cell_type": "code",
      "metadata": {
        "colab": {
          "base_uri": "https://localhost:8080/"
        },
        "id": "tdbFo0RN2x6g",
        "outputId": "4cabd818-d0bf-43be-9e67-fe2c3ba6160f"
      },
      "source": [
        "dados"
      ],
      "execution_count": null,
      "outputs": [
        {
          "output_type": "execute_result",
          "data": {
            "text/plain": [
              "[['Rodas de liga',\n",
              "  'Travas elétricas',\n",
              "  'Piloto automático',\n",
              "  'Bancos de couro',\n",
              "  'Ar condicionado',\n",
              "  'Sensor de estacionamento',\n",
              "  'Sensor crepuscular',\n",
              "  'Sensor de chuva'],\n",
              " ['Central multimídia',\n",
              "  'Teto panorâmico',\n",
              "  'Freios ABS',\n",
              "  '4 X 4',\n",
              "  'Painel digital',\n",
              "  'Piloto automático',\n",
              "  'Bancos de couro',\n",
              "  'Câmera de estacionamento'],\n",
              " ['Piloto automático',\n",
              "  'Controle de estabilidade',\n",
              "  'Sensor crepuscular',\n",
              "  'Freios ABS',\n",
              "  'Câmbio automático',\n",
              "  'Bancos de couro',\n",
              "  'Central multimídia',\n",
              "  'Vidros elétricos']]"
            ]
          },
          "metadata": {
            "tags": []
          },
          "execution_count": 13
        }
      ]
    },
    {
      "cell_type": "code",
      "metadata": {
        "id": "eUYhdU3v2x6h"
      },
      "source": [
        "acessorios = np.array(dados)"
      ],
      "execution_count": null,
      "outputs": []
    },
    {
      "cell_type": "code",
      "metadata": {
        "colab": {
          "base_uri": "https://localhost:8080/"
        },
        "id": "aRVff6HJ2x6h",
        "outputId": "9cbec141-4100-4fca-a012-22388c1fb1e8"
      },
      "source": [
        "acessorios"
      ],
      "execution_count": null,
      "outputs": [
        {
          "output_type": "execute_result",
          "data": {
            "text/plain": [
              "array([['Rodas de liga', 'Travas elétricas', 'Piloto automático',\n",
              "        'Bancos de couro', 'Ar condicionado', 'Sensor de estacionamento',\n",
              "        'Sensor crepuscular', 'Sensor de chuva'],\n",
              "       ['Central multimídia', 'Teto panorâmico', 'Freios ABS', '4 X 4',\n",
              "        'Painel digital', 'Piloto automático', 'Bancos de couro',\n",
              "        'Câmera de estacionamento'],\n",
              "       ['Piloto automático', 'Controle de estabilidade',\n",
              "        'Sensor crepuscular', 'Freios ABS', 'Câmbio automático',\n",
              "        'Bancos de couro', 'Central multimídia', 'Vidros elétricos']],\n",
              "      dtype='<U24')"
            ]
          },
          "metadata": {
            "tags": []
          },
          "execution_count": 16
        }
      ]
    },
    {
      "cell_type": "code",
      "metadata": {
        "colab": {
          "base_uri": "https://localhost:8080/"
        },
        "id": "GqdUUDWU2x6h",
        "outputId": "0a32f7d5-e31e-4654-e246-d1738aeeb798"
      },
      "source": [
        "km.shape"
      ],
      "execution_count": null,
      "outputs": [
        {
          "output_type": "execute_result",
          "data": {
            "text/plain": [
              "(258,)"
            ]
          },
          "metadata": {
            "tags": []
          },
          "execution_count": 17
        }
      ]
    },
    {
      "cell_type": "code",
      "metadata": {
        "colab": {
          "base_uri": "https://localhost:8080/"
        },
        "id": "VOg1JanY2x6h",
        "outputId": "30071063-3e7b-4b20-fd60-73b8bf522e90"
      },
      "source": [
        "acesorios.shape"
      ],
      "execution_count": null,
      "outputs": [
        {
          "output_type": "execute_result",
          "data": {
            "text/plain": [
              "(3, 8)"
            ]
          },
          "metadata": {
            "tags": []
          },
          "execution_count": 19
        }
      ]
    },
    {
      "cell_type": "markdown",
      "metadata": {
        "id": "8mXAuXaf2x6h"
      },
      "source": [
        "### Comparando Desempenho com Listas"
      ]
    },
    {
      "cell_type": "code",
      "metadata": {
        "id": "-SZX5q9j2x6h"
      },
      "source": [
        "np_array = np.arange(1000000)"
      ],
      "execution_count": null,
      "outputs": []
    },
    {
      "cell_type": "code",
      "metadata": {
        "id": "UVIUSE1u2x6h"
      },
      "source": [
        "py_list = list(range(1000000))"
      ],
      "execution_count": null,
      "outputs": []
    },
    {
      "cell_type": "code",
      "metadata": {
        "colab": {
          "base_uri": "https://localhost:8080/"
        },
        "id": "TDM0gRvC2x6i",
        "outputId": "30aa87ef-9927-4471-d2a4-b71edcb417f1"
      },
      "source": [
        "%time for _ in range(100): np_array *= 2"
      ],
      "execution_count": null,
      "outputs": [
        {
          "output_type": "stream",
          "text": [
            "CPU times: user 76.3 ms, sys: 0 ns, total: 76.3 ms\n",
            "Wall time: 79.5 ms\n"
          ],
          "name": "stdout"
        }
      ]
    },
    {
      "cell_type": "code",
      "metadata": {
        "colab": {
          "base_uri": "https://localhost:8080/"
        },
        "id": "k2UbNLtn2x6i",
        "outputId": "e72a4c7f-7395-49b3-e4f6-5a1dac775e0f"
      },
      "source": [
        "%time for _ in range(100): py_list = [x * 2 for x in py_list]"
      ],
      "execution_count": null,
      "outputs": [
        {
          "output_type": "stream",
          "text": [
            "CPU times: user 7.82 s, sys: 1.67 s, total: 9.49 s\n",
            "Wall time: 9.52 s\n"
          ],
          "name": "stdout"
        }
      ]
    },
    {
      "cell_type": "markdown",
      "metadata": {
        "id": "vjsQsoJI2x6i"
      },
      "source": [
        "# 10.3 Operações Aritméticas com Arrys Numpy"
      ]
    },
    {
      "cell_type": "markdown",
      "metadata": {
        "id": "X4rMyWSl2x6i"
      },
      "source": [
        "### Operações com Arrays e Constantes"
      ]
    },
    {
      "cell_type": "code",
      "metadata": {
        "id": "ZvyEy_Ia2x6i"
      },
      "source": [
        "km = [44410., 5712., 37123., 0., 25757.]\n",
        "anos = [2003, 1991, 1990, 2019, 2006]"
      ],
      "execution_count": null,
      "outputs": []
    },
    {
      "cell_type": "code",
      "metadata": {
        "colab": {
          "base_uri": "https://localhost:8080/",
          "height": 162
        },
        "id": "b3Tp7R3V2x6i",
        "outputId": "2561e680-3e44-4153-cca4-bb615def737b"
      },
      "source": [
        "idade = 2020 - anos"
      ],
      "execution_count": null,
      "outputs": [
        {
          "output_type": "error",
          "ename": "TypeError",
          "evalue": "ignored",
          "traceback": [
            "\u001b[0;31m---------------------------------------------------------------------------\u001b[0m",
            "\u001b[0;31mTypeError\u001b[0m                                 Traceback (most recent call last)",
            "\u001b[0;32m<ipython-input-27-16ed7baf6216>\u001b[0m in \u001b[0;36m<module>\u001b[0;34m()\u001b[0m\n\u001b[0;32m----> 1\u001b[0;31m \u001b[0midade\u001b[0m \u001b[0;34m=\u001b[0m \u001b[0;36m2020\u001b[0m \u001b[0;34m-\u001b[0m \u001b[0manos\u001b[0m\u001b[0;34m\u001b[0m\u001b[0;34m\u001b[0m\u001b[0m\n\u001b[0m",
            "\u001b[0;31mTypeError\u001b[0m: unsupported operand type(s) for -: 'int' and 'list'"
          ]
        }
      ]
    },
    {
      "cell_type": "code",
      "metadata": {
        "id": "un5j2-rM2x6i"
      },
      "source": [
        "km = np.array([44410., 5712., 37123., 0., 25757.])\n",
        "anos = np.array([2003, 1991, 1990, 2019, 2006])"
      ],
      "execution_count": null,
      "outputs": []
    },
    {
      "cell_type": "code",
      "metadata": {
        "id": "H06tNt6T2x6i"
      },
      "source": [
        "idade = 2020 - anos"
      ],
      "execution_count": null,
      "outputs": []
    },
    {
      "cell_type": "code",
      "metadata": {
        "colab": {
          "base_uri": "https://localhost:8080/"
        },
        "id": "LFwcQ8IV2x6j",
        "outputId": "70978c0b-ae58-4479-8050-cd0e94ac956a"
      },
      "source": [
        "idade"
      ],
      "execution_count": null,
      "outputs": [
        {
          "output_type": "execute_result",
          "data": {
            "text/plain": [
              "array([17, 29, 30,  1, 14])"
            ]
          },
          "metadata": {
            "tags": []
          },
          "execution_count": 30
        }
      ]
    },
    {
      "cell_type": "markdown",
      "metadata": {
        "id": "MHxxkOo72x6j"
      },
      "source": [
        "### Operação entre Arrays"
      ]
    },
    {
      "cell_type": "code",
      "metadata": {
        "id": "t1cmDCJ02x6j"
      },
      "source": [
        "km_media = km/idade"
      ],
      "execution_count": null,
      "outputs": []
    },
    {
      "cell_type": "code",
      "metadata": {
        "colab": {
          "base_uri": "https://localhost:8080/"
        },
        "id": "G8RryCPu2x6j",
        "outputId": "1dcdc44e-34cd-4160-f82f-1d4871c91f5d"
      },
      "source": [
        "km_media"
      ],
      "execution_count": null,
      "outputs": [
        {
          "output_type": "execute_result",
          "data": {
            "text/plain": [
              "array([2612.35294118,  196.96551724, 1237.43333333,    0.        ,\n",
              "       1839.78571429])"
            ]
          },
          "metadata": {
            "tags": []
          },
          "execution_count": 32
        }
      ]
    },
    {
      "cell_type": "markdown",
      "metadata": {
        "id": "F2PHHj6y2x6j"
      },
      "source": [
        "### Operações com Arrays de Duas Dimensões"
      ]
    },
    {
      "cell_type": "code",
      "metadata": {
        "id": "AnCV5J_82x6j"
      },
      "source": [
        "dados = np.array([km, anos])"
      ],
      "execution_count": null,
      "outputs": []
    },
    {
      "cell_type": "code",
      "metadata": {
        "colab": {
          "base_uri": "https://localhost:8080/"
        },
        "id": "uq0pDSih2x6j",
        "outputId": "98ed5b2b-38db-4d71-cd08-7074a815e2d6"
      },
      "source": [
        "dados"
      ],
      "execution_count": null,
      "outputs": [
        {
          "output_type": "execute_result",
          "data": {
            "text/plain": [
              "array([[44410.,  5712., 37123.,     0., 25757.],\n",
              "       [ 2003.,  1991.,  1990.,  2019.,  2006.]])"
            ]
          },
          "metadata": {
            "tags": []
          },
          "execution_count": 34
        }
      ]
    },
    {
      "cell_type": "code",
      "metadata": {
        "colab": {
          "base_uri": "https://localhost:8080/"
        },
        "id": "ZunHe78g2x6j",
        "outputId": "f690502b-4665-426d-9ea3-3d8dee11147c"
      },
      "source": [
        "dados.shape"
      ],
      "execution_count": null,
      "outputs": [
        {
          "output_type": "execute_result",
          "data": {
            "text/plain": [
              "(2, 5)"
            ]
          },
          "metadata": {
            "tags": []
          },
          "execution_count": 35
        }
      ]
    },
    {
      "cell_type": "markdown",
      "metadata": {
        "id": "sVZcmp2G2x6k"
      },
      "source": [
        "![1410-img01.png](https://caelum-online-public.s3.amazonaws.com/1410-pythondatascience/01/1410-img01.png)"
      ]
    },
    {
      "cell_type": "code",
      "metadata": {
        "colab": {
          "base_uri": "https://localhost:8080/"
        },
        "id": "St6zeasx2x6k",
        "outputId": "6418748c-6ad9-4c53-dc49-fb8a83b8d8b6"
      },
      "source": [
        "dados[0]"
      ],
      "execution_count": null,
      "outputs": [
        {
          "output_type": "execute_result",
          "data": {
            "text/plain": [
              "array([44410.,  5712., 37123.,     0., 25757.])"
            ]
          },
          "metadata": {
            "tags": []
          },
          "execution_count": 36
        }
      ]
    },
    {
      "cell_type": "code",
      "metadata": {
        "colab": {
          "base_uri": "https://localhost:8080/"
        },
        "id": "RpqWgNzj2x6k",
        "outputId": "27bc041a-40a2-4cf6-bff3-721cfe0c5992"
      },
      "source": [
        "dados[1]"
      ],
      "execution_count": null,
      "outputs": [
        {
          "output_type": "execute_result",
          "data": {
            "text/plain": [
              "array([2003., 1991., 1990., 2019., 2006.])"
            ]
          },
          "metadata": {
            "tags": []
          },
          "execution_count": 37
        }
      ]
    },
    {
      "cell_type": "code",
      "metadata": {
        "id": "mKpXqcnW2x6k"
      },
      "source": [
        "km_media = dados[0]/(2020 - dados[1])"
      ],
      "execution_count": null,
      "outputs": []
    },
    {
      "cell_type": "code",
      "metadata": {
        "colab": {
          "base_uri": "https://localhost:8080/"
        },
        "id": "gqYZq5KB2x6k",
        "outputId": "1583c23e-af4d-42d6-8dc0-ed3acfe6a61c"
      },
      "source": [
        "km_media"
      ],
      "execution_count": null,
      "outputs": [
        {
          "output_type": "execute_result",
          "data": {
            "text/plain": [
              "array([2612.35294118,  196.96551724, 1237.43333333,    0.        ,\n",
              "       1839.78571429])"
            ]
          },
          "metadata": {
            "tags": []
          },
          "execution_count": 39
        }
      ]
    },
    {
      "cell_type": "markdown",
      "metadata": {
        "id": "V5HtSz2f2x6k"
      },
      "source": [
        "# 10.4 Seleções com Arrays"
      ]
    },
    {
      "cell_type": "code",
      "metadata": {
        "colab": {
          "base_uri": "https://localhost:8080/"
        },
        "id": "uODWvVPk2x6k",
        "outputId": "d10d4b6f-2599-420e-f4a8-f4f88ee5989a"
      },
      "source": [
        "dados "
      ],
      "execution_count": null,
      "outputs": [
        {
          "output_type": "execute_result",
          "data": {
            "text/plain": [
              "array([[44410.,  5712., 37123.,     0., 25757.],\n",
              "       [ 2003.,  1991.,  1990.,  2019.,  2006.]])"
            ]
          },
          "metadata": {
            "tags": []
          },
          "execution_count": 40
        }
      ]
    },
    {
      "cell_type": "markdown",
      "metadata": {
        "id": "QiVAVl8v2x6l"
      },
      "source": [
        "![1410-img01.png](https://caelum-online-public.s3.amazonaws.com/1410-pythondatascience/01/1410-img01.png)"
      ]
    },
    {
      "cell_type": "markdown",
      "metadata": {
        "id": "xROyA0ze2x6l"
      },
      "source": [
        "### Indexação"
      ]
    },
    {
      "cell_type": "code",
      "metadata": {
        "colab": {
          "base_uri": "https://localhost:8080/"
        },
        "id": "MXaZlUH92x6l",
        "outputId": "89660af0-c71e-4f62-ec64-61a5a379e639"
      },
      "source": [
        "contador = np.arange(10)\n",
        "contador"
      ],
      "execution_count": null,
      "outputs": [
        {
          "output_type": "execute_result",
          "data": {
            "text/plain": [
              "array([0, 1, 2, 3, 4, 5, 6, 7, 8, 9])"
            ]
          },
          "metadata": {
            "tags": []
          },
          "execution_count": 41
        }
      ]
    },
    {
      "cell_type": "code",
      "metadata": {
        "colab": {
          "base_uri": "https://localhost:8080/"
        },
        "id": "FomHQljn2x6l",
        "outputId": "9fcd3b86-2200-45a8-c159-3d6dce46e28f"
      },
      "source": [
        "contador[0]"
      ],
      "execution_count": null,
      "outputs": [
        {
          "output_type": "execute_result",
          "data": {
            "text/plain": [
              "0"
            ]
          },
          "metadata": {
            "tags": []
          },
          "execution_count": 42
        }
      ]
    },
    {
      "cell_type": "code",
      "metadata": {
        "colab": {
          "base_uri": "https://localhost:8080/"
        },
        "id": "2-sdBthx2x6l",
        "outputId": "33a6d543-1714-4160-d63e-bf3b6a3d47d7"
      },
      "source": [
        "itens = 6\n",
        "index = itens - 1\n",
        "contador[index]"
      ],
      "execution_count": null,
      "outputs": [
        {
          "output_type": "execute_result",
          "data": {
            "text/plain": [
              "5"
            ]
          },
          "metadata": {
            "tags": []
          },
          "execution_count": 44
        }
      ]
    },
    {
      "cell_type": "code",
      "metadata": {
        "colab": {
          "base_uri": "https://localhost:8080/"
        },
        "id": "S1erKkCe2x6m",
        "outputId": "c32b0944-4e35-427a-e47f-eff66fa21c68"
      },
      "source": [
        "contador[-1]"
      ],
      "execution_count": null,
      "outputs": [
        {
          "output_type": "execute_result",
          "data": {
            "text/plain": [
              "9"
            ]
          },
          "metadata": {
            "tags": []
          },
          "execution_count": 45
        }
      ]
    },
    {
      "cell_type": "code",
      "metadata": {
        "colab": {
          "base_uri": "https://localhost:8080/"
        },
        "id": "J14rOa8C2x6m",
        "outputId": "f50f8e32-018d-40a2-85d9-101946ebfa70"
      },
      "source": [
        "dados[0]"
      ],
      "execution_count": null,
      "outputs": [
        {
          "output_type": "execute_result",
          "data": {
            "text/plain": [
              "array([44410.,  5712., 37123.,     0., 25757.])"
            ]
          },
          "metadata": {
            "tags": []
          },
          "execution_count": 46
        }
      ]
    },
    {
      "cell_type": "code",
      "metadata": {
        "colab": {
          "base_uri": "https://localhost:8080/"
        },
        "id": "3D3jaPMx2x6m",
        "outputId": "2745f6a1-9acf-4965-a89a-61a4fe310dad"
      },
      "source": [
        "dados[1]"
      ],
      "execution_count": null,
      "outputs": [
        {
          "output_type": "execute_result",
          "data": {
            "text/plain": [
              "array([2003., 1991., 1990., 2019., 2006.])"
            ]
          },
          "metadata": {
            "tags": []
          },
          "execution_count": 47
        }
      ]
    },
    {
      "cell_type": "code",
      "metadata": {
        "colab": {
          "base_uri": "https://localhost:8080/"
        },
        "id": "A_fUKYVl2x6m",
        "outputId": "fdcfb57b-9761-4a08-f0ea-6f9eedee6de3"
      },
      "source": [
        "dados[1][2]"
      ],
      "execution_count": null,
      "outputs": [
        {
          "output_type": "execute_result",
          "data": {
            "text/plain": [
              "1990.0"
            ]
          },
          "metadata": {
            "tags": []
          },
          "execution_count": 48
        }
      ]
    },
    {
      "cell_type": "code",
      "metadata": {
        "colab": {
          "base_uri": "https://localhost:8080/"
        },
        "id": "YrR4BcUe2x6m",
        "outputId": "c8b8ac44-62a5-4950-96d2-a59c2276da7a"
      },
      "source": [
        "dados[1,2]"
      ],
      "execution_count": null,
      "outputs": [
        {
          "output_type": "execute_result",
          "data": {
            "text/plain": [
              "1990.0"
            ]
          },
          "metadata": {
            "tags": []
          },
          "execution_count": 49
        }
      ]
    },
    {
      "cell_type": "markdown",
      "metadata": {
        "id": "03vka3Kr2x6m"
      },
      "source": [
        "### Fatiamento"
      ]
    },
    {
      "cell_type": "markdown",
      "metadata": {
        "id": "YwKjMvkv2x6m"
      },
      "source": [
        "![1410-img01.png](https://caelum-online-public.s3.amazonaws.com/1410-pythondatascience/01/1410-img01.png)"
      ]
    },
    {
      "cell_type": "code",
      "metadata": {
        "colab": {
          "base_uri": "https://localhost:8080/"
        },
        "id": "a9Jcc6w02x6m",
        "outputId": "e4a8f51b-dd0a-436e-8565-d48ee9a80e6c"
      },
      "source": [
        "contador = np.arange(10)\n",
        "contador"
      ],
      "execution_count": null,
      "outputs": [
        {
          "output_type": "execute_result",
          "data": {
            "text/plain": [
              "array([0, 1, 2, 3, 4, 5, 6, 7, 8, 9])"
            ]
          },
          "metadata": {
            "tags": []
          },
          "execution_count": 51
        }
      ]
    },
    {
      "cell_type": "code",
      "metadata": {
        "colab": {
          "base_uri": "https://localhost:8080/"
        },
        "id": "EheZc0hO2x6n",
        "outputId": "ce80e3b9-d9de-40a5-b349-ce5c64e8d4e7"
      },
      "source": [
        "contador[1:4]"
      ],
      "execution_count": null,
      "outputs": [
        {
          "output_type": "execute_result",
          "data": {
            "text/plain": [
              "array([1, 2, 3])"
            ]
          },
          "metadata": {
            "tags": []
          },
          "execution_count": 52
        }
      ]
    },
    {
      "cell_type": "code",
      "metadata": {
        "colab": {
          "base_uri": "https://localhost:8080/"
        },
        "id": "5ORIFRRi2x6n",
        "outputId": "66a984df-16b7-4370-ae29-29d1f7785a67"
      },
      "source": [
        "contador[1:8:2]"
      ],
      "execution_count": null,
      "outputs": [
        {
          "output_type": "execute_result",
          "data": {
            "text/plain": [
              "array([1, 3, 5, 7])"
            ]
          },
          "metadata": {
            "tags": []
          },
          "execution_count": 53
        }
      ]
    },
    {
      "cell_type": "code",
      "metadata": {
        "colab": {
          "base_uri": "https://localhost:8080/"
        },
        "id": "NPNiLXdd2x6n",
        "outputId": "91b46abd-9bed-4bdc-c0e2-f474aed34d2b"
      },
      "source": [
        "contador[::2]"
      ],
      "execution_count": null,
      "outputs": [
        {
          "output_type": "execute_result",
          "data": {
            "text/plain": [
              "array([0, 2, 4, 6, 8])"
            ]
          },
          "metadata": {
            "tags": []
          },
          "execution_count": 55
        }
      ]
    },
    {
      "cell_type": "code",
      "metadata": {
        "colab": {
          "base_uri": "https://localhost:8080/"
        },
        "id": "wkbj3x_W2x6n",
        "outputId": "87eeddba-214e-4b87-b8c5-5201cd832bbd"
      },
      "source": [
        "contador[1::2]"
      ],
      "execution_count": null,
      "outputs": [
        {
          "output_type": "execute_result",
          "data": {
            "text/plain": [
              "array([1, 3, 5, 7, 9])"
            ]
          },
          "metadata": {
            "tags": []
          },
          "execution_count": 56
        }
      ]
    },
    {
      "cell_type": "code",
      "metadata": {
        "colab": {
          "base_uri": "https://localhost:8080/"
        },
        "id": "_w2qhhfL2x6n",
        "outputId": "4298fbab-9d3c-408f-f60f-ddcb118cf13f"
      },
      "source": [
        "dados"
      ],
      "execution_count": null,
      "outputs": [
        {
          "output_type": "execute_result",
          "data": {
            "text/plain": [
              "array([[44410.,  5712., 37123.,     0., 25757.],\n",
              "       [ 2003.,  1991.,  1990.,  2019.,  2006.]])"
            ]
          },
          "metadata": {
            "tags": []
          },
          "execution_count": 57
        }
      ]
    },
    {
      "cell_type": "code",
      "metadata": {
        "colab": {
          "base_uri": "https://localhost:8080/"
        },
        "id": "dPwQnFOv2x6n",
        "outputId": "ce54a7c4-a158-4e0d-820a-a12f650c0035"
      },
      "source": [
        "dados[:, 1:4]"
      ],
      "execution_count": null,
      "outputs": [
        {
          "output_type": "execute_result",
          "data": {
            "text/plain": [
              "array([[ 5712., 37123.,     0.],\n",
              "       [ 1991.,  1990.,  2019.]])"
            ]
          },
          "metadata": {
            "tags": []
          },
          "execution_count": 58
        }
      ]
    },
    {
      "cell_type": "code",
      "metadata": {
        "colab": {
          "base_uri": "https://localhost:8080/"
        },
        "id": "MNV47A772x6t",
        "outputId": "c9818f67-7bde-4d9e-d4bb-d2070b3b7330"
      },
      "source": [
        "dados[:, 1:3]"
      ],
      "execution_count": null,
      "outputs": [
        {
          "output_type": "execute_result",
          "data": {
            "text/plain": [
              "array([[ 5712., 37123.],\n",
              "       [ 1991.,  1990.]])"
            ]
          },
          "metadata": {
            "tags": []
          },
          "execution_count": 59
        }
      ]
    },
    {
      "cell_type": "code",
      "metadata": {
        "colab": {
          "base_uri": "https://localhost:8080/"
        },
        "id": "606Rn1eh2x6u",
        "outputId": "ce06e93a-e534-4a85-a414-58b9716afefc"
      },
      "source": [
        "dados[:, 1:3][0] / (2020 - dados[:, 1:3][1])"
      ],
      "execution_count": null,
      "outputs": [
        {
          "output_type": "execute_result",
          "data": {
            "text/plain": [
              "array([ 196.96551724, 1237.43333333])"
            ]
          },
          "metadata": {
            "tags": []
          },
          "execution_count": 62
        }
      ]
    },
    {
      "cell_type": "markdown",
      "metadata": {
        "id": "Wz2SVvqd2x6u"
      },
      "source": [
        "### Indexção com Arrays Booleano"
      ]
    },
    {
      "cell_type": "code",
      "metadata": {
        "colab": {
          "base_uri": "https://localhost:8080/"
        },
        "id": "_OJQeiQe2x6u",
        "outputId": "c87b1dfb-dc89-43a9-b9ef-1d8fed52cb41"
      },
      "source": [
        "contador = np.arange(10)\n",
        "contador"
      ],
      "execution_count": null,
      "outputs": [
        {
          "output_type": "execute_result",
          "data": {
            "text/plain": [
              "array([0, 1, 2, 3, 4, 5, 6, 7, 8, 9])"
            ]
          },
          "metadata": {
            "tags": []
          },
          "execution_count": 63
        }
      ]
    },
    {
      "cell_type": "code",
      "metadata": {
        "colab": {
          "base_uri": "https://localhost:8080/"
        },
        "id": "anBXo3c12x6u",
        "outputId": "34d9054e-6f94-478e-bece-171752c8986e"
      },
      "source": [
        "contador > 5"
      ],
      "execution_count": null,
      "outputs": [
        {
          "output_type": "execute_result",
          "data": {
            "text/plain": [
              "array([False, False, False, False, False, False,  True,  True,  True,\n",
              "        True])"
            ]
          },
          "metadata": {
            "tags": []
          },
          "execution_count": 64
        }
      ]
    },
    {
      "cell_type": "code",
      "metadata": {
        "colab": {
          "base_uri": "https://localhost:8080/"
        },
        "id": "7O3o6uJ42x6u",
        "outputId": "8f43deab-3e79-45e9-89ff-e0ccc99abbc0"
      },
      "source": [
        "contador[contador > 5]"
      ],
      "execution_count": null,
      "outputs": [
        {
          "output_type": "execute_result",
          "data": {
            "text/plain": [
              "array([6, 7, 8, 9])"
            ]
          },
          "metadata": {
            "tags": []
          },
          "execution_count": 65
        }
      ]
    },
    {
      "cell_type": "code",
      "metadata": {
        "colab": {
          "base_uri": "https://localhost:8080/"
        },
        "id": "PF55G1N52x6v",
        "outputId": "8f366fe7-8771-4688-b1f5-24f88e521272"
      },
      "source": [
        "dados"
      ],
      "execution_count": null,
      "outputs": [
        {
          "output_type": "execute_result",
          "data": {
            "text/plain": [
              "array([[44410.,  5712., 37123.,     0., 25757.],\n",
              "       [ 2003.,  1991.,  1990.,  2019.,  2006.]])"
            ]
          },
          "metadata": {
            "tags": []
          },
          "execution_count": 66
        }
      ]
    },
    {
      "cell_type": "code",
      "metadata": {
        "colab": {
          "base_uri": "https://localhost:8080/"
        },
        "id": "FCHikgDo2x6v",
        "outputId": "7c0ab80f-cb40-421c-de05-fc423ccbd144"
      },
      "source": [
        "dados[1] > 2000"
      ],
      "execution_count": null,
      "outputs": [
        {
          "output_type": "execute_result",
          "data": {
            "text/plain": [
              "array([ True, False, False,  True,  True])"
            ]
          },
          "metadata": {
            "tags": []
          },
          "execution_count": 67
        }
      ]
    },
    {
      "cell_type": "code",
      "metadata": {
        "colab": {
          "base_uri": "https://localhost:8080/"
        },
        "id": "PArMNXNq2x6v",
        "outputId": "2b88bedd-aa50-48c4-bbd1-c7c90f5bd12c"
      },
      "source": [
        "dados[:, dados[1] > 2000]"
      ],
      "execution_count": null,
      "outputs": [
        {
          "output_type": "execute_result",
          "data": {
            "text/plain": [
              "array([[44410.,     0., 25757.],\n",
              "       [ 2003.,  2019.,  2006.]])"
            ]
          },
          "metadata": {
            "tags": []
          },
          "execution_count": 68
        }
      ]
    },
    {
      "cell_type": "code",
      "metadata": {
        "colab": {
          "base_uri": "https://localhost:8080/"
        },
        "id": "sJNGk8Ls2x6v",
        "outputId": "2a9b8fbb-7979-4e95-99f5-3344cf9fd697"
      },
      "source": [
        "dados[:, dados[1] > 2000] / (2020 - dados[:, dados[1] > 2000][1])"
      ],
      "execution_count": null,
      "outputs": [
        {
          "output_type": "execute_result",
          "data": {
            "text/plain": [
              "array([[2612.35294118,    0.        , 1839.78571429],\n",
              "       [ 117.82352941, 2019.        ,  143.28571429]])"
            ]
          },
          "metadata": {
            "tags": []
          },
          "execution_count": 70
        }
      ]
    },
    {
      "cell_type": "markdown",
      "metadata": {
        "id": "kIt-z1b_2x6v"
      },
      "source": [
        "# 10.5 Atributos e Métodos com Numpy"
      ]
    },
    {
      "cell_type": "code",
      "metadata": {
        "colab": {
          "base_uri": "https://localhost:8080/"
        },
        "id": "lIqFcYgQ2x6v",
        "outputId": "67dc80a0-dcdf-4cba-ba6e-455f97c40d76"
      },
      "source": [
        "dados = np.array([[44410., 5712., 37123., 0., 25757.],\n",
        "                  [2003, 1991, 1990, 2019, 2006]])\n",
        "dados"
      ],
      "execution_count": null,
      "outputs": [
        {
          "output_type": "execute_result",
          "data": {
            "text/plain": [
              "array([[44410.,  5712., 37123.,     0., 25757.],\n",
              "       [ 2003.,  1991.,  1990.,  2019.,  2006.]])"
            ]
          },
          "metadata": {
            "tags": []
          },
          "execution_count": 72
        }
      ]
    },
    {
      "cell_type": "markdown",
      "metadata": {
        "id": "svl3SKWl2x6w"
      },
      "source": [
        "## ndarray.shape\n",
        "\n",
        "Retorna uma tupla com as dimensões do array.\n"
      ]
    },
    {
      "cell_type": "code",
      "metadata": {
        "colab": {
          "base_uri": "https://localhost:8080/"
        },
        "id": "CI8nrYmX2x6w",
        "outputId": "717802ac-d13d-4d89-b29e-d16447ad04d3"
      },
      "source": [
        "dados.shape"
      ],
      "execution_count": null,
      "outputs": [
        {
          "output_type": "execute_result",
          "data": {
            "text/plain": [
              "(2, 5)"
            ]
          },
          "metadata": {
            "tags": []
          },
          "execution_count": 73
        }
      ]
    },
    {
      "cell_type": "markdown",
      "metadata": {
        "id": "c14QM_L42x6w"
      },
      "source": [
        "## *ndarray.ndim*\n",
        "\n",
        "Retorna o número de dimensões do array."
      ]
    },
    {
      "cell_type": "code",
      "metadata": {
        "colab": {
          "base_uri": "https://localhost:8080/"
        },
        "id": "eXx-moDG2x6w",
        "outputId": "4340fb95-abc7-4619-a252-e2b49ed917aa"
      },
      "source": [
        "dados.ndim"
      ],
      "execution_count": null,
      "outputs": [
        {
          "output_type": "execute_result",
          "data": {
            "text/plain": [
              "2"
            ]
          },
          "metadata": {
            "tags": []
          },
          "execution_count": 74
        }
      ]
    },
    {
      "cell_type": "markdown",
      "metadata": {
        "id": "vZ6G1zav2x6w"
      },
      "source": [
        "## *ndarray.size*\n",
        "\n",
        "Retorna o número de elementos do array."
      ]
    },
    {
      "cell_type": "code",
      "metadata": {
        "colab": {
          "base_uri": "https://localhost:8080/"
        },
        "id": "iK9R0m3n2x6w",
        "outputId": "209f8a6f-5f4d-4cfd-f365-686f999d954d"
      },
      "source": [
        "dados.size"
      ],
      "execution_count": null,
      "outputs": [
        {
          "output_type": "execute_result",
          "data": {
            "text/plain": [
              "10"
            ]
          },
          "metadata": {
            "tags": []
          },
          "execution_count": 75
        }
      ]
    },
    {
      "cell_type": "markdown",
      "metadata": {
        "id": "CxOdvLYy2x6w"
      },
      "source": [
        "### *ndarray.dtype*\n",
        "\n",
        "Retorna o tipo de dados dos elementos do array."
      ]
    },
    {
      "cell_type": "code",
      "metadata": {
        "colab": {
          "base_uri": "https://localhost:8080/"
        },
        "id": "PCbnYiaC2x6w",
        "outputId": "f37b599c-79c6-4123-9cde-301284e83f38"
      },
      "source": [
        "dados.dtype"
      ],
      "execution_count": null,
      "outputs": [
        {
          "output_type": "execute_result",
          "data": {
            "text/plain": [
              "dtype('float64')"
            ]
          },
          "metadata": {
            "tags": []
          },
          "execution_count": 76
        }
      ]
    },
    {
      "cell_type": "markdown",
      "metadata": {
        "id": "eQkxDyPI2x6x"
      },
      "source": [
        "## *ndarray.T*\n",
        "\n",
        "Retorna o array transposto, isto é, converte linhas em colunas e vice versa."
      ]
    },
    {
      "cell_type": "code",
      "metadata": {
        "colab": {
          "base_uri": "https://localhost:8080/"
        },
        "id": "bTJiSho62x6x",
        "outputId": "2551b54b-9a7d-406d-c6c7-c1e7cc224d20"
      },
      "source": [
        "dados.T"
      ],
      "execution_count": null,
      "outputs": [
        {
          "output_type": "execute_result",
          "data": {
            "text/plain": [
              "array([[44410.,  2003.],\n",
              "       [ 5712.,  1991.],\n",
              "       [37123.,  1990.],\n",
              "       [    0.,  2019.],\n",
              "       [25757.,  2006.]])"
            ]
          },
          "metadata": {
            "tags": []
          },
          "execution_count": 77
        }
      ]
    },
    {
      "cell_type": "markdown",
      "metadata": {
        "id": "C9lT30o92x6x"
      },
      "source": [
        "## *ndarray.tolist()*\n",
        "\n",
        "Retorna o array como uma lista Python."
      ]
    },
    {
      "cell_type": "code",
      "metadata": {
        "colab": {
          "base_uri": "https://localhost:8080/"
        },
        "id": "A5Ex7m9O2x6x",
        "outputId": "61265944-c264-4197-e9d2-7ef8228a8dcb"
      },
      "source": [
        "dados.tolist()"
      ],
      "execution_count": null,
      "outputs": [
        {
          "output_type": "execute_result",
          "data": {
            "text/plain": [
              "[[44410.0, 5712.0, 37123.0, 0.0, 25757.0],\n",
              " [2003.0, 1991.0, 1990.0, 2019.0, 2006.0]]"
            ]
          },
          "metadata": {
            "tags": []
          },
          "execution_count": 81
        }
      ]
    },
    {
      "cell_type": "markdown",
      "metadata": {
        "id": "-RTeAq792x6x"
      },
      "source": [
        "## *ndarray.reshape(shape[, order])*\n",
        "\n",
        "Retorna um array que contém os mesmos dados com uma nova forma."
      ]
    },
    {
      "cell_type": "code",
      "metadata": {
        "colab": {
          "base_uri": "https://localhost:8080/"
        },
        "id": "o9ioORwm2x6x",
        "outputId": "f3c24df5-d5d4-4223-b542-7a807c9c0e70"
      },
      "source": [
        "contador = np.arange(10)\n",
        "contador"
      ],
      "execution_count": null,
      "outputs": [
        {
          "output_type": "execute_result",
          "data": {
            "text/plain": [
              "array([0, 1, 2, 3, 4, 5, 6, 7, 8, 9])"
            ]
          },
          "metadata": {
            "tags": []
          },
          "execution_count": 82
        }
      ]
    },
    {
      "cell_type": "code",
      "metadata": {
        "colab": {
          "base_uri": "https://localhost:8080/"
        },
        "id": "fj9tzkko2x6x",
        "outputId": "cd80d652-1dbc-495e-8bf1-f337de439bc0"
      },
      "source": [
        "contador.reshape((5,2))"
      ],
      "execution_count": null,
      "outputs": [
        {
          "output_type": "execute_result",
          "data": {
            "text/plain": [
              "array([[0, 1],\n",
              "       [2, 3],\n",
              "       [4, 5],\n",
              "       [6, 7],\n",
              "       [8, 9]])"
            ]
          },
          "metadata": {
            "tags": []
          },
          "execution_count": 83
        }
      ]
    },
    {
      "cell_type": "code",
      "metadata": {
        "colab": {
          "base_uri": "https://localhost:8080/"
        },
        "id": "0nxk08Vr2x6y",
        "outputId": "402ec45b-856e-4bdb-9366-27f811bd5b94"
      },
      "source": [
        "contador.reshape((5,2), order='C')"
      ],
      "execution_count": null,
      "outputs": [
        {
          "output_type": "execute_result",
          "data": {
            "text/plain": [
              "array([[0, 1],\n",
              "       [2, 3],\n",
              "       [4, 5],\n",
              "       [6, 7],\n",
              "       [8, 9]])"
            ]
          },
          "metadata": {
            "tags": []
          },
          "execution_count": 84
        }
      ]
    },
    {
      "cell_type": "code",
      "metadata": {
        "colab": {
          "base_uri": "https://localhost:8080/"
        },
        "id": "mt8gTFMb2x6y",
        "outputId": "10ab98f9-cbbc-410f-b12b-4be284fd2ca0"
      },
      "source": [
        "contador.reshape((5,2), order='F')"
      ],
      "execution_count": null,
      "outputs": [
        {
          "output_type": "execute_result",
          "data": {
            "text/plain": [
              "array([[0, 5],\n",
              "       [1, 6],\n",
              "       [2, 7],\n",
              "       [3, 8],\n",
              "       [4, 9]])"
            ]
          },
          "metadata": {
            "tags": []
          },
          "execution_count": 85
        }
      ]
    },
    {
      "cell_type": "code",
      "metadata": {
        "id": "5qHyPaEn2x6y"
      },
      "source": [
        "km = [44410, 5712, 37123, 0, 25757]\n",
        "anos = [2003, 1991, 1990, 2019, 2006]"
      ],
      "execution_count": null,
      "outputs": []
    },
    {
      "cell_type": "code",
      "metadata": {
        "colab": {
          "base_uri": "https://localhost:8080/"
        },
        "id": "ckaCXXup2x6y",
        "outputId": "32e9ead2-312d-4487-97e5-cc5ce9be3add"
      },
      "source": [
        "info_carros = km + anos\n",
        "info_carros"
      ],
      "execution_count": null,
      "outputs": [
        {
          "output_type": "execute_result",
          "data": {
            "text/plain": [
              "[44410, 5712, 37123, 0, 25757, 2003, 1991, 1990, 2019, 2006]"
            ]
          },
          "metadata": {
            "tags": []
          },
          "execution_count": 87
        }
      ]
    },
    {
      "cell_type": "code",
      "metadata": {
        "colab": {
          "base_uri": "https://localhost:8080/"
        },
        "id": "5R72fWII2x6y",
        "outputId": "2c5f6249-3605-49b2-e8b1-4cb0d4bbe94c"
      },
      "source": [
        "np.array(info_carros)"
      ],
      "execution_count": null,
      "outputs": [
        {
          "output_type": "execute_result",
          "data": {
            "text/plain": [
              "array([44410,  5712, 37123,     0, 25757,  2003,  1991,  1990,  2019,\n",
              "        2006])"
            ]
          },
          "metadata": {
            "tags": []
          },
          "execution_count": 88
        }
      ]
    },
    {
      "cell_type": "code",
      "metadata": {
        "colab": {
          "base_uri": "https://localhost:8080/"
        },
        "id": "6pCbcp5X2x6z",
        "outputId": "49416f05-d232-4360-b84c-410cc21be091"
      },
      "source": [
        "np.array(info_carros).reshape((2,5))"
      ],
      "execution_count": null,
      "outputs": [
        {
          "output_type": "execute_result",
          "data": {
            "text/plain": [
              "array([[44410,  5712, 37123,     0, 25757],\n",
              "       [ 2003,  1991,  1990,  2019,  2006]])"
            ]
          },
          "metadata": {
            "tags": []
          },
          "execution_count": 89
        }
      ]
    },
    {
      "cell_type": "code",
      "metadata": {
        "colab": {
          "base_uri": "https://localhost:8080/"
        },
        "id": "Q-7upUb72x6z",
        "outputId": "76a0019d-6c54-4e00-e8d7-6d503c274508"
      },
      "source": [
        "np.array(info_carros).reshape((5,2), order='F')"
      ],
      "execution_count": null,
      "outputs": [
        {
          "output_type": "execute_result",
          "data": {
            "text/plain": [
              "array([[44410,  2003],\n",
              "       [ 5712,  1991],\n",
              "       [37123,  1990],\n",
              "       [    0,  2019],\n",
              "       [25757,  2006]])"
            ]
          },
          "metadata": {
            "tags": []
          },
          "execution_count": 91
        }
      ]
    },
    {
      "cell_type": "markdown",
      "metadata": {
        "id": "MUi1KhQ52x6z"
      },
      "source": [
        "## *ndarray.resize(new_shape[, refcheck])*\n",
        "\n",
        "Altera a forma e o tamanho do array."
      ]
    },
    {
      "cell_type": "code",
      "metadata": {
        "colab": {
          "base_uri": "https://localhost:8080/"
        },
        "id": "XV9wRHZi2x6z",
        "outputId": "14ee75ac-7a58-4a65-c273-469a72c68ce7"
      },
      "source": [
        "dados_new = dados.copy()\n",
        "dados_new"
      ],
      "execution_count": null,
      "outputs": [
        {
          "output_type": "execute_result",
          "data": {
            "text/plain": [
              "array([[44410.,  5712., 37123.,     0., 25757.],\n",
              "       [ 2003.,  1991.,  1990.,  2019.,  2006.]])"
            ]
          },
          "metadata": {
            "tags": []
          },
          "execution_count": 93
        }
      ]
    },
    {
      "cell_type": "code",
      "metadata": {
        "id": "OFjRxCqA2x6z"
      },
      "source": [
        "dados_new.resize((3,5),refcheck=False)"
      ],
      "execution_count": null,
      "outputs": []
    },
    {
      "cell_type": "code",
      "metadata": {
        "colab": {
          "base_uri": "https://localhost:8080/"
        },
        "id": "3jQoxnth2x6z",
        "outputId": "adb9e047-d765-48c1-a8bb-8fdec69092bf"
      },
      "source": [
        "dados_new"
      ],
      "execution_count": null,
      "outputs": [
        {
          "output_type": "execute_result",
          "data": {
            "text/plain": [
              "array([[44410.,  5712., 37123.,     0., 25757.],\n",
              "       [ 2003.,  1991.,  1990.,  2019.,  2006.],\n",
              "       [    0.,     0.,     0.,     0.,     0.]])"
            ]
          },
          "metadata": {
            "tags": []
          },
          "execution_count": 96
        }
      ]
    },
    {
      "cell_type": "code",
      "metadata": {
        "id": "dnk3Y3tx2x6z"
      },
      "source": [
        "dados_new[2] = dados_new[0] / (2021 - dados_new[1])"
      ],
      "execution_count": null,
      "outputs": []
    },
    {
      "cell_type": "code",
      "metadata": {
        "colab": {
          "base_uri": "https://localhost:8080/"
        },
        "id": "za-r3EIn2x60",
        "outputId": "12a10b49-1b97-471a-c229-0cf007ba36d7"
      },
      "source": [
        "dados_new"
      ],
      "execution_count": null,
      "outputs": [
        {
          "output_type": "execute_result",
          "data": {
            "text/plain": [
              "array([[44410.        ,  5712.        , 37123.        ,     0.        ,\n",
              "        25757.        ],\n",
              "       [ 2003.        ,  1991.        ,  1990.        ,  2019.        ,\n",
              "         2006.        ],\n",
              "       [ 2467.22222222,   190.4       ,  1197.51612903,     0.        ,\n",
              "         1717.13333333]])"
            ]
          },
          "metadata": {
            "tags": []
          },
          "execution_count": 105
        }
      ]
    },
    {
      "cell_type": "markdown",
      "metadata": {
        "id": "xHs14WVB2x60"
      },
      "source": [
        "# 10.6 Estatísticas com Array Numpy"
      ]
    },
    {
      "cell_type": "code",
      "metadata": {
        "id": "79wJQ0tP2x60"
      },
      "source": [
        "anos = np.loadtxt(fname = \"carros-anos.txt\", dtype = int)\n",
        "km = np.loadtxt(fname = \"carros-km.txt\")\n",
        "valor = np.loadtxt(fname = \"carros-valor.txt\")"
      ],
      "execution_count": null,
      "outputs": []
    },
    {
      "cell_type": "code",
      "metadata": {
        "colab": {
          "base_uri": "https://localhost:8080/"
        },
        "id": "7v6RcdBE2x60",
        "outputId": "fd3d4513-45b9-4225-f2e6-178028134a12"
      },
      "source": [
        "anos.shape"
      ],
      "execution_count": null,
      "outputs": [
        {
          "output_type": "execute_result",
          "data": {
            "text/plain": [
              "(258,)"
            ]
          },
          "metadata": {
            "tags": []
          },
          "execution_count": 107
        }
      ]
    },
    {
      "cell_type": "code",
      "metadata": {
        "id": "38Oo5Wd42x60"
      },
      "source": [
        "dataset = np.column_stack((anos, km, valor))"
      ],
      "execution_count": null,
      "outputs": []
    },
    {
      "cell_type": "code",
      "metadata": {
        "id": "izD_tKWs2x60"
      },
      "source": [
        "dataset"
      ],
      "execution_count": null,
      "outputs": []
    },
    {
      "cell_type": "code",
      "metadata": {
        "colab": {
          "base_uri": "https://localhost:8080/"
        },
        "id": "mHPH16LS2x60",
        "outputId": "a921c88b-e579-4b86-afff-eeba809b031b"
      },
      "source": [
        "dataset.shape"
      ],
      "execution_count": null,
      "outputs": [
        {
          "output_type": "execute_result",
          "data": {
            "text/plain": [
              "(258, 3)"
            ]
          },
          "metadata": {
            "tags": []
          },
          "execution_count": 112
        }
      ]
    },
    {
      "cell_type": "markdown",
      "metadata": {
        "id": "LJSo-yAw2x60"
      },
      "source": [
        "## *np.mean()*\n",
        "\n",
        "Retorna a média dos elementos do array ao longo do eixo especificado."
      ]
    },
    {
      "cell_type": "code",
      "metadata": {
        "colab": {
          "base_uri": "https://localhost:8080/"
        },
        "id": "Kx9LDDl82x60",
        "outputId": "6eadaa79-786a-43bf-9cfd-2d65ac1198ea"
      },
      "source": [
        "np.mean(dataset, axis = 0)"
      ],
      "execution_count": null,
      "outputs": [
        {
          "output_type": "execute_result",
          "data": {
            "text/plain": [
              "array([ 2007.51162791, 44499.41472868, 98960.51310078])"
            ]
          },
          "metadata": {
            "tags": []
          },
          "execution_count": 116
        }
      ]
    },
    {
      "cell_type": "code",
      "metadata": {
        "colab": {
          "base_uri": "https://localhost:8080/"
        },
        "id": "52vV5pXG2x61",
        "outputId": "623d2056-296f-4815-f2c0-1e4ce4cf6008"
      },
      "source": [
        "np.mean(dataset[:, 1])"
      ],
      "execution_count": null,
      "outputs": [
        {
          "output_type": "execute_result",
          "data": {
            "text/plain": [
              "44499.41472868217"
            ]
          },
          "metadata": {
            "tags": []
          },
          "execution_count": 118
        }
      ]
    },
    {
      "cell_type": "code",
      "metadata": {
        "colab": {
          "base_uri": "https://localhost:8080/"
        },
        "id": "nCcBck8Y2x61",
        "outputId": "78734f67-154c-4fcd-fca5-e977675f8b33"
      },
      "source": [
        "np.mean(dataset[:, 2])"
      ],
      "execution_count": null,
      "outputs": [
        {
          "output_type": "execute_result",
          "data": {
            "text/plain": [
              "98960.51310077519"
            ]
          },
          "metadata": {
            "tags": []
          },
          "execution_count": 119
        }
      ]
    },
    {
      "cell_type": "markdown",
      "metadata": {
        "id": "1kOStLP32x61"
      },
      "source": [
        "## *np.std()*\n",
        "\n",
        "Retorna o desvio padrão dos elementos do array ao longo do eixo especificado."
      ]
    },
    {
      "cell_type": "code",
      "metadata": {
        "colab": {
          "base_uri": "https://localhost:8080/"
        },
        "id": "_Rx0YeHw2x61",
        "outputId": "3610b22b-7649-4203-d1ec-d611e6c5316e"
      },
      "source": [
        "np.std(dataset[:, 2])"
      ],
      "execution_count": null,
      "outputs": [
        {
          "output_type": "execute_result",
          "data": {
            "text/plain": [
              "29754.101150388564"
            ]
          },
          "metadata": {
            "tags": []
          },
          "execution_count": 120
        }
      ]
    },
    {
      "cell_type": "markdown",
      "metadata": {
        "id": "NPOj3vqT2x61"
      },
      "source": [
        "## *ndarray.sum()*\n",
        "\n",
        "Retorna a soma dos elementos do array ao longo do eixo especificado."
      ]
    },
    {
      "cell_type": "code",
      "metadata": {
        "colab": {
          "base_uri": "https://localhost:8080/"
        },
        "id": "e_B2cGY02x61",
        "outputId": "75059d4f-ac4e-471b-cf2d-657e332728bc"
      },
      "source": [
        "dataset.sum(axis = 0)"
      ],
      "execution_count": null,
      "outputs": [
        {
          "output_type": "execute_result",
          "data": {
            "text/plain": [
              "array([  517938.        , 11480849.        , 25531812.37999999])"
            ]
          },
          "metadata": {
            "tags": []
          },
          "execution_count": 122
        }
      ]
    },
    {
      "cell_type": "code",
      "metadata": {
        "colab": {
          "base_uri": "https://localhost:8080/"
        },
        "id": "SlVQIoov2x61",
        "outputId": "9ff11e7c-8644-40b4-e901-8b0f2652a4f3"
      },
      "source": [
        "dataset[:, 1].sum()"
      ],
      "execution_count": null,
      "outputs": [
        {
          "output_type": "execute_result",
          "data": {
            "text/plain": [
              "11480849.0"
            ]
          },
          "metadata": {
            "tags": []
          },
          "execution_count": 123
        }
      ]
    },
    {
      "cell_type": "code",
      "metadata": {
        "colab": {
          "base_uri": "https://localhost:8080/"
        },
        "id": "1cD5meT-2x61",
        "outputId": "bb3e7340-554d-46f1-b9f1-45543588d23b"
      },
      "source": [
        "np.sum(dataset, axis = 0)"
      ],
      "execution_count": null,
      "outputs": [
        {
          "output_type": "execute_result",
          "data": {
            "text/plain": [
              "array([  517938.        , 11480849.        , 25531812.37999999])"
            ]
          },
          "metadata": {
            "tags": []
          },
          "execution_count": 125
        }
      ]
    },
    {
      "cell_type": "code",
      "metadata": {
        "colab": {
          "base_uri": "https://localhost:8080/"
        },
        "id": "vQD9t09F2x62",
        "outputId": "34b28efe-c5e5-4e1c-906b-e1802e54dc2f"
      },
      "source": [
        "np.sum(dataset[:, 2])"
      ],
      "execution_count": null,
      "outputs": [
        {
          "output_type": "execute_result",
          "data": {
            "text/plain": [
              "25531812.38"
            ]
          },
          "metadata": {
            "tags": []
          },
          "execution_count": 126
        }
      ]
    },
    {
      "cell_type": "markdown",
      "metadata": {
        "id": "6agp0H5yFZJr"
      },
      "source": [
        "## *np.std()*\n",
        "\n",
        "Retorna o desvio padrão dos elementos do array ao longo do eixo especificado."
      ]
    },
    {
      "cell_type": "code",
      "metadata": {
        "colab": {
          "base_uri": "https://localhost:8080/"
        },
        "id": "BZMuZDNUFX5L",
        "outputId": "3610b22b-7649-4203-d1ec-d611e6c5316e"
      },
      "source": [
        "np.std(dataset[:, 2])"
      ],
      "execution_count": null,
      "outputs": [
        {
          "output_type": "execute_result",
          "data": {
            "text/plain": [
              "29754.101150388564"
            ]
          },
          "metadata": {
            "tags": []
          },
          "execution_count": 120
        }
      ]
    },
    {
      "cell_type": "markdown",
      "metadata": {
        "id": "gDLWlIzJFivE"
      },
      "source": [
        "## *ndarray.sum()*\n",
        "\n",
        "Retorna a soma dos elementos do array ao longo do eixo especificado."
      ]
    },
    {
      "cell_type": "code",
      "metadata": {
        "colab": {
          "base_uri": "https://localhost:8080/"
        },
        "id": "y44OiUDmFfUg",
        "outputId": "75059d4f-ac4e-471b-cf2d-657e332728bc"
      },
      "source": [
        "dataset.sum(axis = 0)"
      ],
      "execution_count": null,
      "outputs": [
        {
          "output_type": "execute_result",
          "data": {
            "text/plain": [
              "array([  517938.        , 11480849.        , 25531812.37999999])"
            ]
          },
          "metadata": {
            "tags": []
          },
          "execution_count": 122
        }
      ]
    },
    {
      "cell_type": "code",
      "metadata": {
        "colab": {
          "base_uri": "https://localhost:8080/"
        },
        "id": "JC5YdE3iFm16",
        "outputId": "9ff11e7c-8644-40b4-e901-8b0f2652a4f3"
      },
      "source": [
        "dataset[:, 1].sum()"
      ],
      "execution_count": null,
      "outputs": [
        {
          "output_type": "execute_result",
          "data": {
            "text/plain": [
              "11480849.0"
            ]
          },
          "metadata": {
            "tags": []
          },
          "execution_count": 123
        }
      ]
    },
    {
      "cell_type": "code",
      "metadata": {
        "colab": {
          "base_uri": "https://localhost:8080/"
        },
        "id": "6I__NnzaFvqQ",
        "outputId": "bb3e7340-554d-46f1-b9f1-45543588d23b"
      },
      "source": [
        "np.sum(dataset, axis = 0)"
      ],
      "execution_count": null,
      "outputs": [
        {
          "output_type": "execute_result",
          "data": {
            "text/plain": [
              "array([  517938.        , 11480849.        , 25531812.37999999])"
            ]
          },
          "metadata": {
            "tags": []
          },
          "execution_count": 125
        }
      ]
    },
    {
      "cell_type": "code",
      "metadata": {
        "colab": {
          "base_uri": "https://localhost:8080/"
        },
        "id": "eiDvRZ27F1oI",
        "outputId": "34b28efe-c5e5-4e1c-906b-e1802e54dc2f"
      },
      "source": [
        "np.sum(dataset[:, 2])"
      ],
      "execution_count": null,
      "outputs": [
        {
          "output_type": "execute_result",
          "data": {
            "text/plain": [
              "25531812.38"
            ]
          },
          "metadata": {
            "tags": []
          },
          "execution_count": 126
        }
      ]
    }
  ]
}